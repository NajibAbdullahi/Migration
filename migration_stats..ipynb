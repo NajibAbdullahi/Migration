{
 "cells": [
  {
   "cell_type": "markdown",
   "metadata": {},
   "source": [
    "# Migration Analysis in East Africa\n",
    "***\n",
    "<img src=\"https://images.unsplash.com/photo-1587290538095-53583b6753e5?ixlib=rb-4.0.3&ixid=M3wxMjA3fDB8MHxzZWFyY2h8Mnx8TWlncmF0aW9ufGVufDB8fDB8fHww&auto=format&fit=crop&w=600&q=600\" alt=\"crowded street\" style=\"width:500px;\">"
   ]
  },
  {
   "cell_type": "markdown",
   "metadata": {},
   "source": [
    "<a id=\"WebScraping\"><h2>Getting Data</h2></a>\n",
    "***\n",
    "<a id=\"ScraperImport\"><h3>Importing Libraries</h3></a>"
   ]
  },
  {
   "cell_type": "code",
   "execution_count": 81,
   "metadata": {},
   "outputs": [],
   "source": [
    "\n",
    "import pandas as pd\n",
    "import time\n",
    "import warnings\n",
    "warnings.filterwarnings('ignore')\n",
    "pd.set_option(\"display.precision\", 2)\n",
    "\n",
    "# Data Wrapper\n",
    "import wbdata\n",
    "\n",
    "# visualization\n",
    "import matplotlib as mpl\n",
    "import matplotlib.pyplot as plt\n",
    "import seaborn as sns\n",
    "import plotly.express as px\n",
    "import plotly.figure_factory as ff\n",
    "import plotly.graph_objects as go\n",
    "import plotly.io as pio\n",
    "from plotly.subplots import make_subplots\n",
    "\n",
    "# styling\n",
    "%matplotlib inline\n",
    "sns.set_theme(style=\"dark\")\n",
    "mpl.rcParams['axes.unicode_minus'] = False\n",
    "pd.set_option('display.max_columns',None)\n",
    "plt.style.use('seaborn-dark-palette')\n",
    "plt.style.use('dark_background')"
   ]
  },
  {
   "cell_type": "markdown",
   "metadata": {},
   "source": [
    "<a id=\"indicatorspecific\"><h3>Import Data from WBDATA API</h3></a>"
   ]
  },
  {
   "cell_type": "code",
   "execution_count": 95,
   "metadata": {},
   "outputs": [
    {
     "name": "stdout",
     "output_type": "stream",
     "text": [
      "     Country       Year  Net migration  International migrant stock, total  \\\n",
      "0    Burundi 2022-01-01            NaN                                 NaN   \n",
      "1    Burundi 2021-01-01       -14415.0                                 NaN   \n",
      "2    Burundi 2020-01-01       -10186.0                                 NaN   \n",
      "3    Burundi 2019-01-01        14241.0                                 NaN   \n",
      "4    Burundi 2018-01-01        68145.0                                 NaN   \n",
      "..       ...        ...            ...                                 ...   \n",
      "688   Uganda 1964-01-01        -3172.0                                 NaN   \n",
      "689   Uganda 1963-01-01        -3057.0                                 NaN   \n",
      "690   Uganda 1962-01-01        -6470.0                                 NaN   \n",
      "691   Uganda 1961-01-01        -7893.0                                 NaN   \n",
      "692   Uganda 1960-01-01        -7586.0                            771730.0   \n",
      "\n",
      "     International migrant stock (% of population)  \n",
      "0                                              NaN  \n",
      "1                                              NaN  \n",
      "2                                              NaN  \n",
      "3                                              NaN  \n",
      "4                                              NaN  \n",
      "..                                             ...  \n",
      "688                                            NaN  \n",
      "689                                            NaN  \n",
      "690                                            NaN  \n",
      "691                                            NaN  \n",
      "692                                            NaN  \n",
      "\n",
      "[693 rows x 5 columns]\n"
     ]
    }
   ],
   "source": [
    "# Define the list of indicators\n",
    "indicators = {\n",
    "    \"SM.POP.NETM\": \"Net migration\",\n",
    "    \"SM.POP.TOTL\":\"International migrant stock, total\",\n",
    "    \"SM.POP.TOTL.ZS\":\"International migrant stock (% of population)\",\n",
    "}\n",
    "\n",
    "# Define the list of countries\n",
    "country_codes = [\"SOM\", \"KEN\", \"ETH\", \"SDN\", \"SSD\", \"ERI\", \"DJI\", \"RWA\", \"UGA\", \"BDI\", \"TZA\"]\n",
    "\n",
    "# Get the data as a pandas DataFrame\n",
    "df=wbdata.get_dataframe(indicators,country=country_codes,convert_date=True, keep_levels=True)\n",
    "\n",
    "# Reset the index and rename the columns\n",
    "df = df.reset_index().rename(columns={\"country\": \"Country\", \"date\": \"Year\"})\n",
    "\n",
    "df.to_csv('east_africa_mig_data.csv',index=False, header=True)\n",
    "# Display the DataFrame\n",
    "print(df)"
   ]
  },
  {
   "cell_type": "markdown",
   "metadata": {},
   "source": [
    "<a id=\"EDA\"><h2>Exploratory Data Analysis</h2></a>\n",
    "***\n",
    "<a id=\"structure\"><h3>Checking Data Structure</h3></a>"
   ]
  },
  {
   "cell_type": "code",
   "execution_count": 97,
   "metadata": {},
   "outputs": [
    {
     "name": "stdout",
     "output_type": "stream",
     "text": [
      "<class 'pandas.core.frame.DataFrame'>\n",
      "RangeIndex: 693 entries, 0 to 692\n",
      "Data columns (total 5 columns):\n",
      " #   Column                                         Non-Null Count  Dtype  \n",
      "---  ------                                         --------------  -----  \n",
      " 0   Country                                        693 non-null    object \n",
      " 1   Year                                           693 non-null    object \n",
      " 2   Net migration                                  682 non-null    float64\n",
      " 3   International migrant stock, total             122 non-null    float64\n",
      " 4   International migrant stock (% of population)  57 non-null     float64\n",
      "dtypes: float64(3), object(2)\n",
      "memory usage: 27.2+ KB\n"
     ]
    }
   ],
   "source": [
    "df=pd.read_csv('east_africa_mig_data.csv')\n",
    "df.rename(columns={'Country Name':'Country'},inplace=True)\n",
    "df.info()"
   ]
  },
  {
   "cell_type": "code",
   "execution_count": 98,
   "metadata": {},
   "outputs": [
    {
     "name": "stdout",
     "output_type": "stream",
     "text": [
      "(693, 5)\n"
     ]
    },
    {
     "data": {
      "text/html": [
       "<div>\n",
       "<style scoped>\n",
       "    .dataframe tbody tr th:only-of-type {\n",
       "        vertical-align: middle;\n",
       "    }\n",
       "\n",
       "    .dataframe tbody tr th {\n",
       "        vertical-align: top;\n",
       "    }\n",
       "\n",
       "    .dataframe thead th {\n",
       "        text-align: right;\n",
       "    }\n",
       "</style>\n",
       "<table border=\"1\" class=\"dataframe\">\n",
       "  <thead>\n",
       "    <tr style=\"text-align: right;\">\n",
       "      <th></th>\n",
       "      <th>Country</th>\n",
       "      <th>Year</th>\n",
       "      <th>Net migration</th>\n",
       "      <th>International migrant stock, total</th>\n",
       "      <th>International migrant stock (% of population)</th>\n",
       "    </tr>\n",
       "  </thead>\n",
       "  <tbody>\n",
       "    <tr>\n",
       "      <th>690</th>\n",
       "      <td>Uganda</td>\n",
       "      <td>1962-01-01</td>\n",
       "      <td>-6470.0</td>\n",
       "      <td>NaN</td>\n",
       "      <td>NaN</td>\n",
       "    </tr>\n",
       "    <tr>\n",
       "      <th>691</th>\n",
       "      <td>Uganda</td>\n",
       "      <td>1961-01-01</td>\n",
       "      <td>-7893.0</td>\n",
       "      <td>NaN</td>\n",
       "      <td>NaN</td>\n",
       "    </tr>\n",
       "    <tr>\n",
       "      <th>692</th>\n",
       "      <td>Uganda</td>\n",
       "      <td>1960-01-01</td>\n",
       "      <td>-7586.0</td>\n",
       "      <td>771730.0</td>\n",
       "      <td>NaN</td>\n",
       "    </tr>\n",
       "  </tbody>\n",
       "</table>\n",
       "</div>"
      ],
      "text/plain": [
       "    Country        Year  Net migration  International migrant stock, total  \\\n",
       "690  Uganda  1962-01-01        -6470.0                                 NaN   \n",
       "691  Uganda  1961-01-01        -7893.0                                 NaN   \n",
       "692  Uganda  1960-01-01        -7586.0                            771730.0   \n",
       "\n",
       "     International migrant stock (% of population)  \n",
       "690                                            NaN  \n",
       "691                                            NaN  \n",
       "692                                            NaN  "
      ]
     },
     "execution_count": 98,
     "metadata": {},
     "output_type": "execute_result"
    }
   ],
   "source": [
    "print(df.shape)\n",
    "df.tail(3)"
   ]
  },
  {
   "cell_type": "code",
   "execution_count": 99,
   "metadata": {},
   "outputs": [
    {
     "data": {
      "text/html": [
       "<div>\n",
       "<style scoped>\n",
       "    .dataframe tbody tr th:only-of-type {\n",
       "        vertical-align: middle;\n",
       "    }\n",
       "\n",
       "    .dataframe tbody tr th {\n",
       "        vertical-align: top;\n",
       "    }\n",
       "\n",
       "    .dataframe thead th {\n",
       "        text-align: right;\n",
       "    }\n",
       "</style>\n",
       "<table border=\"1\" class=\"dataframe\">\n",
       "  <thead>\n",
       "    <tr style=\"text-align: right;\">\n",
       "      <th></th>\n",
       "      <th>Country (World)</th>\n",
       "      <th>Year</th>\n",
       "      <th>Net migration (World)</th>\n",
       "      <th>International migrant stock, total (World)</th>\n",
       "      <th>International migrant stock (% of population) (World)</th>\n",
       "    </tr>\n",
       "  </thead>\n",
       "  <tbody>\n",
       "  </tbody>\n",
       "</table>\n",
       "</div>"
      ],
      "text/plain": [
       "Empty DataFrame\n",
       "Columns: [Country (World), Year, Net migration (World), International migrant stock, total (World), International migrant stock (% of population) (World)]\n",
       "Index: []"
      ]
     },
     "execution_count": 99,
     "metadata": {},
     "output_type": "execute_result"
    }
   ],
   "source": [
    "# Separate 'World' data and calculate mean for East African Countries\n",
    "world_data = df[df['Country'] == 'World'].round(2)\n",
    "east_africa_countries_data = df[df['Country'] != 'World']\n",
    "world_data.columns = [f\"{col} (World)\" if col != 'Year' else col for col in world_data.columns]\n",
    "world_data"
   ]
  },
  {
   "cell_type": "markdown",
   "metadata": {},
   "source": [
    "<a id=\"structure\"><h3> Data Summary</h3></a>"
   ]
  },
  {
   "cell_type": "code",
   "execution_count": 100,
   "metadata": {},
   "outputs": [
    {
     "name": "stdout",
     "output_type": "stream",
     "text": [
      "       Net migration  International migrant stock, total  \\\n",
      "count       6.82e+02                            1.22e+02   \n",
      "mean       -1.56e+04                            3.78e+05   \n",
      "std         1.58e+05                            3.58e+05   \n",
      "min        -2.16e+06                            7.70e+03   \n",
      "25%        -4.03e+04                            6.13e+04   \n",
      "50%        -1.76e+02                            2.83e+05   \n",
      "75%         9.95e+03                            6.02e+05   \n",
      "max         1.37e+06                            1.61e+06   \n",
      "\n",
      "       International migrant stock (% of population)  \n",
      "count                                          57.00  \n",
      "mean                                            3.47  \n",
      "std                                             4.23  \n",
      "min                                             0.23  \n",
      "25%                                             0.92  \n",
      "50%                                             2.25  \n",
      "75%                                             3.80  \n",
      "max                                            20.77  \n"
     ]
    }
   ],
   "source": [
    "# Drop the 'Country' column and calculate summary statistics\n",
    "summary_df = df.drop(columns=['Country']).describe().transpose()\n",
    "\n",
    "# Rename the columns for better clarity\n",
    "summary_df.rename(columns={'mean': 'Average', 'min': 'Minimum', 'max': 'Maximum'}, inplace=False)\n",
    "\n",
    "# Transpose the summary DataFrame to have statistics as rows\n",
    "summary_df = summary_df.transpose()\n",
    "\n",
    "# Display the summary DataFrame\n",
    "print(summary_df)"
   ]
  },
  {
   "cell_type": "markdown",
   "metadata": {},
   "source": [
    "<a id=\"structure\"><h3>Functions for Plots</h3></a>"
   ]
  },
  {
   "cell_type": "code",
   "execution_count": 128,
   "metadata": {},
   "outputs": [],
   "source": [
    "import numpy as np\n",
    "import plotly.graph_objs as go\n",
    "\n",
    "def create_line_chart_static(df_grouped, title, columns,colors):\n",
    "    # Create a trace for each variable\n",
    "    traces = []\n",
    "    variable = columns[0]\n",
    "    category = columns[1]\n",
    "  \n",
    "    unique_countries = df_grouped[\"Country\"].unique()\n",
    "    frames = []\n",
    "\n",
    "    for i, country in enumerate(unique_countries):\n",
    "        color = colors[i % len(colors)]  # Cycle through colors for each country\n",
    "        trace = go.Scatter(\n",
    "            x=df_grouped[df_grouped[\"Country\"] == country]['Year'],\n",
    "            y=df_grouped[df_grouped[\"Country\"] == country][variable],\n",
    "            mode='lines+markers',\n",
    "            name=country,\n",
    "            line=dict(color=color)\n",
    "        )\n",
    "        traces.append(trace)\n",
    "\n",
    "\n",
    "    # Create the layout\n",
    "    layout = {\n",
    "        'autosize': True,\n",
    "        'width': 900,\n",
    "        'height': 700,\n",
    "        'title': title,\n",
    "        'xaxis': {'title': 'Year', 'showgrid': False},\n",
    "        'yaxis': {'title': 'People', 'showgrid': True},\n",
    "        'plot_bgcolor': '#f8f8f8',\n",
    "        'paper_bgcolor': '#f8f8f8',\n",
    "        'font': {'family': 'Poppins', 'size': 12, 'color': 'black'},\n",
    "        'legend': {'x': 0.05, 'y': 0.5, 'bgcolor': 'rgba(255, 255, 255, 0.8)', 'bordercolor': 'rgba(0, 0, 0, 0.2)', 'borderwidth': 1},\n",
    "        'margin': {'l': 50, 'r': 50, 'b': 100, 't': 100, 'pad': 4},\n",
    "    }\n",
    "\n",
    "    # Create the figure\n",
    "    fig = go.Figure(data=traces, layout=layout)\n",
    "\n",
    "    # Add animation frames\n",
    "    fig.update(frames=frames)\n",
    "\n",
    "\n",
    "\n",
    "    \n",
    "    # Apply Style\n",
    "    fig.update_layout(\n",
    "         annotations=[\n",
    "            {\n",
    "                'x': 0,\n",
    "                'y': 0.1,\n",
    "                'xref': 'paper',\n",
    "                'yref': 'paper',\n",
    "                'xanchor': 'left',\n",
    "                'yanchor': 'top',\n",
    "                'text': \"Copyright © 2023 Najib Abdullahi\",\n",
    "                'showarrow': False,\n",
    "                'font': dict(size=10, color=\"#1100FF\"),\n",
    "                'align': \"left\",\n",
    "            },\n",
    "            {\n",
    "                'x': 1.06,\n",
    "                'y': 0.09,\n",
    "                'xref': 'paper',\n",
    "                'yref': 'paper',\n",
    "                'xanchor': 'right',\n",
    "                'yanchor': 'top',\n",
    "                'text': \"Source: World Bank\",\n",
    "                'showarrow': False,\n",
    "                'font': dict(size=10, color=\"#1100FF\"),\n",
    "                'align': \"right\",\n",
    "            }\n",
    "        ],\n",
    "        font=dict(family='Poppins'),\n",
    "        title_font=dict(size=24, color='#000000'),\n",
    "        legend_font=dict(size=12),\n",
    "        legend_itemclick='toggle',\n",
    "        legend_itemdoubleclick='toggleothers',\n",
    "        legend_traceorder='normal',\n",
    "        legend_tracegroupgap=10,\n",
    "        legend_bordercolor='#000000',\n",
    "        legend_borderwidth=1,\n",
    "        legend_bgcolor='#ffffff',\n",
    "        legend_xanchor='left',\n",
    "        legend_yanchor='top',\n",
    "        legend_x=1,\n",
    "        legend_y=1.05,\n",
    "        margin=dict(l=50, r=50, t=80, b=50),\n",
    "    )\n",
    "    fig.update_yaxes(gridcolor='#c9c1b8')\n",
    "    \n",
    "   \n",
    "\n",
    "    # Display the plot\n",
    "    fig.show()"
   ]
  },
  {
   "cell_type": "code",
   "execution_count": 168,
   "metadata": {},
   "outputs": [],
   "source": [
    "def create_bar_chart_static(df, y_column, x_columns, color_sequence):\n",
    "    total_net_migration = df\n",
    "\n",
    "    # Create traces\n",
    "    traces = [go.Bar(\n",
    "        x=total_net_migration['Country'],\n",
    "        y=total_net_migration['Net migration'],\n",
    "        marker_color=color_sequence\n",
    "    )]\n",
    "\n",
    "    # Create the layout\n",
    "    title = 'Total Net Migration by Country'\n",
    "    layout = {\n",
    "        'autosize': True,\n",
    "        'width': 900,\n",
    "        'height': 700,\n",
    "        'title': title,\n",
    "        'xaxis': {'title': 'Country', 'showgrid': False},\n",
    "        'yaxis': {'title': 'Total Net Migration', 'showgrid': True},\n",
    "        'plot_bgcolor': '#f8f8f8',\n",
    "        'paper_bgcolor': '#f8f8f8',\n",
    "        'font': {'family': 'Poppins', 'size': 12, 'color': 'black'},\n",
    "        'legend': {'x': 0.05, 'y': 0.5, 'bgcolor': 'rgba(255, 255, 255, 0.8)', 'bordercolor': 'rgba(0, 0, 0, 0.2)', 'borderwidth': 1},\n",
    "        'margin': {'l': 50, 'r': 50, 'b': 100, 't': 100, 'pad': 4},\n",
    "    }\n",
    "   # Create the layout\n",
    "    layout = {\n",
    "        'autosize': True,\n",
    "        'width': 900,\n",
    "        'height': 700,\n",
    "        'title': title,\n",
    "        'xaxis': {'title': 'Year', 'showgrid': False},\n",
    "        'yaxis': {'title': 'People', 'showgrid': True},\n",
    "        'plot_bgcolor': '#f8f8f8',\n",
    "        'paper_bgcolor': '#f8f8f8',\n",
    "        'font': {'family': 'Poppins', 'size': 12, 'color': 'black'},\n",
    "        'legend': {'x': 0.05, 'y': 0.5, 'bgcolor': 'rgba(255, 255, 255, 0.8)', 'bordercolor': 'rgba(0, 0, 0, 0.2)', 'borderwidth': 1},\n",
    "        'margin': {'l': 50, 'r': 50, 'b': 100, 't': 100, 'pad': 4},\n",
    "    }\n",
    "    \n",
    "    # Create the figure\n",
    "    fig = go.Figure(data=traces, layout=layout)\n",
    "\n",
    "     # Apply Style\n",
    "    fig.update_layout(\n",
    "        annotations=[\n",
    "            {\n",
    "                'x': 0,\n",
    "                'y': 0.1,\n",
    "                'xref': 'paper',\n",
    "                'yref': 'paper',\n",
    "                'xanchor': 'left',\n",
    "                'yanchor': 'top',\n",
    "                'text': \"Copyright © 2023 Najib Abdullahi\",\n",
    "                'showarrow': False,\n",
    "                'font': dict(size=10, color=\"#1100FF\"),\n",
    "                'align': \"left\",\n",
    "            },\n",
    "            {\n",
    "                'x': 1.06,\n",
    "                'y': 0.09,\n",
    "                'xref': 'paper',\n",
    "                'yref': 'paper',\n",
    "                'xanchor': 'right',\n",
    "                'yanchor': 'top',\n",
    "                'text': \"Source: World Bank\",\n",
    "                'showarrow': False,\n",
    "                'font': dict(size=10, color=\"#1100FF\"),\n",
    "                'align': \"right\",\n",
    "            }\n",
    "        ],\n",
    "        font=dict(family='Poppins'),\n",
    "        title_font=dict(size=24, color='#000000'),\n",
    "        legend_font=dict(size=12),\n",
    "        legend_itemclick='toggle',\n",
    "        legend_itemdoubleclick='toggleothers',\n",
    "        legend_traceorder='normal',\n",
    "        legend_tracegroupgap=10,\n",
    "        legend_bordercolor='#000000',\n",
    "        legend_borderwidth=1,\n",
    "        legend_bgcolor='#ffffff',\n",
    "        legend_xanchor='left',\n",
    "        legend_yanchor='top',\n",
    "        legend_x=1,\n",
    "        legend_y=1.05,\n",
    "        margin=dict(l=50, r=50, t=80, b=50),\n",
    "    )\n",
    "    fig.update_yaxes(gridcolor='#c9c1b8')\n",
    "\n",
    "    fig.show()"
   ]
  },
  {
   "cell_type": "code",
   "execution_count": 149,
   "metadata": {},
   "outputs": [
    {
     "data": {
      "application/vnd.plotly.v1+json": {
       "config": {
        "plotlyServerURL": "https://plot.ly"
       },
       "data": [
        {
         "line": {
          "color": "#C10000"
         },
         "mode": "lines+markers",
         "name": "Burundi",
         "type": "scatter",
         "x": [
          "2022-01-01",
          "2021-01-01",
          "2020-01-01",
          "2019-01-01",
          "2018-01-01",
          "2017-01-01",
          "2016-01-01",
          "2015-01-01",
          "2014-01-01",
          "2013-01-01",
          "2012-01-01",
          "2011-01-01",
          "2010-01-01",
          "2009-01-01",
          "2008-01-01",
          "2007-01-01",
          "2006-01-01",
          "2005-01-01",
          "2004-01-01",
          "2003-01-01",
          "2002-01-01",
          "2001-01-01",
          "2000-01-01",
          "1999-01-01",
          "1998-01-01",
          "1997-01-01",
          "1996-01-01",
          "1995-01-01",
          "1994-01-01",
          "1993-01-01",
          "1992-01-01",
          "1991-01-01",
          "1990-01-01",
          "1989-01-01",
          "1988-01-01",
          "1987-01-01",
          "1986-01-01",
          "1985-01-01",
          "1984-01-01",
          "1983-01-01",
          "1982-01-01",
          "1981-01-01",
          "1980-01-01",
          "1979-01-01",
          "1978-01-01",
          "1977-01-01",
          "1976-01-01",
          "1975-01-01",
          "1974-01-01",
          "1973-01-01",
          "1972-01-01",
          "1971-01-01",
          "1970-01-01",
          "1969-01-01",
          "1968-01-01",
          "1967-01-01",
          "1966-01-01",
          "1965-01-01",
          "1964-01-01",
          "1963-01-01",
          "1962-01-01",
          "1961-01-01",
          "1960-01-01"
         ],
         "y": [
          null,
          -14415,
          -10186,
          14241,
          68145,
          -68450,
          -109490,
          -236447,
          -6856,
          -2295,
          22613,
          -19517,
          11847,
          184361,
          79323,
          22120,
          15322,
          17913,
          47090,
          36721,
          -16881,
          9965,
          -40114,
          -34507,
          13841,
          -84365,
          -226350,
          -84698,
          516369,
          -686089,
          35771,
          -39298,
          -39996,
          -43635,
          -46546,
          -21213,
          -55836,
          -66680,
          -29572,
          -41786,
          -3837,
          -58722,
          149360,
          -40170,
          8248,
          1890,
          -12871,
          -20706,
          10072,
          2839,
          -118665,
          -7580,
          -6348,
          -25319,
          -5928,
          -9820,
          5261,
          -13952,
          29635,
          -11519,
          -15378,
          15090,
          -14647
         ]
        },
        {
         "line": {
          "color": "#d39b81"
         },
         "mode": "lines+markers",
         "name": "Djibouti",
         "type": "scatter",
         "x": [
          "2022-01-01",
          "2021-01-01",
          "2020-01-01",
          "2019-01-01",
          "2018-01-01",
          "2017-01-01",
          "2016-01-01",
          "2015-01-01",
          "2014-01-01",
          "2013-01-01",
          "2012-01-01",
          "2011-01-01",
          "2010-01-01",
          "2009-01-01",
          "2008-01-01",
          "2007-01-01",
          "2006-01-01",
          "2005-01-01",
          "2004-01-01",
          "2003-01-01",
          "2002-01-01",
          "2001-01-01",
          "2000-01-01",
          "1999-01-01",
          "1998-01-01",
          "1997-01-01",
          "1996-01-01",
          "1995-01-01",
          "1994-01-01",
          "1993-01-01",
          "1992-01-01",
          "1991-01-01",
          "1990-01-01",
          "1989-01-01",
          "1988-01-01",
          "1987-01-01",
          "1986-01-01",
          "1985-01-01",
          "1984-01-01",
          "1983-01-01",
          "1982-01-01",
          "1981-01-01",
          "1980-01-01",
          "1979-01-01",
          "1978-01-01",
          "1977-01-01",
          "1976-01-01",
          "1975-01-01",
          "1974-01-01",
          "1973-01-01",
          "1972-01-01",
          "1971-01-01",
          "1970-01-01",
          "1969-01-01",
          "1968-01-01",
          "1967-01-01",
          "1966-01-01",
          "1965-01-01",
          "1964-01-01",
          "1963-01-01",
          "1962-01-01",
          "1961-01-01",
          "1960-01-01"
         ],
         "y": [
          null,
          742,
          744,
          1322,
          1435,
          1535,
          1623,
          1723,
          1900,
          2033,
          2104,
          2090,
          2129,
          2770,
          2148,
          1253,
          2723,
          -3779,
          -5247,
          -5634,
          5022,
          7631,
          5627,
          7046,
          10355,
          13623,
          2650,
          -3163,
          -15756,
          8896,
          -65203,
          21510,
          49970,
          33465,
          17242,
          17545,
          14543,
          9997,
          5452,
          2441,
          2450,
          5502,
          10121,
          14726,
          17788,
          17961,
          16028,
          13029,
          9910,
          7583,
          6690,
          6184,
          5004,
          4995,
          3001,
          3001,
          3014,
          3023,
          2846,
          2257,
          1695,
          1136,
          886
         ]
        },
        {
         "line": {
          "color": "#0476D9"
         },
         "mode": "lines+markers",
         "name": "Eritrea",
         "type": "scatter",
         "x": [
          "2022-01-01",
          "2021-01-01",
          "2020-01-01",
          "2019-01-01",
          "2018-01-01",
          "2017-01-01",
          "2016-01-01",
          "2015-01-01",
          "2014-01-01",
          "2013-01-01",
          "2012-01-01",
          "2011-01-01",
          "2010-01-01",
          "2009-01-01",
          "2008-01-01",
          "2007-01-01",
          "2006-01-01",
          "2005-01-01",
          "2004-01-01",
          "2003-01-01",
          "2002-01-01",
          "2001-01-01",
          "2000-01-01",
          "1999-01-01",
          "1998-01-01",
          "1997-01-01",
          "1996-01-01",
          "1995-01-01",
          "1994-01-01",
          "1993-01-01",
          "1992-01-01",
          "1991-01-01",
          "1990-01-01",
          "1989-01-01",
          "1988-01-01",
          "1987-01-01",
          "1986-01-01",
          "1985-01-01",
          "1984-01-01",
          "1983-01-01",
          "1982-01-01",
          "1981-01-01",
          "1980-01-01",
          "1979-01-01",
          "1978-01-01",
          "1977-01-01",
          "1976-01-01",
          "1975-01-01",
          "1974-01-01",
          "1973-01-01",
          "1972-01-01",
          "1971-01-01",
          "1970-01-01",
          "1969-01-01",
          "1968-01-01",
          "1967-01-01",
          "1966-01-01",
          "1965-01-01",
          "1964-01-01",
          "1963-01-01",
          "1962-01-01",
          "1961-01-01",
          "1960-01-01"
         ],
         "y": [
          null,
          -14988,
          -14987,
          -29849,
          -21435,
          -38636,
          -55530,
          -53049,
          -75830,
          -34025,
          -43335,
          -32992,
          -13369,
          -24355,
          17859,
          -18156,
          -50036,
          -12841,
          -6376,
          76703,
          -6571,
          41755,
          -33196,
          -3770,
          -32003,
          -30772,
          -52425,
          136103,
          -25840,
          33686,
          -22331,
          -328546,
          -12442,
          -7336,
          -3608,
          -3609,
          -1086,
          -1086,
          785,
          1854,
          1995,
          1995,
          1995,
          1995,
          1995,
          1995,
          1995,
          1995,
          1995,
          1995,
          1964,
          1770,
          1487,
          1208,
          1017,
          1007,
          1073,
          1194,
          1308,
          1376,
          1371,
          1247,
          1059
         ]
        },
        {
         "line": {
          "color": "#75A3BF"
         },
         "mode": "lines+markers",
         "name": "Ethiopia",
         "type": "scatter",
         "x": [
          "2022-01-01",
          "2021-01-01",
          "2020-01-01",
          "2019-01-01",
          "2018-01-01",
          "2017-01-01",
          "2016-01-01",
          "2015-01-01",
          "2014-01-01",
          "2013-01-01",
          "2012-01-01",
          "2011-01-01",
          "2010-01-01",
          "2009-01-01",
          "2008-01-01",
          "2007-01-01",
          "2006-01-01",
          "2005-01-01",
          "2004-01-01",
          "2003-01-01",
          "2002-01-01",
          "2001-01-01",
          "2000-01-01",
          "1999-01-01",
          "1998-01-01",
          "1997-01-01",
          "1996-01-01",
          "1995-01-01",
          "1994-01-01",
          "1993-01-01",
          "1992-01-01",
          "1991-01-01",
          "1990-01-01",
          "1989-01-01",
          "1988-01-01",
          "1987-01-01",
          "1986-01-01",
          "1985-01-01",
          "1984-01-01",
          "1983-01-01",
          "1982-01-01",
          "1981-01-01",
          "1980-01-01",
          "1979-01-01",
          "1978-01-01",
          "1977-01-01",
          "1976-01-01",
          "1975-01-01",
          "1974-01-01",
          "1973-01-01",
          "1972-01-01",
          "1971-01-01",
          "1970-01-01",
          "1969-01-01",
          "1968-01-01",
          "1967-01-01",
          "1966-01-01",
          "1965-01-01",
          "1964-01-01",
          "1963-01-01",
          "1962-01-01",
          "1961-01-01",
          "1960-01-01"
         ],
         "y": [
          null,
          -1391,
          38867,
          -10803,
          9309,
          71769,
          115812,
          62784,
          103119,
          80953,
          119512,
          116793,
          80213,
          16319,
          -20776,
          -389,
          -30511,
          -44423,
          -25428,
          -13744,
          -12921,
          -19067,
          -49892,
          29118,
          -3002,
          -9120,
          41345,
          91538,
          140715,
          141549,
          160103,
          859739,
          296018,
          242615,
          379966,
          251387,
          186232,
          157474,
          137638,
          68018,
          66700,
          628135,
          -903529,
          -711455,
          -210991,
          -527133,
          -36153,
          -42567,
          -4219,
          355,
          -3379,
          -14508,
          8595,
          7265,
          9992,
          14434,
          9162,
          16349,
          10745,
          9418,
          8965,
          6940,
          1698
         ]
        },
        {
         "line": {
          "color": "#F2668B"
         },
         "mode": "lines+markers",
         "name": "Kenya",
         "type": "scatter",
         "x": [
          "2022-01-01",
          "2021-01-01",
          "2020-01-01",
          "2019-01-01",
          "2018-01-01",
          "2017-01-01",
          "2016-01-01",
          "2015-01-01",
          "2014-01-01",
          "2013-01-01",
          "2012-01-01",
          "2011-01-01",
          "2010-01-01",
          "2009-01-01",
          "2008-01-01",
          "2007-01-01",
          "2006-01-01",
          "2005-01-01",
          "2004-01-01",
          "2003-01-01",
          "2002-01-01",
          "2001-01-01",
          "2000-01-01",
          "1999-01-01",
          "1998-01-01",
          "1997-01-01",
          "1996-01-01",
          "1995-01-01",
          "1994-01-01",
          "1993-01-01",
          "1992-01-01",
          "1991-01-01",
          "1990-01-01",
          "1989-01-01",
          "1988-01-01",
          "1987-01-01",
          "1986-01-01",
          "1985-01-01",
          "1984-01-01",
          "1983-01-01",
          "1982-01-01",
          "1981-01-01",
          "1980-01-01",
          "1979-01-01",
          "1978-01-01",
          "1977-01-01",
          "1976-01-01",
          "1975-01-01",
          "1974-01-01",
          "1973-01-01",
          "1972-01-01",
          "1971-01-01",
          "1970-01-01",
          "1969-01-01",
          "1968-01-01",
          "1967-01-01",
          "1966-01-01",
          "1965-01-01",
          "1964-01-01",
          "1963-01-01",
          "1962-01-01",
          "1961-01-01",
          "1960-01-01"
         ],
         "y": [
          null,
          -52549,
          -17106,
          -61946,
          -115434,
          -68704,
          -29727,
          -95981,
          -72415,
          -57630,
          -42929,
          -44800,
          -21076,
          7098,
          29607,
          -11496,
          15763,
          5496,
          31530,
          24180,
          10426,
          55052,
          5407,
          -13257,
          -70048,
          -80488,
          -79310,
          -75544,
          -40371,
          -61086,
          -43097,
          -60109,
          -11341,
          -24955,
          -31904,
          -48647,
          -53217,
          -35416,
          -33268,
          -23911,
          -43402,
          -52794,
          -39943,
          -56314,
          -60759,
          -57530,
          -91037,
          -71454,
          -62991,
          -52115,
          -48467,
          -49671,
          -13059,
          374,
          1621,
          5059,
          1625,
          8524,
          4784,
          4239,
          4512,
          4289,
          2140
         ]
        },
        {
         "line": {
          "color": "#025E73"
         },
         "mode": "lines+markers",
         "name": "Rwanda",
         "type": "scatter",
         "x": [
          "2022-01-01",
          "2021-01-01",
          "2020-01-01",
          "2019-01-01",
          "2018-01-01",
          "2017-01-01",
          "2016-01-01",
          "2015-01-01",
          "2014-01-01",
          "2013-01-01",
          "2012-01-01",
          "2011-01-01",
          "2010-01-01",
          "2009-01-01",
          "2008-01-01",
          "2007-01-01",
          "2006-01-01",
          "2005-01-01",
          "2004-01-01",
          "2003-01-01",
          "2002-01-01",
          "2001-01-01",
          "2000-01-01",
          "1999-01-01",
          "1998-01-01",
          "1997-01-01",
          "1996-01-01",
          "1995-01-01",
          "1994-01-01",
          "1993-01-01",
          "1992-01-01",
          "1991-01-01",
          "1990-01-01",
          "1989-01-01",
          "1988-01-01",
          "1987-01-01",
          "1986-01-01",
          "1985-01-01",
          "1984-01-01",
          "1983-01-01",
          "1982-01-01",
          "1981-01-01",
          "1980-01-01",
          "1979-01-01",
          "1978-01-01",
          "1977-01-01",
          "1976-01-01",
          "1975-01-01",
          "1974-01-01",
          "1973-01-01",
          "1972-01-01",
          "1971-01-01",
          "1970-01-01",
          "1969-01-01",
          "1968-01-01",
          "1967-01-01",
          "1966-01-01",
          "1965-01-01",
          "1964-01-01",
          "1963-01-01",
          "1962-01-01",
          "1961-01-01",
          "1960-01-01"
         ],
         "y": [
          null,
          -6112,
          -1579,
          -11823,
          -10794,
          -5169,
          -2605,
          -14477,
          -15027,
          -15833,
          -14824,
          -5358,
          -8394,
          -15121,
          -16880,
          -17724,
          -20195,
          -23051,
          -18936,
          -17399,
          -47989,
          -91955,
          -99860,
          -97819,
          -84051,
          239690,
          1372202,
          443316,
          -2162873,
          126168,
          3454,
          -48085,
          -31720,
          -46816,
          -26673,
          10619,
          17982,
          4017,
          -18739,
          -14660,
          12606,
          14235,
          4634,
          -3474,
          -13849,
          -11093,
          -7034,
          -4792,
          -4531,
          -3860,
          -4148,
          -4213,
          1156,
          2984,
          4722,
          4652,
          -1943,
          -9788,
          -19490,
          -25565,
          -25631,
          -20540,
          -13204
         ]
        },
        {
         "line": {
          "color": "#011F26"
         },
         "mode": "lines+markers",
         "name": "Sudan",
         "type": "scatter",
         "x": [
          "2022-01-01",
          "2021-01-01",
          "2020-01-01",
          "2019-01-01",
          "2018-01-01",
          "2017-01-01",
          "2016-01-01",
          "2015-01-01",
          "2014-01-01",
          "2013-01-01",
          "2012-01-01",
          "2011-01-01",
          "2010-01-01",
          "2009-01-01",
          "2008-01-01",
          "2007-01-01",
          "2006-01-01",
          "2005-01-01",
          "2004-01-01",
          "2003-01-01",
          "2002-01-01",
          "2001-01-01",
          "2000-01-01",
          "1999-01-01",
          "1998-01-01",
          "1997-01-01",
          "1996-01-01",
          "1995-01-01",
          "1994-01-01",
          "1993-01-01",
          "1992-01-01",
          "1991-01-01",
          "1990-01-01",
          "1989-01-01",
          "1988-01-01",
          "1987-01-01",
          "1986-01-01",
          "1985-01-01",
          "1984-01-01",
          "1983-01-01",
          "1982-01-01",
          "1981-01-01",
          "1980-01-01",
          "1979-01-01",
          "1978-01-01",
          "1977-01-01",
          "1976-01-01",
          "1975-01-01",
          "1974-01-01",
          "1973-01-01",
          "1972-01-01",
          "1971-01-01",
          "1970-01-01",
          "1969-01-01",
          "1968-01-01",
          "1967-01-01",
          "1966-01-01",
          "1965-01-01",
          "1964-01-01",
          "1963-01-01",
          "1962-01-01",
          "1961-01-01",
          "1960-01-01"
         ],
         "y": [
          null,
          -15223,
          86,
          -29450,
          74198,
          189497,
          97646,
          49080,
          85052,
          -185339,
          -221502,
          -337194,
          -331713,
          -79473,
          -72121,
          -13752,
          -12376,
          -10644,
          -86754,
          -149595,
          -159912,
          -136249,
          -80698,
          -58808,
          -48202,
          -47334,
          -56798,
          -71692,
          -70382,
          -87480,
          -248714,
          -254515,
          -227157,
          -224983,
          -219374,
          -223978,
          -224853,
          -207483,
          -188903,
          -54326,
          83392,
          147787,
          151287,
          140384,
          134773,
          129474,
          104615,
          105500,
          100318,
          5788,
          2243,
          -3573,
          4467,
          2487,
          2782,
          4501,
          2816,
          6367,
          4499,
          4260,
          4379,
          3901,
          2191
         ]
        },
        {
         "line": {
          "color": "#026873"
         },
         "mode": "lines+markers",
         "name": "Somalia",
         "type": "scatter",
         "x": [
          "2022-01-01",
          "2021-01-01",
          "2020-01-01",
          "2019-01-01",
          "2018-01-01",
          "2017-01-01",
          "2016-01-01",
          "2015-01-01",
          "2014-01-01",
          "2013-01-01",
          "2012-01-01",
          "2011-01-01",
          "2010-01-01",
          "2009-01-01",
          "2008-01-01",
          "2007-01-01",
          "2006-01-01",
          "2005-01-01",
          "2004-01-01",
          "2003-01-01",
          "2002-01-01",
          "2001-01-01",
          "2000-01-01",
          "1999-01-01",
          "1998-01-01",
          "1997-01-01",
          "1996-01-01",
          "1995-01-01",
          "1994-01-01",
          "1993-01-01",
          "1992-01-01",
          "1991-01-01",
          "1990-01-01",
          "1989-01-01",
          "1988-01-01",
          "1987-01-01",
          "1986-01-01",
          "1985-01-01",
          "1984-01-01",
          "1983-01-01",
          "1982-01-01",
          "1981-01-01",
          "1980-01-01",
          "1979-01-01",
          "1978-01-01",
          "1977-01-01",
          "1976-01-01",
          "1975-01-01",
          "1974-01-01",
          "1973-01-01",
          "1972-01-01",
          "1971-01-01",
          "1970-01-01",
          "1969-01-01",
          "1968-01-01",
          "1967-01-01",
          "1966-01-01",
          "1965-01-01",
          "1964-01-01",
          "1963-01-01",
          "1962-01-01",
          "1961-01-01",
          "1960-01-01"
         ],
         "y": [
          null,
          -17071,
          -11383,
          48055,
          40844,
          38067,
          124017,
          -17178,
          6065,
          20723,
          -51833,
          -326192,
          -88448,
          -101795,
          -102035,
          8476,
          -67200,
          -5955,
          17353,
          33174,
          12603,
          40274,
          53580,
          37548,
          55426,
          49692,
          -46291,
          65888,
          -50921,
          261815,
          -179675,
          -568166,
          -248155,
          -266281,
          -415660,
          -17391,
          74424,
          62183,
          60630,
          9505,
          6115,
          -332129,
          65519,
          582746,
          402005,
          2170,
          -3831,
          -1934,
          -495,
          143,
          -351,
          -1850,
          1104,
          690,
          906,
          1498,
          941,
          2142,
          1518,
          1449,
          1496,
          1336,
          750
         ]
        },
        {
         "line": {
          "color": "#03A688"
         },
         "mode": "lines+markers",
         "name": "South Sudan",
         "type": "scatter",
         "x": [
          "2022-01-01",
          "2021-01-01",
          "2020-01-01",
          "2019-01-01",
          "2018-01-01",
          "2017-01-01",
          "2016-01-01",
          "2015-01-01",
          "2014-01-01",
          "2013-01-01",
          "2012-01-01",
          "2011-01-01",
          "2010-01-01",
          "2009-01-01",
          "2008-01-01",
          "2007-01-01",
          "2006-01-01",
          "2005-01-01",
          "2004-01-01",
          "2003-01-01",
          "2002-01-01",
          "2001-01-01",
          "2000-01-01",
          "1999-01-01",
          "1998-01-01",
          "1997-01-01",
          "1996-01-01",
          "1995-01-01",
          "1994-01-01",
          "1993-01-01",
          "1992-01-01",
          "1991-01-01",
          "1990-01-01",
          "1989-01-01",
          "1988-01-01",
          "1987-01-01",
          "1986-01-01",
          "1985-01-01",
          "1984-01-01",
          "1983-01-01",
          "1982-01-01",
          "1981-01-01",
          "1980-01-01",
          "1979-01-01",
          "1978-01-01",
          "1977-01-01",
          "1976-01-01",
          "1975-01-01",
          "1974-01-01",
          "1973-01-01",
          "1972-01-01",
          "1971-01-01",
          "1970-01-01",
          "1969-01-01",
          "1968-01-01",
          "1967-01-01",
          "1966-01-01",
          "1965-01-01",
          "1964-01-01",
          "1963-01-01",
          "1962-01-01",
          "1961-01-01",
          "1960-01-01"
         ],
         "y": [
          null,
          -31885,
          -74415,
          2048,
          -297041,
          -672697,
          -655870,
          -160109,
          -471614,
          65337,
          125766,
          194323,
          299400,
          139129,
          165553,
          167356,
          153929,
          132868,
          110187,
          91958,
          82850,
          77854,
          74224,
          70269,
          64284,
          48277,
          17951,
          17077,
          16418,
          15772,
          15074,
          14325,
          12993,
          -130821,
          -97065,
          0,
          0,
          0,
          0,
          0,
          0,
          0,
          0,
          0,
          0,
          0,
          0,
          0,
          0,
          0,
          0,
          0,
          0,
          0,
          0,
          0,
          0,
          0,
          0,
          0,
          0,
          0,
          0
         ]
        },
        {
         "line": {
          "color": "#D4C2AD"
         },
         "mode": "lines+markers",
         "name": "Tanzania",
         "type": "scatter",
         "x": [
          "2022-01-01",
          "2021-01-01",
          "2020-01-01",
          "2019-01-01",
          "2018-01-01",
          "2017-01-01",
          "2016-01-01",
          "2015-01-01",
          "2014-01-01",
          "2013-01-01",
          "2012-01-01",
          "2011-01-01",
          "2010-01-01",
          "2009-01-01",
          "2008-01-01",
          "2007-01-01",
          "2006-01-01",
          "2005-01-01",
          "2004-01-01",
          "2003-01-01",
          "2002-01-01",
          "2001-01-01",
          "2000-01-01",
          "1999-01-01",
          "1998-01-01",
          "1997-01-01",
          "1996-01-01",
          "1995-01-01",
          "1994-01-01",
          "1993-01-01",
          "1992-01-01",
          "1991-01-01",
          "1990-01-01",
          "1989-01-01",
          "1988-01-01",
          "1987-01-01",
          "1986-01-01",
          "1985-01-01",
          "1984-01-01",
          "1983-01-01",
          "1982-01-01",
          "1981-01-01",
          "1980-01-01",
          "1979-01-01",
          "1978-01-01",
          "1977-01-01",
          "1976-01-01",
          "1975-01-01",
          "1974-01-01",
          "1973-01-01",
          "1972-01-01",
          "1971-01-01",
          "1970-01-01",
          "1969-01-01",
          "1968-01-01",
          "1967-01-01",
          "1966-01-01",
          "1965-01-01",
          "1964-01-01",
          "1963-01-01",
          "1962-01-01",
          "1961-01-01",
          "1960-01-01"
         ],
         "y": [
          null,
          -4865,
          -15795,
          -64819,
          -56813,
          101235,
          124444,
          201562,
          -21079,
          1346,
          -49713,
          -84433,
          -121993,
          -324470,
          -184748,
          -126739,
          -128070,
          -128147,
          -126446,
          -127010,
          -118044,
          -124527,
          -12539,
          -11552,
          -119727,
          -13340,
          -472926,
          -109903,
          349345,
          288072,
          -95865,
          -91874,
          -88284,
          -76094,
          -76750,
          87941,
          19500,
          75784,
          -39236,
          45680,
          -45146,
          -46800,
          -46294,
          -4806,
          27301,
          49981,
          54819,
          53248,
          51112,
          48340,
          57460,
          41913,
          38628,
          35754,
          33345,
          4204,
          3876,
          3644,
          7966,
          3212,
          2892,
          7359,
          1953
         ]
        },
        {
         "line": {
          "color": "#66796B"
         },
         "mode": "lines+markers",
         "name": "Uganda",
         "type": "scatter",
         "x": [
          "2022-01-01",
          "2021-01-01",
          "2020-01-01",
          "2019-01-01",
          "2018-01-01",
          "2017-01-01",
          "2016-01-01",
          "2015-01-01",
          "2014-01-01",
          "2013-01-01",
          "2012-01-01",
          "2011-01-01",
          "2010-01-01",
          "2009-01-01",
          "2008-01-01",
          "2007-01-01",
          "2006-01-01",
          "2005-01-01",
          "2004-01-01",
          "2003-01-01",
          "2002-01-01",
          "2001-01-01",
          "2000-01-01",
          "1999-01-01",
          "1998-01-01",
          "1997-01-01",
          "1996-01-01",
          "1995-01-01",
          "1994-01-01",
          "1993-01-01",
          "1992-01-01",
          "1991-01-01",
          "1990-01-01",
          "1989-01-01",
          "1988-01-01",
          "1987-01-01",
          "1986-01-01",
          "1985-01-01",
          "1984-01-01",
          "1983-01-01",
          "1982-01-01",
          "1981-01-01",
          "1980-01-01",
          "1979-01-01",
          "1978-01-01",
          "1977-01-01",
          "1976-01-01",
          "1975-01-01",
          "1974-01-01",
          "1973-01-01",
          "1972-01-01",
          "1971-01-01",
          "1970-01-01",
          "1969-01-01",
          "1968-01-01",
          "1967-01-01",
          "1966-01-01",
          "1965-01-01",
          "1964-01-01",
          "1963-01-01",
          "1962-01-01",
          "1961-01-01",
          "1960-01-01"
         ],
         "y": [
          null,
          43465,
          43465,
          107203,
          60723,
          92876,
          123381,
          -62377,
          -92291,
          -176638,
          -175994,
          -173065,
          -168379,
          -164609,
          -158848,
          -154826,
          -156293,
          -151432,
          -138801,
          -96452,
          -35155,
          -95975,
          -52834,
          -39697,
          6283,
          -155544,
          -22809,
          -242445,
          -16192,
          18352,
          24725,
          3642,
          -21692,
          -12579,
          -20124,
          -22431,
          -19507,
          -42995,
          -8824,
          -45835,
          -53573,
          -83121,
          -106037,
          -98976,
          -34630,
          -37704,
          -42295,
          -47415,
          -51953,
          -73514,
          -86479,
          -42660,
          -25655,
          -14550,
          -3210,
          -3764,
          -3021,
          -3718,
          -3172,
          -3057,
          -6470,
          -7893,
          -7586
         ]
        }
       ],
       "layout": {
        "annotations": [
         {
          "align": "left",
          "font": {
           "color": "#1100FF",
           "size": 10
          },
          "showarrow": false,
          "text": "Copyright © 2023 Najib Abdullahi",
          "x": 0,
          "xanchor": "left",
          "xref": "paper",
          "y": 0.1,
          "yanchor": "top",
          "yref": "paper"
         },
         {
          "align": "right",
          "font": {
           "color": "#1100FF",
           "size": 10
          },
          "showarrow": false,
          "text": "Source: World Bank",
          "x": 1.06,
          "xanchor": "right",
          "xref": "paper",
          "y": 0.09,
          "yanchor": "top",
          "yref": "paper"
         }
        ],
        "autosize": true,
        "font": {
         "color": "black",
         "family": "Poppins",
         "size": 12
        },
        "height": 700,
        "legend": {
         "bgcolor": "#ffffff",
         "bordercolor": "#000000",
         "borderwidth": 1,
         "font": {
          "size": 12
         },
         "itemclick": "toggle",
         "itemdoubleclick": "toggleothers",
         "tracegroupgap": 10,
         "traceorder": "normal",
         "x": 1,
         "xanchor": "left",
         "y": 1.05,
         "yanchor": "top"
        },
        "margin": {
         "b": 50,
         "l": 50,
         "pad": 4,
         "r": 50,
         "t": 80
        },
        "paper_bgcolor": "#f8f8f8",
        "plot_bgcolor": "#f8f8f8",
        "template": {
         "data": {
          "bar": [
           {
            "error_x": {
             "color": "#2a3f5f"
            },
            "error_y": {
             "color": "#2a3f5f"
            },
            "marker": {
             "line": {
              "color": "#E5ECF6",
              "width": 0.5
             },
             "pattern": {
              "fillmode": "overlay",
              "size": 10,
              "solidity": 0.2
             }
            },
            "type": "bar"
           }
          ],
          "barpolar": [
           {
            "marker": {
             "line": {
              "color": "#E5ECF6",
              "width": 0.5
             },
             "pattern": {
              "fillmode": "overlay",
              "size": 10,
              "solidity": 0.2
             }
            },
            "type": "barpolar"
           }
          ],
          "carpet": [
           {
            "aaxis": {
             "endlinecolor": "#2a3f5f",
             "gridcolor": "white",
             "linecolor": "white",
             "minorgridcolor": "white",
             "startlinecolor": "#2a3f5f"
            },
            "baxis": {
             "endlinecolor": "#2a3f5f",
             "gridcolor": "white",
             "linecolor": "white",
             "minorgridcolor": "white",
             "startlinecolor": "#2a3f5f"
            },
            "type": "carpet"
           }
          ],
          "choropleth": [
           {
            "colorbar": {
             "outlinewidth": 0,
             "ticks": ""
            },
            "type": "choropleth"
           }
          ],
          "contour": [
           {
            "colorbar": {
             "outlinewidth": 0,
             "ticks": ""
            },
            "colorscale": [
             [
              0,
              "#0d0887"
             ],
             [
              0.1111111111111111,
              "#46039f"
             ],
             [
              0.2222222222222222,
              "#7201a8"
             ],
             [
              0.3333333333333333,
              "#9c179e"
             ],
             [
              0.4444444444444444,
              "#bd3786"
             ],
             [
              0.5555555555555556,
              "#d8576b"
             ],
             [
              0.6666666666666666,
              "#ed7953"
             ],
             [
              0.7777777777777778,
              "#fb9f3a"
             ],
             [
              0.8888888888888888,
              "#fdca26"
             ],
             [
              1,
              "#f0f921"
             ]
            ],
            "type": "contour"
           }
          ],
          "contourcarpet": [
           {
            "colorbar": {
             "outlinewidth": 0,
             "ticks": ""
            },
            "type": "contourcarpet"
           }
          ],
          "heatmap": [
           {
            "colorbar": {
             "outlinewidth": 0,
             "ticks": ""
            },
            "colorscale": [
             [
              0,
              "#0d0887"
             ],
             [
              0.1111111111111111,
              "#46039f"
             ],
             [
              0.2222222222222222,
              "#7201a8"
             ],
             [
              0.3333333333333333,
              "#9c179e"
             ],
             [
              0.4444444444444444,
              "#bd3786"
             ],
             [
              0.5555555555555556,
              "#d8576b"
             ],
             [
              0.6666666666666666,
              "#ed7953"
             ],
             [
              0.7777777777777778,
              "#fb9f3a"
             ],
             [
              0.8888888888888888,
              "#fdca26"
             ],
             [
              1,
              "#f0f921"
             ]
            ],
            "type": "heatmap"
           }
          ],
          "heatmapgl": [
           {
            "colorbar": {
             "outlinewidth": 0,
             "ticks": ""
            },
            "colorscale": [
             [
              0,
              "#0d0887"
             ],
             [
              0.1111111111111111,
              "#46039f"
             ],
             [
              0.2222222222222222,
              "#7201a8"
             ],
             [
              0.3333333333333333,
              "#9c179e"
             ],
             [
              0.4444444444444444,
              "#bd3786"
             ],
             [
              0.5555555555555556,
              "#d8576b"
             ],
             [
              0.6666666666666666,
              "#ed7953"
             ],
             [
              0.7777777777777778,
              "#fb9f3a"
             ],
             [
              0.8888888888888888,
              "#fdca26"
             ],
             [
              1,
              "#f0f921"
             ]
            ],
            "type": "heatmapgl"
           }
          ],
          "histogram": [
           {
            "marker": {
             "pattern": {
              "fillmode": "overlay",
              "size": 10,
              "solidity": 0.2
             }
            },
            "type": "histogram"
           }
          ],
          "histogram2d": [
           {
            "colorbar": {
             "outlinewidth": 0,
             "ticks": ""
            },
            "colorscale": [
             [
              0,
              "#0d0887"
             ],
             [
              0.1111111111111111,
              "#46039f"
             ],
             [
              0.2222222222222222,
              "#7201a8"
             ],
             [
              0.3333333333333333,
              "#9c179e"
             ],
             [
              0.4444444444444444,
              "#bd3786"
             ],
             [
              0.5555555555555556,
              "#d8576b"
             ],
             [
              0.6666666666666666,
              "#ed7953"
             ],
             [
              0.7777777777777778,
              "#fb9f3a"
             ],
             [
              0.8888888888888888,
              "#fdca26"
             ],
             [
              1,
              "#f0f921"
             ]
            ],
            "type": "histogram2d"
           }
          ],
          "histogram2dcontour": [
           {
            "colorbar": {
             "outlinewidth": 0,
             "ticks": ""
            },
            "colorscale": [
             [
              0,
              "#0d0887"
             ],
             [
              0.1111111111111111,
              "#46039f"
             ],
             [
              0.2222222222222222,
              "#7201a8"
             ],
             [
              0.3333333333333333,
              "#9c179e"
             ],
             [
              0.4444444444444444,
              "#bd3786"
             ],
             [
              0.5555555555555556,
              "#d8576b"
             ],
             [
              0.6666666666666666,
              "#ed7953"
             ],
             [
              0.7777777777777778,
              "#fb9f3a"
             ],
             [
              0.8888888888888888,
              "#fdca26"
             ],
             [
              1,
              "#f0f921"
             ]
            ],
            "type": "histogram2dcontour"
           }
          ],
          "mesh3d": [
           {
            "colorbar": {
             "outlinewidth": 0,
             "ticks": ""
            },
            "type": "mesh3d"
           }
          ],
          "parcoords": [
           {
            "line": {
             "colorbar": {
              "outlinewidth": 0,
              "ticks": ""
             }
            },
            "type": "parcoords"
           }
          ],
          "pie": [
           {
            "automargin": true,
            "type": "pie"
           }
          ],
          "scatter": [
           {
            "fillpattern": {
             "fillmode": "overlay",
             "size": 10,
             "solidity": 0.2
            },
            "type": "scatter"
           }
          ],
          "scatter3d": [
           {
            "line": {
             "colorbar": {
              "outlinewidth": 0,
              "ticks": ""
             }
            },
            "marker": {
             "colorbar": {
              "outlinewidth": 0,
              "ticks": ""
             }
            },
            "type": "scatter3d"
           }
          ],
          "scattercarpet": [
           {
            "marker": {
             "colorbar": {
              "outlinewidth": 0,
              "ticks": ""
             }
            },
            "type": "scattercarpet"
           }
          ],
          "scattergeo": [
           {
            "marker": {
             "colorbar": {
              "outlinewidth": 0,
              "ticks": ""
             }
            },
            "type": "scattergeo"
           }
          ],
          "scattergl": [
           {
            "marker": {
             "colorbar": {
              "outlinewidth": 0,
              "ticks": ""
             }
            },
            "type": "scattergl"
           }
          ],
          "scattermapbox": [
           {
            "marker": {
             "colorbar": {
              "outlinewidth": 0,
              "ticks": ""
             }
            },
            "type": "scattermapbox"
           }
          ],
          "scatterpolar": [
           {
            "marker": {
             "colorbar": {
              "outlinewidth": 0,
              "ticks": ""
             }
            },
            "type": "scatterpolar"
           }
          ],
          "scatterpolargl": [
           {
            "marker": {
             "colorbar": {
              "outlinewidth": 0,
              "ticks": ""
             }
            },
            "type": "scatterpolargl"
           }
          ],
          "scatterternary": [
           {
            "marker": {
             "colorbar": {
              "outlinewidth": 0,
              "ticks": ""
             }
            },
            "type": "scatterternary"
           }
          ],
          "surface": [
           {
            "colorbar": {
             "outlinewidth": 0,
             "ticks": ""
            },
            "colorscale": [
             [
              0,
              "#0d0887"
             ],
             [
              0.1111111111111111,
              "#46039f"
             ],
             [
              0.2222222222222222,
              "#7201a8"
             ],
             [
              0.3333333333333333,
              "#9c179e"
             ],
             [
              0.4444444444444444,
              "#bd3786"
             ],
             [
              0.5555555555555556,
              "#d8576b"
             ],
             [
              0.6666666666666666,
              "#ed7953"
             ],
             [
              0.7777777777777778,
              "#fb9f3a"
             ],
             [
              0.8888888888888888,
              "#fdca26"
             ],
             [
              1,
              "#f0f921"
             ]
            ],
            "type": "surface"
           }
          ],
          "table": [
           {
            "cells": {
             "fill": {
              "color": "#EBF0F8"
             },
             "line": {
              "color": "white"
             }
            },
            "header": {
             "fill": {
              "color": "#C8D4E3"
             },
             "line": {
              "color": "white"
             }
            },
            "type": "table"
           }
          ]
         },
         "layout": {
          "annotationdefaults": {
           "arrowcolor": "#2a3f5f",
           "arrowhead": 0,
           "arrowwidth": 1
          },
          "autotypenumbers": "strict",
          "coloraxis": {
           "colorbar": {
            "outlinewidth": 0,
            "ticks": ""
           }
          },
          "colorscale": {
           "diverging": [
            [
             0,
             "#8e0152"
            ],
            [
             0.1,
             "#c51b7d"
            ],
            [
             0.2,
             "#de77ae"
            ],
            [
             0.3,
             "#f1b6da"
            ],
            [
             0.4,
             "#fde0ef"
            ],
            [
             0.5,
             "#f7f7f7"
            ],
            [
             0.6,
             "#e6f5d0"
            ],
            [
             0.7,
             "#b8e186"
            ],
            [
             0.8,
             "#7fbc41"
            ],
            [
             0.9,
             "#4d9221"
            ],
            [
             1,
             "#276419"
            ]
           ],
           "sequential": [
            [
             0,
             "#0d0887"
            ],
            [
             0.1111111111111111,
             "#46039f"
            ],
            [
             0.2222222222222222,
             "#7201a8"
            ],
            [
             0.3333333333333333,
             "#9c179e"
            ],
            [
             0.4444444444444444,
             "#bd3786"
            ],
            [
             0.5555555555555556,
             "#d8576b"
            ],
            [
             0.6666666666666666,
             "#ed7953"
            ],
            [
             0.7777777777777778,
             "#fb9f3a"
            ],
            [
             0.8888888888888888,
             "#fdca26"
            ],
            [
             1,
             "#f0f921"
            ]
           ],
           "sequentialminus": [
            [
             0,
             "#0d0887"
            ],
            [
             0.1111111111111111,
             "#46039f"
            ],
            [
             0.2222222222222222,
             "#7201a8"
            ],
            [
             0.3333333333333333,
             "#9c179e"
            ],
            [
             0.4444444444444444,
             "#bd3786"
            ],
            [
             0.5555555555555556,
             "#d8576b"
            ],
            [
             0.6666666666666666,
             "#ed7953"
            ],
            [
             0.7777777777777778,
             "#fb9f3a"
            ],
            [
             0.8888888888888888,
             "#fdca26"
            ],
            [
             1,
             "#f0f921"
            ]
           ]
          },
          "colorway": [
           "#636efa",
           "#EF553B",
           "#00cc96",
           "#ab63fa",
           "#FFA15A",
           "#19d3f3",
           "#FF6692",
           "#B6E880",
           "#FF97FF",
           "#FECB52"
          ],
          "font": {
           "color": "#2a3f5f"
          },
          "geo": {
           "bgcolor": "white",
           "lakecolor": "white",
           "landcolor": "#E5ECF6",
           "showlakes": true,
           "showland": true,
           "subunitcolor": "white"
          },
          "hoverlabel": {
           "align": "left"
          },
          "hovermode": "closest",
          "mapbox": {
           "style": "light"
          },
          "paper_bgcolor": "white",
          "plot_bgcolor": "#E5ECF6",
          "polar": {
           "angularaxis": {
            "gridcolor": "white",
            "linecolor": "white",
            "ticks": ""
           },
           "bgcolor": "#E5ECF6",
           "radialaxis": {
            "gridcolor": "white",
            "linecolor": "white",
            "ticks": ""
           }
          },
          "scene": {
           "xaxis": {
            "backgroundcolor": "#E5ECF6",
            "gridcolor": "white",
            "gridwidth": 2,
            "linecolor": "white",
            "showbackground": true,
            "ticks": "",
            "zerolinecolor": "white"
           },
           "yaxis": {
            "backgroundcolor": "#E5ECF6",
            "gridcolor": "white",
            "gridwidth": 2,
            "linecolor": "white",
            "showbackground": true,
            "ticks": "",
            "zerolinecolor": "white"
           },
           "zaxis": {
            "backgroundcolor": "#E5ECF6",
            "gridcolor": "white",
            "gridwidth": 2,
            "linecolor": "white",
            "showbackground": true,
            "ticks": "",
            "zerolinecolor": "white"
           }
          },
          "shapedefaults": {
           "line": {
            "color": "#2a3f5f"
           }
          },
          "ternary": {
           "aaxis": {
            "gridcolor": "white",
            "linecolor": "white",
            "ticks": ""
           },
           "baxis": {
            "gridcolor": "white",
            "linecolor": "white",
            "ticks": ""
           },
           "bgcolor": "#E5ECF6",
           "caxis": {
            "gridcolor": "white",
            "linecolor": "white",
            "ticks": ""
           }
          },
          "title": {
           "x": 0.05
          },
          "xaxis": {
           "automargin": true,
           "gridcolor": "white",
           "linecolor": "white",
           "ticks": "",
           "title": {
            "standoff": 15
           },
           "zerolinecolor": "white",
           "zerolinewidth": 2
          },
          "yaxis": {
           "automargin": true,
           "gridcolor": "white",
           "linecolor": "white",
           "ticks": "",
           "title": {
            "standoff": 15
           },
           "zerolinecolor": "white",
           "zerolinewidth": 2
          }
         }
        },
        "title": {
         "font": {
          "color": "#000000",
          "size": 24
         },
         "text": "Net migration"
        },
        "width": 900,
        "xaxis": {
         "showgrid": false,
         "title": {
          "text": "Year"
         }
        },
        "yaxis": {
         "gridcolor": "#c9c1b8",
         "showgrid": true,
         "title": {
          "text": "People"
         }
        }
       }
      }
     },
     "metadata": {},
     "output_type": "display_data"
    }
   ],
   "source": [
    "colors = ['#C10000', '#d39b81','#0476D9','#75A3BF','#F2668B','#025E73','#011F26','#026873','#03A688','#D4C2AD','#66796B','#BB0000']\n",
    "columns = ['Year','Net migration', 'Country']\n",
    "df_selected = east_africa_countries_data[columns]\n",
    "columns=df_selected.columns\n",
    "create_line_chart_static(df_selected,'Net migration',columns[1:],colors)"
   ]
  },
  {
   "cell_type": "code",
   "execution_count": 169,
   "metadata": {},
   "outputs": [
    {
     "data": {
      "application/vnd.plotly.v1+json": {
       "config": {
        "plotlyServerURL": "https://plot.ly"
       },
       "data": [
        {
         "marker": {
          "color": [
           "#C10000",
           "#d39b81",
           "#0476D9",
           "#75A3BF",
           "#F2668B",
           "#025E73",
           "#011F26",
           "#026873",
           "#03A688",
           "#D4C2AD",
           "#66796B",
           "#BB0000"
          ]
         },
         "type": "bar",
         "x": [
          "Burundi",
          "Djibouti",
          "Eritrea",
          "Ethiopia",
          "Kenya",
          "Rwanda",
          "Somalia",
          "South Sudan",
          "Sudan",
          "Tanzania",
          "Uganda"
         ],
         "y": [
          -1072647,
          321337,
          -758634,
          2102257,
          -1955572,
          -923259,
          -729350,
          -416295,
          -2796780,
          -1336931,
          -3040981
         ]
        }
       ],
       "layout": {
        "annotations": [
         {
          "align": "left",
          "font": {
           "color": "#1100FF",
           "size": 10
          },
          "showarrow": false,
          "text": "Copyright © 2023 Najib Abdullahi",
          "x": 0,
          "xanchor": "left",
          "xref": "paper",
          "y": 0.1,
          "yanchor": "top",
          "yref": "paper"
         },
         {
          "align": "right",
          "font": {
           "color": "#1100FF",
           "size": 10
          },
          "showarrow": false,
          "text": "Source: World Bank",
          "x": 1.06,
          "xanchor": "right",
          "xref": "paper",
          "y": 0.09,
          "yanchor": "top",
          "yref": "paper"
         }
        ],
        "autosize": true,
        "font": {
         "color": "black",
         "family": "Poppins",
         "size": 12
        },
        "height": 700,
        "legend": {
         "bgcolor": "#ffffff",
         "bordercolor": "#000000",
         "borderwidth": 1,
         "font": {
          "size": 12
         },
         "itemclick": "toggle",
         "itemdoubleclick": "toggleothers",
         "tracegroupgap": 10,
         "traceorder": "normal",
         "x": 1,
         "xanchor": "left",
         "y": 1.05,
         "yanchor": "top"
        },
        "margin": {
         "b": 50,
         "l": 50,
         "pad": 4,
         "r": 50,
         "t": 80
        },
        "paper_bgcolor": "#f8f8f8",
        "plot_bgcolor": "#f8f8f8",
        "template": {
         "data": {
          "bar": [
           {
            "error_x": {
             "color": "#2a3f5f"
            },
            "error_y": {
             "color": "#2a3f5f"
            },
            "marker": {
             "line": {
              "color": "#E5ECF6",
              "width": 0.5
             },
             "pattern": {
              "fillmode": "overlay",
              "size": 10,
              "solidity": 0.2
             }
            },
            "type": "bar"
           }
          ],
          "barpolar": [
           {
            "marker": {
             "line": {
              "color": "#E5ECF6",
              "width": 0.5
             },
             "pattern": {
              "fillmode": "overlay",
              "size": 10,
              "solidity": 0.2
             }
            },
            "type": "barpolar"
           }
          ],
          "carpet": [
           {
            "aaxis": {
             "endlinecolor": "#2a3f5f",
             "gridcolor": "white",
             "linecolor": "white",
             "minorgridcolor": "white",
             "startlinecolor": "#2a3f5f"
            },
            "baxis": {
             "endlinecolor": "#2a3f5f",
             "gridcolor": "white",
             "linecolor": "white",
             "minorgridcolor": "white",
             "startlinecolor": "#2a3f5f"
            },
            "type": "carpet"
           }
          ],
          "choropleth": [
           {
            "colorbar": {
             "outlinewidth": 0,
             "ticks": ""
            },
            "type": "choropleth"
           }
          ],
          "contour": [
           {
            "colorbar": {
             "outlinewidth": 0,
             "ticks": ""
            },
            "colorscale": [
             [
              0,
              "#0d0887"
             ],
             [
              0.1111111111111111,
              "#46039f"
             ],
             [
              0.2222222222222222,
              "#7201a8"
             ],
             [
              0.3333333333333333,
              "#9c179e"
             ],
             [
              0.4444444444444444,
              "#bd3786"
             ],
             [
              0.5555555555555556,
              "#d8576b"
             ],
             [
              0.6666666666666666,
              "#ed7953"
             ],
             [
              0.7777777777777778,
              "#fb9f3a"
             ],
             [
              0.8888888888888888,
              "#fdca26"
             ],
             [
              1,
              "#f0f921"
             ]
            ],
            "type": "contour"
           }
          ],
          "contourcarpet": [
           {
            "colorbar": {
             "outlinewidth": 0,
             "ticks": ""
            },
            "type": "contourcarpet"
           }
          ],
          "heatmap": [
           {
            "colorbar": {
             "outlinewidth": 0,
             "ticks": ""
            },
            "colorscale": [
             [
              0,
              "#0d0887"
             ],
             [
              0.1111111111111111,
              "#46039f"
             ],
             [
              0.2222222222222222,
              "#7201a8"
             ],
             [
              0.3333333333333333,
              "#9c179e"
             ],
             [
              0.4444444444444444,
              "#bd3786"
             ],
             [
              0.5555555555555556,
              "#d8576b"
             ],
             [
              0.6666666666666666,
              "#ed7953"
             ],
             [
              0.7777777777777778,
              "#fb9f3a"
             ],
             [
              0.8888888888888888,
              "#fdca26"
             ],
             [
              1,
              "#f0f921"
             ]
            ],
            "type": "heatmap"
           }
          ],
          "heatmapgl": [
           {
            "colorbar": {
             "outlinewidth": 0,
             "ticks": ""
            },
            "colorscale": [
             [
              0,
              "#0d0887"
             ],
             [
              0.1111111111111111,
              "#46039f"
             ],
             [
              0.2222222222222222,
              "#7201a8"
             ],
             [
              0.3333333333333333,
              "#9c179e"
             ],
             [
              0.4444444444444444,
              "#bd3786"
             ],
             [
              0.5555555555555556,
              "#d8576b"
             ],
             [
              0.6666666666666666,
              "#ed7953"
             ],
             [
              0.7777777777777778,
              "#fb9f3a"
             ],
             [
              0.8888888888888888,
              "#fdca26"
             ],
             [
              1,
              "#f0f921"
             ]
            ],
            "type": "heatmapgl"
           }
          ],
          "histogram": [
           {
            "marker": {
             "pattern": {
              "fillmode": "overlay",
              "size": 10,
              "solidity": 0.2
             }
            },
            "type": "histogram"
           }
          ],
          "histogram2d": [
           {
            "colorbar": {
             "outlinewidth": 0,
             "ticks": ""
            },
            "colorscale": [
             [
              0,
              "#0d0887"
             ],
             [
              0.1111111111111111,
              "#46039f"
             ],
             [
              0.2222222222222222,
              "#7201a8"
             ],
             [
              0.3333333333333333,
              "#9c179e"
             ],
             [
              0.4444444444444444,
              "#bd3786"
             ],
             [
              0.5555555555555556,
              "#d8576b"
             ],
             [
              0.6666666666666666,
              "#ed7953"
             ],
             [
              0.7777777777777778,
              "#fb9f3a"
             ],
             [
              0.8888888888888888,
              "#fdca26"
             ],
             [
              1,
              "#f0f921"
             ]
            ],
            "type": "histogram2d"
           }
          ],
          "histogram2dcontour": [
           {
            "colorbar": {
             "outlinewidth": 0,
             "ticks": ""
            },
            "colorscale": [
             [
              0,
              "#0d0887"
             ],
             [
              0.1111111111111111,
              "#46039f"
             ],
             [
              0.2222222222222222,
              "#7201a8"
             ],
             [
              0.3333333333333333,
              "#9c179e"
             ],
             [
              0.4444444444444444,
              "#bd3786"
             ],
             [
              0.5555555555555556,
              "#d8576b"
             ],
             [
              0.6666666666666666,
              "#ed7953"
             ],
             [
              0.7777777777777778,
              "#fb9f3a"
             ],
             [
              0.8888888888888888,
              "#fdca26"
             ],
             [
              1,
              "#f0f921"
             ]
            ],
            "type": "histogram2dcontour"
           }
          ],
          "mesh3d": [
           {
            "colorbar": {
             "outlinewidth": 0,
             "ticks": ""
            },
            "type": "mesh3d"
           }
          ],
          "parcoords": [
           {
            "line": {
             "colorbar": {
              "outlinewidth": 0,
              "ticks": ""
             }
            },
            "type": "parcoords"
           }
          ],
          "pie": [
           {
            "automargin": true,
            "type": "pie"
           }
          ],
          "scatter": [
           {
            "fillpattern": {
             "fillmode": "overlay",
             "size": 10,
             "solidity": 0.2
            },
            "type": "scatter"
           }
          ],
          "scatter3d": [
           {
            "line": {
             "colorbar": {
              "outlinewidth": 0,
              "ticks": ""
             }
            },
            "marker": {
             "colorbar": {
              "outlinewidth": 0,
              "ticks": ""
             }
            },
            "type": "scatter3d"
           }
          ],
          "scattercarpet": [
           {
            "marker": {
             "colorbar": {
              "outlinewidth": 0,
              "ticks": ""
             }
            },
            "type": "scattercarpet"
           }
          ],
          "scattergeo": [
           {
            "marker": {
             "colorbar": {
              "outlinewidth": 0,
              "ticks": ""
             }
            },
            "type": "scattergeo"
           }
          ],
          "scattergl": [
           {
            "marker": {
             "colorbar": {
              "outlinewidth": 0,
              "ticks": ""
             }
            },
            "type": "scattergl"
           }
          ],
          "scattermapbox": [
           {
            "marker": {
             "colorbar": {
              "outlinewidth": 0,
              "ticks": ""
             }
            },
            "type": "scattermapbox"
           }
          ],
          "scatterpolar": [
           {
            "marker": {
             "colorbar": {
              "outlinewidth": 0,
              "ticks": ""
             }
            },
            "type": "scatterpolar"
           }
          ],
          "scatterpolargl": [
           {
            "marker": {
             "colorbar": {
              "outlinewidth": 0,
              "ticks": ""
             }
            },
            "type": "scatterpolargl"
           }
          ],
          "scatterternary": [
           {
            "marker": {
             "colorbar": {
              "outlinewidth": 0,
              "ticks": ""
             }
            },
            "type": "scatterternary"
           }
          ],
          "surface": [
           {
            "colorbar": {
             "outlinewidth": 0,
             "ticks": ""
            },
            "colorscale": [
             [
              0,
              "#0d0887"
             ],
             [
              0.1111111111111111,
              "#46039f"
             ],
             [
              0.2222222222222222,
              "#7201a8"
             ],
             [
              0.3333333333333333,
              "#9c179e"
             ],
             [
              0.4444444444444444,
              "#bd3786"
             ],
             [
              0.5555555555555556,
              "#d8576b"
             ],
             [
              0.6666666666666666,
              "#ed7953"
             ],
             [
              0.7777777777777778,
              "#fb9f3a"
             ],
             [
              0.8888888888888888,
              "#fdca26"
             ],
             [
              1,
              "#f0f921"
             ]
            ],
            "type": "surface"
           }
          ],
          "table": [
           {
            "cells": {
             "fill": {
              "color": "#EBF0F8"
             },
             "line": {
              "color": "white"
             }
            },
            "header": {
             "fill": {
              "color": "#C8D4E3"
             },
             "line": {
              "color": "white"
             }
            },
            "type": "table"
           }
          ]
         },
         "layout": {
          "annotationdefaults": {
           "arrowcolor": "#2a3f5f",
           "arrowhead": 0,
           "arrowwidth": 1
          },
          "autotypenumbers": "strict",
          "coloraxis": {
           "colorbar": {
            "outlinewidth": 0,
            "ticks": ""
           }
          },
          "colorscale": {
           "diverging": [
            [
             0,
             "#8e0152"
            ],
            [
             0.1,
             "#c51b7d"
            ],
            [
             0.2,
             "#de77ae"
            ],
            [
             0.3,
             "#f1b6da"
            ],
            [
             0.4,
             "#fde0ef"
            ],
            [
             0.5,
             "#f7f7f7"
            ],
            [
             0.6,
             "#e6f5d0"
            ],
            [
             0.7,
             "#b8e186"
            ],
            [
             0.8,
             "#7fbc41"
            ],
            [
             0.9,
             "#4d9221"
            ],
            [
             1,
             "#276419"
            ]
           ],
           "sequential": [
            [
             0,
             "#0d0887"
            ],
            [
             0.1111111111111111,
             "#46039f"
            ],
            [
             0.2222222222222222,
             "#7201a8"
            ],
            [
             0.3333333333333333,
             "#9c179e"
            ],
            [
             0.4444444444444444,
             "#bd3786"
            ],
            [
             0.5555555555555556,
             "#d8576b"
            ],
            [
             0.6666666666666666,
             "#ed7953"
            ],
            [
             0.7777777777777778,
             "#fb9f3a"
            ],
            [
             0.8888888888888888,
             "#fdca26"
            ],
            [
             1,
             "#f0f921"
            ]
           ],
           "sequentialminus": [
            [
             0,
             "#0d0887"
            ],
            [
             0.1111111111111111,
             "#46039f"
            ],
            [
             0.2222222222222222,
             "#7201a8"
            ],
            [
             0.3333333333333333,
             "#9c179e"
            ],
            [
             0.4444444444444444,
             "#bd3786"
            ],
            [
             0.5555555555555556,
             "#d8576b"
            ],
            [
             0.6666666666666666,
             "#ed7953"
            ],
            [
             0.7777777777777778,
             "#fb9f3a"
            ],
            [
             0.8888888888888888,
             "#fdca26"
            ],
            [
             1,
             "#f0f921"
            ]
           ]
          },
          "colorway": [
           "#636efa",
           "#EF553B",
           "#00cc96",
           "#ab63fa",
           "#FFA15A",
           "#19d3f3",
           "#FF6692",
           "#B6E880",
           "#FF97FF",
           "#FECB52"
          ],
          "font": {
           "color": "#2a3f5f"
          },
          "geo": {
           "bgcolor": "white",
           "lakecolor": "white",
           "landcolor": "#E5ECF6",
           "showlakes": true,
           "showland": true,
           "subunitcolor": "white"
          },
          "hoverlabel": {
           "align": "left"
          },
          "hovermode": "closest",
          "mapbox": {
           "style": "light"
          },
          "paper_bgcolor": "white",
          "plot_bgcolor": "#E5ECF6",
          "polar": {
           "angularaxis": {
            "gridcolor": "white",
            "linecolor": "white",
            "ticks": ""
           },
           "bgcolor": "#E5ECF6",
           "radialaxis": {
            "gridcolor": "white",
            "linecolor": "white",
            "ticks": ""
           }
          },
          "scene": {
           "xaxis": {
            "backgroundcolor": "#E5ECF6",
            "gridcolor": "white",
            "gridwidth": 2,
            "linecolor": "white",
            "showbackground": true,
            "ticks": "",
            "zerolinecolor": "white"
           },
           "yaxis": {
            "backgroundcolor": "#E5ECF6",
            "gridcolor": "white",
            "gridwidth": 2,
            "linecolor": "white",
            "showbackground": true,
            "ticks": "",
            "zerolinecolor": "white"
           },
           "zaxis": {
            "backgroundcolor": "#E5ECF6",
            "gridcolor": "white",
            "gridwidth": 2,
            "linecolor": "white",
            "showbackground": true,
            "ticks": "",
            "zerolinecolor": "white"
           }
          },
          "shapedefaults": {
           "line": {
            "color": "#2a3f5f"
           }
          },
          "ternary": {
           "aaxis": {
            "gridcolor": "white",
            "linecolor": "white",
            "ticks": ""
           },
           "baxis": {
            "gridcolor": "white",
            "linecolor": "white",
            "ticks": ""
           },
           "bgcolor": "#E5ECF6",
           "caxis": {
            "gridcolor": "white",
            "linecolor": "white",
            "ticks": ""
           }
          },
          "title": {
           "x": 0.05
          },
          "xaxis": {
           "automargin": true,
           "gridcolor": "white",
           "linecolor": "white",
           "ticks": "",
           "title": {
            "standoff": 15
           },
           "zerolinecolor": "white",
           "zerolinewidth": 2
          },
          "yaxis": {
           "automargin": true,
           "gridcolor": "white",
           "linecolor": "white",
           "ticks": "",
           "title": {
            "standoff": 15
           },
           "zerolinecolor": "white",
           "zerolinewidth": 2
          }
         }
        },
        "title": {
         "font": {
          "color": "#000000",
          "size": 24
         },
         "text": "Total Net Migration by Country"
        },
        "width": 900,
        "xaxis": {
         "showgrid": false,
         "title": {
          "text": "Year"
         }
        },
        "yaxis": {
         "gridcolor": "#c9c1b8",
         "showgrid": true,
         "title": {
          "text": "People"
         }
        }
       }
      }
     },
     "metadata": {},
     "output_type": "display_data"
    }
   ],
   "source": [
    "colors = ['#C10000', '#d39b81','#0476D9','#75A3BF','#F2668B','#025E73','#011F26','#026873','#03A688','#D4C2AD','#66796B','#BB0000']\n",
    "columns = ['Year','Net migration', 'Country']\n",
    "df_selected = east_africa_countries_data[columns]\n",
    "columns=df_selected.columns\n",
    "# Combine total net migration for each country\n",
    "total_net_migration = df_selected.groupby('Country')['Net migration'].sum().reset_index().round(2)\n",
    "\n",
    "create_bar_chart_static(total_net_migration,'Net migration',columns[1:],colors)"
   ]
  },
  {
   "cell_type": "code",
   "execution_count": 110,
   "metadata": {},
   "outputs": [
    {
     "data": {
      "application/vnd.plotly.v1+json": {
       "config": {
        "plotlyServerURL": "https://plot.ly"
       },
       "data": [
        {
         "line": {
          "color": "#C10000"
         },
         "mode": "lines+markers",
         "name": "Burundi",
         "type": "scatter",
         "x": [
          "2016-01-01T00:00:00",
          "2015-01-01T00:00:00",
          "2014-01-01T00:00:00",
          "2013-01-01T00:00:00",
          "2012-01-01T00:00:00",
          "2011-01-01T00:00:00",
          "2010-01-01T00:00:00",
          "2009-01-01T00:00:00",
          "2008-01-01T00:00:00",
          "2007-01-01T00:00:00",
          "2006-01-01T00:00:00",
          "2005-01-01T00:00:00",
          "2004-01-01T00:00:00",
          "2003-01-01T00:00:00",
          "2002-01-01T00:00:00",
          "2001-01-01T00:00:00",
          "2000-01-01T00:00:00",
          "1999-01-01T00:00:00",
          "1998-01-01T00:00:00",
          "1997-01-01T00:00:00",
          "1996-01-01T00:00:00",
          "1995-01-01T00:00:00",
          "1994-01-01T00:00:00",
          "1993-01-01T00:00:00",
          "1992-01-01T00:00:00",
          "1991-01-01T00:00:00",
          "1990-01-01T00:00:00",
          "1989-01-01T00:00:00",
          "1988-01-01T00:00:00",
          "1987-01-01T00:00:00",
          "1986-01-01T00:00:00",
          "1985-01-01T00:00:00",
          "1984-01-01T00:00:00",
          "1983-01-01T00:00:00",
          "1982-01-01T00:00:00",
          "1981-01-01T00:00:00",
          "1980-01-01T00:00:00",
          "1979-01-01T00:00:00",
          "1978-01-01T00:00:00",
          "1977-01-01T00:00:00",
          "1976-01-01T00:00:00",
          "1975-01-01T00:00:00",
          "1974-01-01T00:00:00",
          "1973-01-01T00:00:00",
          "1972-01-01T00:00:00",
          "1971-01-01T00:00:00",
          "1970-01-01T00:00:00",
          "1969-01-01T00:00:00",
          "1968-01-01T00:00:00",
          "1967-01-01T00:00:00",
          "1966-01-01T00:00:00",
          "1965-01-01T00:00:00",
          "1964-01-01T00:00:00",
          "1963-01-01T00:00:00",
          "1962-01-01T00:00:00",
          "1961-01-01T00:00:00",
          "1960-01-01T00:00:00"
         ],
         "y": [
          null,
          286810,
          null,
          null,
          null,
          null,
          235259,
          null,
          null,
          null,
          null,
          172874,
          null,
          null,
          null,
          null,
          125628,
          null,
          null,
          null,
          null,
          254853,
          null,
          null,
          null,
          null,
          333110,
          null,
          null,
          null,
          null,
          343406,
          null,
          null,
          null,
          null,
          223791,
          null,
          null,
          null,
          null,
          139741,
          null,
          null,
          null,
          null,
          143820,
          null,
          null,
          null,
          null,
          184633,
          null,
          null,
          null,
          null,
          126323
         ]
        },
        {
         "line": {
          "color": "#d39b81"
         },
         "mode": "lines+markers",
         "name": "Djibouti",
         "type": "scatter",
         "x": [
          "2016-01-01T00:00:00",
          "2015-01-01T00:00:00",
          "2014-01-01T00:00:00",
          "2013-01-01T00:00:00",
          "2012-01-01T00:00:00",
          "2011-01-01T00:00:00",
          "2010-01-01T00:00:00",
          "2009-01-01T00:00:00",
          "2008-01-01T00:00:00",
          "2007-01-01T00:00:00",
          "2006-01-01T00:00:00",
          "2005-01-01T00:00:00",
          "2004-01-01T00:00:00",
          "2003-01-01T00:00:00",
          "2002-01-01T00:00:00",
          "2001-01-01T00:00:00",
          "2000-01-01T00:00:00",
          "1999-01-01T00:00:00",
          "1998-01-01T00:00:00",
          "1997-01-01T00:00:00",
          "1996-01-01T00:00:00",
          "1995-01-01T00:00:00",
          "1994-01-01T00:00:00",
          "1993-01-01T00:00:00",
          "1992-01-01T00:00:00",
          "1991-01-01T00:00:00",
          "1990-01-01T00:00:00",
          "1989-01-01T00:00:00",
          "1988-01-01T00:00:00",
          "1987-01-01T00:00:00",
          "1986-01-01T00:00:00",
          "1985-01-01T00:00:00",
          "1984-01-01T00:00:00",
          "1983-01-01T00:00:00",
          "1982-01-01T00:00:00",
          "1981-01-01T00:00:00",
          "1980-01-01T00:00:00",
          "1979-01-01T00:00:00",
          "1978-01-01T00:00:00",
          "1977-01-01T00:00:00",
          "1976-01-01T00:00:00",
          "1975-01-01T00:00:00",
          "1974-01-01T00:00:00",
          "1973-01-01T00:00:00",
          "1972-01-01T00:00:00",
          "1971-01-01T00:00:00",
          "1970-01-01T00:00:00",
          "1969-01-01T00:00:00",
          "1968-01-01T00:00:00",
          "1967-01-01T00:00:00",
          "1966-01-01T00:00:00",
          "1965-01-01T00:00:00",
          "1964-01-01T00:00:00",
          "1963-01-01T00:00:00",
          "1962-01-01T00:00:00",
          "1961-01-01T00:00:00",
          "1960-01-01T00:00:00"
         ],
         "y": [
          null,
          112351,
          null,
          null,
          null,
          null,
          101575,
          null,
          null,
          null,
          null,
          92091,
          null,
          null,
          null,
          null,
          100507,
          null,
          null,
          null,
          null,
          99774,
          null,
          null,
          null,
          null,
          122221,
          null,
          null,
          null,
          null,
          67188,
          null,
          null,
          null,
          null,
          80230,
          null,
          null,
          null,
          null,
          28941,
          null,
          null,
          null,
          null,
          21440,
          null,
          null,
          null,
          null,
          15883,
          null,
          null,
          null,
          null,
          11766
         ]
        },
        {
         "line": {
          "color": "#0476D9"
         },
         "mode": "lines+markers",
         "name": "Eritrea",
         "type": "scatter",
         "x": [
          "2016-01-01T00:00:00",
          "2015-01-01T00:00:00",
          "2014-01-01T00:00:00",
          "2013-01-01T00:00:00",
          "2012-01-01T00:00:00",
          "2011-01-01T00:00:00",
          "2010-01-01T00:00:00",
          "2009-01-01T00:00:00",
          "2008-01-01T00:00:00",
          "2007-01-01T00:00:00",
          "2006-01-01T00:00:00",
          "2005-01-01T00:00:00",
          "2004-01-01T00:00:00",
          "2003-01-01T00:00:00",
          "2002-01-01T00:00:00",
          "2001-01-01T00:00:00",
          "2000-01-01T00:00:00",
          "1999-01-01T00:00:00",
          "1998-01-01T00:00:00",
          "1997-01-01T00:00:00",
          "1996-01-01T00:00:00",
          "1995-01-01T00:00:00",
          "1994-01-01T00:00:00",
          "1993-01-01T00:00:00",
          "1992-01-01T00:00:00",
          "1991-01-01T00:00:00",
          "1990-01-01T00:00:00",
          "1989-01-01T00:00:00",
          "1988-01-01T00:00:00",
          "1987-01-01T00:00:00",
          "1986-01-01T00:00:00",
          "1985-01-01T00:00:00",
          "1984-01-01T00:00:00",
          "1983-01-01T00:00:00",
          "1982-01-01T00:00:00",
          "1981-01-01T00:00:00",
          "1980-01-01T00:00:00",
          "1979-01-01T00:00:00",
          "1978-01-01T00:00:00",
          "1977-01-01T00:00:00",
          "1976-01-01T00:00:00",
          "1975-01-01T00:00:00",
          "1974-01-01T00:00:00",
          "1973-01-01T00:00:00",
          "1972-01-01T00:00:00",
          "1971-01-01T00:00:00",
          "1970-01-01T00:00:00",
          "1969-01-01T00:00:00",
          "1968-01-01T00:00:00",
          "1967-01-01T00:00:00",
          "1966-01-01T00:00:00",
          "1965-01-01T00:00:00",
          "1964-01-01T00:00:00",
          "1963-01-01T00:00:00",
          "1962-01-01T00:00:00",
          "1961-01-01T00:00:00",
          "1960-01-01T00:00:00"
         ],
         "y": [
          null,
          15941,
          null,
          null,
          null,
          null,
          15676,
          null,
          null,
          null,
          null,
          14314,
          null,
          null,
          null,
          null,
          12952,
          null,
          null,
          null,
          null,
          12400,
          null,
          null,
          null,
          null,
          11848,
          null,
          null,
          null,
          null,
          11040,
          null,
          null,
          null,
          null,
          10323,
          null,
          null,
          null,
          null,
          9585,
          null,
          null,
          null,
          null,
          8896,
          null,
          null,
          null,
          null,
          8266,
          null,
          null,
          null,
          null,
          7703
         ]
        },
        {
         "line": {
          "color": "#75A3BF"
         },
         "mode": "lines+markers",
         "name": "Ethiopia",
         "type": "scatter",
         "x": [
          "2016-01-01T00:00:00",
          "2015-01-01T00:00:00",
          "2014-01-01T00:00:00",
          "2013-01-01T00:00:00",
          "2012-01-01T00:00:00",
          "2011-01-01T00:00:00",
          "2010-01-01T00:00:00",
          "2009-01-01T00:00:00",
          "2008-01-01T00:00:00",
          "2007-01-01T00:00:00",
          "2006-01-01T00:00:00",
          "2005-01-01T00:00:00",
          "2004-01-01T00:00:00",
          "2003-01-01T00:00:00",
          "2002-01-01T00:00:00",
          "2001-01-01T00:00:00",
          "2000-01-01T00:00:00",
          "1999-01-01T00:00:00",
          "1998-01-01T00:00:00",
          "1997-01-01T00:00:00",
          "1996-01-01T00:00:00",
          "1995-01-01T00:00:00",
          "1994-01-01T00:00:00",
          "1993-01-01T00:00:00",
          "1992-01-01T00:00:00",
          "1991-01-01T00:00:00",
          "1990-01-01T00:00:00",
          "1989-01-01T00:00:00",
          "1988-01-01T00:00:00",
          "1987-01-01T00:00:00",
          "1986-01-01T00:00:00",
          "1985-01-01T00:00:00",
          "1984-01-01T00:00:00",
          "1983-01-01T00:00:00",
          "1982-01-01T00:00:00",
          "1981-01-01T00:00:00",
          "1980-01-01T00:00:00",
          "1979-01-01T00:00:00",
          "1978-01-01T00:00:00",
          "1977-01-01T00:00:00",
          "1976-01-01T00:00:00",
          "1975-01-01T00:00:00",
          "1974-01-01T00:00:00",
          "1973-01-01T00:00:00",
          "1972-01-01T00:00:00",
          "1971-01-01T00:00:00",
          "1970-01-01T00:00:00",
          "1969-01-01T00:00:00",
          "1968-01-01T00:00:00",
          "1967-01-01T00:00:00",
          "1966-01-01T00:00:00",
          "1965-01-01T00:00:00",
          "1964-01-01T00:00:00",
          "1963-01-01T00:00:00",
          "1962-01-01T00:00:00",
          "1961-01-01T00:00:00",
          "1960-01-01T00:00:00"
         ],
         "y": [
          null,
          1072949,
          null,
          null,
          null,
          null,
          567720,
          null,
          null,
          null,
          null,
          514242,
          null,
          null,
          null,
          null,
          611384,
          null,
          null,
          null,
          null,
          806904,
          null,
          null,
          null,
          null,
          1155390,
          null,
          null,
          null,
          null,
          583658,
          null,
          null,
          null,
          null,
          404192,
          null,
          null,
          null,
          null,
          392082,
          null,
          null,
          null,
          null,
          394582,
          null,
          null,
          null,
          null,
          383551,
          null,
          null,
          null,
          null,
          393260
         ]
        },
        {
         "line": {
          "color": "#F2668B"
         },
         "mode": "lines+markers",
         "name": "Kenya",
         "type": "scatter",
         "x": [
          "2016-01-01T00:00:00",
          "2015-01-01T00:00:00",
          "2014-01-01T00:00:00",
          "2013-01-01T00:00:00",
          "2012-01-01T00:00:00",
          "2011-01-01T00:00:00",
          "2010-01-01T00:00:00",
          "2009-01-01T00:00:00",
          "2008-01-01T00:00:00",
          "2007-01-01T00:00:00",
          "2006-01-01T00:00:00",
          "2005-01-01T00:00:00",
          "2004-01-01T00:00:00",
          "2003-01-01T00:00:00",
          "2002-01-01T00:00:00",
          "2001-01-01T00:00:00",
          "2000-01-01T00:00:00",
          "1999-01-01T00:00:00",
          "1998-01-01T00:00:00",
          "1997-01-01T00:00:00",
          "1996-01-01T00:00:00",
          "1995-01-01T00:00:00",
          "1994-01-01T00:00:00",
          "1993-01-01T00:00:00",
          "1992-01-01T00:00:00",
          "1991-01-01T00:00:00",
          "1990-01-01T00:00:00",
          "1989-01-01T00:00:00",
          "1988-01-01T00:00:00",
          "1987-01-01T00:00:00",
          "1986-01-01T00:00:00",
          "1985-01-01T00:00:00",
          "1984-01-01T00:00:00",
          "1983-01-01T00:00:00",
          "1982-01-01T00:00:00",
          "1981-01-01T00:00:00",
          "1980-01-01T00:00:00",
          "1979-01-01T00:00:00",
          "1978-01-01T00:00:00",
          "1977-01-01T00:00:00",
          "1976-01-01T00:00:00",
          "1975-01-01T00:00:00",
          "1974-01-01T00:00:00",
          "1973-01-01T00:00:00",
          "1972-01-01T00:00:00",
          "1971-01-01T00:00:00",
          "1970-01-01T00:00:00",
          "1969-01-01T00:00:00",
          "1968-01-01T00:00:00",
          "1967-01-01T00:00:00",
          "1966-01-01T00:00:00",
          "1965-01-01T00:00:00",
          "1964-01-01T00:00:00",
          "1963-01-01T00:00:00",
          "1962-01-01T00:00:00",
          "1961-01-01T00:00:00",
          "1960-01-01T00:00:00"
         ],
         "y": [
          null,
          1084357,
          null,
          null,
          null,
          null,
          926959,
          null,
          null,
          null,
          null,
          756894,
          null,
          null,
          null,
          null,
          699139,
          null,
          null,
          null,
          null,
          618745,
          null,
          null,
          null,
          null,
          297292,
          null,
          null,
          null,
          null,
          151664,
          null,
          null,
          null,
          null,
          159892,
          null,
          null,
          null,
          null,
          160512,
          null,
          null,
          null,
          null,
          159044,
          null,
          null,
          null,
          null,
          101581,
          null,
          null,
          null,
          null,
          59330
         ]
        },
        {
         "line": {
          "color": "#025E73"
         },
         "mode": "lines+markers",
         "name": "Rwanda",
         "type": "scatter",
         "x": [
          "2016-01-01T00:00:00",
          "2015-01-01T00:00:00",
          "2014-01-01T00:00:00",
          "2013-01-01T00:00:00",
          "2012-01-01T00:00:00",
          "2011-01-01T00:00:00",
          "2010-01-01T00:00:00",
          "2009-01-01T00:00:00",
          "2008-01-01T00:00:00",
          "2007-01-01T00:00:00",
          "2006-01-01T00:00:00",
          "2005-01-01T00:00:00",
          "2004-01-01T00:00:00",
          "2003-01-01T00:00:00",
          "2002-01-01T00:00:00",
          "2001-01-01T00:00:00",
          "2000-01-01T00:00:00",
          "1999-01-01T00:00:00",
          "1998-01-01T00:00:00",
          "1997-01-01T00:00:00",
          "1996-01-01T00:00:00",
          "1995-01-01T00:00:00",
          "1994-01-01T00:00:00",
          "1993-01-01T00:00:00",
          "1992-01-01T00:00:00",
          "1991-01-01T00:00:00",
          "1990-01-01T00:00:00",
          "1989-01-01T00:00:00",
          "1988-01-01T00:00:00",
          "1987-01-01T00:00:00",
          "1986-01-01T00:00:00",
          "1985-01-01T00:00:00",
          "1984-01-01T00:00:00",
          "1983-01-01T00:00:00",
          "1982-01-01T00:00:00",
          "1981-01-01T00:00:00",
          "1980-01-01T00:00:00",
          "1979-01-01T00:00:00",
          "1978-01-01T00:00:00",
          "1977-01-01T00:00:00",
          "1976-01-01T00:00:00",
          "1975-01-01T00:00:00",
          "1974-01-01T00:00:00",
          "1973-01-01T00:00:00",
          "1972-01-01T00:00:00",
          "1971-01-01T00:00:00",
          "1970-01-01T00:00:00",
          "1969-01-01T00:00:00",
          "1968-01-01T00:00:00",
          "1967-01-01T00:00:00",
          "1966-01-01T00:00:00",
          "1965-01-01T00:00:00",
          "1964-01-01T00:00:00",
          "1963-01-01T00:00:00",
          "1962-01-01T00:00:00",
          "1961-01-01T00:00:00",
          "1960-01-01T00:00:00"
         ],
         "y": [
          null,
          441525,
          null,
          null,
          null,
          null,
          436787,
          null,
          null,
          null,
          null,
          432797,
          null,
          null,
          null,
          null,
          347076,
          null,
          null,
          null,
          null,
          233200,
          null,
          null,
          null,
          null,
          159869,
          null,
          null,
          null,
          null,
          81111,
          null,
          null,
          null,
          null,
          53094,
          null,
          null,
          null,
          null,
          46732,
          null,
          null,
          null,
          null,
          35759,
          null,
          null,
          null,
          null,
          33441,
          null,
          null,
          null,
          null,
          28531
         ]
        },
        {
         "line": {
          "color": "#011F26"
         },
         "mode": "lines+markers",
         "name": "Sudan",
         "type": "scatter",
         "x": [
          "2016-01-01T00:00:00",
          "2015-01-01T00:00:00",
          "2014-01-01T00:00:00",
          "2013-01-01T00:00:00",
          "2012-01-01T00:00:00",
          "2011-01-01T00:00:00",
          "2010-01-01T00:00:00",
          "2009-01-01T00:00:00",
          "2008-01-01T00:00:00",
          "2007-01-01T00:00:00",
          "2006-01-01T00:00:00",
          "2005-01-01T00:00:00",
          "2004-01-01T00:00:00",
          "2003-01-01T00:00:00",
          "2002-01-01T00:00:00",
          "2001-01-01T00:00:00",
          "2000-01-01T00:00:00",
          "1999-01-01T00:00:00",
          "1998-01-01T00:00:00",
          "1997-01-01T00:00:00",
          "1996-01-01T00:00:00",
          "1995-01-01T00:00:00",
          "1994-01-01T00:00:00",
          "1993-01-01T00:00:00",
          "1992-01-01T00:00:00",
          "1991-01-01T00:00:00",
          "1990-01-01T00:00:00",
          "1989-01-01T00:00:00",
          "1988-01-01T00:00:00",
          "1987-01-01T00:00:00",
          "1986-01-01T00:00:00",
          "1985-01-01T00:00:00",
          "1984-01-01T00:00:00",
          "1983-01-01T00:00:00",
          "1982-01-01T00:00:00",
          "1981-01-01T00:00:00",
          "1980-01-01T00:00:00",
          "1979-01-01T00:00:00",
          "1978-01-01T00:00:00",
          "1977-01-01T00:00:00",
          "1976-01-01T00:00:00",
          "1975-01-01T00:00:00",
          "1974-01-01T00:00:00",
          "1973-01-01T00:00:00",
          "1972-01-01T00:00:00",
          "1971-01-01T00:00:00",
          "1970-01-01T00:00:00",
          "1969-01-01T00:00:00",
          "1968-01-01T00:00:00",
          "1967-01-01T00:00:00",
          "1966-01-01T00:00:00",
          "1965-01-01T00:00:00",
          "1964-01-01T00:00:00",
          "1963-01-01T00:00:00",
          "1962-01-01T00:00:00",
          "1961-01-01T00:00:00",
          "1960-01-01T00:00:00"
         ],
         "y": [
          null,
          503477,
          null,
          null,
          null,
          null,
          578363,
          null,
          null,
          null,
          null,
          541994,
          null,
          null,
          null,
          null,
          801883,
          null,
          null,
          null,
          null,
          1053396,
          null,
          null,
          null,
          null,
          1402896,
          null,
          null,
          null,
          null,
          1407776,
          null,
          null,
          null,
          null,
          718515,
          null,
          null,
          null,
          null,
          321780,
          null,
          null,
          null,
          null,
          279972,
          null,
          null,
          null,
          null,
          236369,
          null,
          null,
          null,
          null,
          241992
         ]
        },
        {
         "line": {
          "color": "#026873"
         },
         "mode": "lines+markers",
         "name": "Somalia",
         "type": "scatter",
         "x": [
          "2016-01-01T00:00:00",
          "2015-01-01T00:00:00",
          "2014-01-01T00:00:00",
          "2013-01-01T00:00:00",
          "2012-01-01T00:00:00",
          "2011-01-01T00:00:00",
          "2010-01-01T00:00:00",
          "2009-01-01T00:00:00",
          "2008-01-01T00:00:00",
          "2007-01-01T00:00:00",
          "2006-01-01T00:00:00",
          "2005-01-01T00:00:00",
          "2004-01-01T00:00:00",
          "2003-01-01T00:00:00",
          "2002-01-01T00:00:00",
          "2001-01-01T00:00:00",
          "2000-01-01T00:00:00",
          "1999-01-01T00:00:00",
          "1998-01-01T00:00:00",
          "1997-01-01T00:00:00",
          "1996-01-01T00:00:00",
          "1995-01-01T00:00:00",
          "1994-01-01T00:00:00",
          "1993-01-01T00:00:00",
          "1992-01-01T00:00:00",
          "1991-01-01T00:00:00",
          "1990-01-01T00:00:00",
          "1989-01-01T00:00:00",
          "1988-01-01T00:00:00",
          "1987-01-01T00:00:00",
          "1986-01-01T00:00:00",
          "1985-01-01T00:00:00",
          "1984-01-01T00:00:00",
          "1983-01-01T00:00:00",
          "1982-01-01T00:00:00",
          "1981-01-01T00:00:00",
          "1980-01-01T00:00:00",
          "1979-01-01T00:00:00",
          "1978-01-01T00:00:00",
          "1977-01-01T00:00:00",
          "1976-01-01T00:00:00",
          "1975-01-01T00:00:00",
          "1974-01-01T00:00:00",
          "1973-01-01T00:00:00",
          "1972-01-01T00:00:00",
          "1971-01-01T00:00:00",
          "1970-01-01T00:00:00",
          "1969-01-01T00:00:00",
          "1968-01-01T00:00:00",
          "1967-01-01T00:00:00",
          "1966-01-01T00:00:00",
          "1965-01-01T00:00:00",
          "1964-01-01T00:00:00",
          "1963-01-01T00:00:00",
          "1962-01-01T00:00:00",
          "1961-01-01T00:00:00",
          "1960-01-01T00:00:00"
         ],
         "y": [
          null,
          25291,
          null,
          null,
          null,
          null,
          23995,
          null,
          null,
          null,
          null,
          20670,
          null,
          null,
          null,
          null,
          20087,
          null,
          null,
          null,
          null,
          19527,
          null,
          null,
          null,
          null,
          478294,
          null,
          null,
          null,
          null,
          774569,
          null,
          null,
          null,
          null,
          1605620,
          null,
          null,
          null,
          null,
          14048,
          null,
          null,
          null,
          null,
          13041,
          null,
          null,
          null,
          null,
          12136,
          null,
          null,
          null,
          null,
          11356
         ]
        },
        {
         "line": {
          "color": "#03A688"
         },
         "mode": "lines+markers",
         "name": "South Sudan",
         "type": "scatter",
         "x": [
          "2016-01-01T00:00:00",
          "2015-01-01T00:00:00",
          "2014-01-01T00:00:00",
          "2013-01-01T00:00:00",
          "2012-01-01T00:00:00",
          "2011-01-01T00:00:00",
          "2010-01-01T00:00:00",
          "2009-01-01T00:00:00",
          "2008-01-01T00:00:00",
          "2007-01-01T00:00:00",
          "2006-01-01T00:00:00",
          "2005-01-01T00:00:00",
          "2004-01-01T00:00:00",
          "2003-01-01T00:00:00",
          "2002-01-01T00:00:00",
          "2001-01-01T00:00:00",
          "2000-01-01T00:00:00",
          "1999-01-01T00:00:00",
          "1998-01-01T00:00:00",
          "1997-01-01T00:00:00",
          "1996-01-01T00:00:00",
          "1995-01-01T00:00:00",
          "1994-01-01T00:00:00",
          "1993-01-01T00:00:00",
          "1992-01-01T00:00:00",
          "1991-01-01T00:00:00",
          "1990-01-01T00:00:00",
          "1989-01-01T00:00:00",
          "1988-01-01T00:00:00",
          "1987-01-01T00:00:00",
          "1986-01-01T00:00:00",
          "1985-01-01T00:00:00",
          "1984-01-01T00:00:00",
          "1983-01-01T00:00:00",
          "1982-01-01T00:00:00",
          "1981-01-01T00:00:00",
          "1980-01-01T00:00:00",
          "1979-01-01T00:00:00",
          "1978-01-01T00:00:00",
          "1977-01-01T00:00:00",
          "1976-01-01T00:00:00",
          "1975-01-01T00:00:00",
          "1974-01-01T00:00:00",
          "1973-01-01T00:00:00",
          "1972-01-01T00:00:00",
          "1971-01-01T00:00:00",
          "1970-01-01T00:00:00",
          "1969-01-01T00:00:00",
          "1968-01-01T00:00:00",
          "1967-01-01T00:00:00",
          "1966-01-01T00:00:00",
          "1965-01-01T00:00:00",
          "1964-01-01T00:00:00",
          "1963-01-01T00:00:00",
          "1962-01-01T00:00:00",
          "1961-01-01T00:00:00",
          "1960-01-01T00:00:00"
         ],
         "y": [
          null,
          824122,
          null,
          null,
          null,
          null,
          257905,
          null,
          null,
          null,
          null,
          null,
          null,
          null,
          null,
          null,
          null,
          null,
          null,
          null,
          null,
          null,
          null,
          null,
          null,
          null,
          null,
          null,
          null,
          null,
          null,
          null,
          null,
          null,
          null,
          null,
          null,
          null,
          null,
          null,
          null,
          null,
          null,
          null,
          null,
          null,
          null,
          null,
          null,
          null,
          null,
          null,
          null,
          null,
          null,
          null,
          null
         ]
        },
        {
         "line": {
          "color": "#D4C2AD"
         },
         "mode": "lines+markers",
         "name": "Tanzania",
         "type": "scatter",
         "x": [
          "2016-01-01T00:00:00",
          "2015-01-01T00:00:00",
          "2014-01-01T00:00:00",
          "2013-01-01T00:00:00",
          "2012-01-01T00:00:00",
          "2011-01-01T00:00:00",
          "2010-01-01T00:00:00",
          "2009-01-01T00:00:00",
          "2008-01-01T00:00:00",
          "2007-01-01T00:00:00",
          "2006-01-01T00:00:00",
          "2005-01-01T00:00:00",
          "2004-01-01T00:00:00",
          "2003-01-01T00:00:00",
          "2002-01-01T00:00:00",
          "2001-01-01T00:00:00",
          "2000-01-01T00:00:00",
          "1999-01-01T00:00:00",
          "1998-01-01T00:00:00",
          "1997-01-01T00:00:00",
          "1996-01-01T00:00:00",
          "1995-01-01T00:00:00",
          "1994-01-01T00:00:00",
          "1993-01-01T00:00:00",
          "1992-01-01T00:00:00",
          "1991-01-01T00:00:00",
          "1990-01-01T00:00:00",
          "1989-01-01T00:00:00",
          "1988-01-01T00:00:00",
          "1987-01-01T00:00:00",
          "1986-01-01T00:00:00",
          "1985-01-01T00:00:00",
          "1984-01-01T00:00:00",
          "1983-01-01T00:00:00",
          "1982-01-01T00:00:00",
          "1981-01-01T00:00:00",
          "1980-01-01T00:00:00",
          "1979-01-01T00:00:00",
          "1978-01-01T00:00:00",
          "1977-01-01T00:00:00",
          "1976-01-01T00:00:00",
          "1975-01-01T00:00:00",
          "1974-01-01T00:00:00",
          "1973-01-01T00:00:00",
          "1972-01-01T00:00:00",
          "1971-01-01T00:00:00",
          "1970-01-01T00:00:00",
          "1969-01-01T00:00:00",
          "1968-01-01T00:00:00",
          "1967-01-01T00:00:00",
          "1966-01-01T00:00:00",
          "1965-01-01T00:00:00",
          "1964-01-01T00:00:00",
          "1963-01-01T00:00:00",
          "1962-01-01T00:00:00",
          "1961-01-01T00:00:00",
          "1960-01-01T00:00:00"
         ],
         "y": [
          null,
          261222,
          null,
          null,
          null,
          null,
          308600,
          null,
          null,
          null,
          null,
          770846,
          null,
          null,
          null,
          null,
          928180,
          null,
          null,
          null,
          null,
          1106043,
          null,
          null,
          null,
          null,
          574025,
          null,
          null,
          null,
          null,
          547608,
          null,
          null,
          null,
          null,
          557173,
          null,
          null,
          null,
          null,
          607887,
          null,
          null,
          null,
          null,
          505143,
          null,
          null,
          null,
          null,
          486241,
          null,
          null,
          null,
          null,
          477027
         ]
        },
        {
         "line": {
          "color": "#66796B"
         },
         "mode": "lines+markers",
         "name": "Uganda",
         "type": "scatter",
         "x": [
          "2016-01-01T00:00:00",
          "2015-01-01T00:00:00",
          "2014-01-01T00:00:00",
          "2013-01-01T00:00:00",
          "2012-01-01T00:00:00",
          "2011-01-01T00:00:00",
          "2010-01-01T00:00:00",
          "2009-01-01T00:00:00",
          "2008-01-01T00:00:00",
          "2007-01-01T00:00:00",
          "2006-01-01T00:00:00",
          "2005-01-01T00:00:00",
          "2004-01-01T00:00:00",
          "2003-01-01T00:00:00",
          "2002-01-01T00:00:00",
          "2001-01-01T00:00:00",
          "2000-01-01T00:00:00",
          "1999-01-01T00:00:00",
          "1998-01-01T00:00:00",
          "1997-01-01T00:00:00",
          "1996-01-01T00:00:00",
          "1995-01-01T00:00:00",
          "1994-01-01T00:00:00",
          "1993-01-01T00:00:00",
          "1992-01-01T00:00:00",
          "1991-01-01T00:00:00",
          "1990-01-01T00:00:00",
          "1989-01-01T00:00:00",
          "1988-01-01T00:00:00",
          "1987-01-01T00:00:00",
          "1986-01-01T00:00:00",
          "1985-01-01T00:00:00",
          "1984-01-01T00:00:00",
          "1983-01-01T00:00:00",
          "1982-01-01T00:00:00",
          "1981-01-01T00:00:00",
          "1980-01-01T00:00:00",
          "1979-01-01T00:00:00",
          "1978-01-01T00:00:00",
          "1977-01-01T00:00:00",
          "1976-01-01T00:00:00",
          "1975-01-01T00:00:00",
          "1974-01-01T00:00:00",
          "1973-01-01T00:00:00",
          "1972-01-01T00:00:00",
          "1971-01-01T00:00:00",
          "1970-01-01T00:00:00",
          "1969-01-01T00:00:00",
          "1968-01-01T00:00:00",
          "1967-01-01T00:00:00",
          "1966-01-01T00:00:00",
          "1965-01-01T00:00:00",
          "1964-01-01T00:00:00",
          "1963-01-01T00:00:00",
          "1962-01-01T00:00:00",
          "1961-01-01T00:00:00",
          "1960-01-01T00:00:00"
         ],
         "y": [
          null,
          749471,
          null,
          null,
          null,
          null,
          529160,
          null,
          null,
          null,
          null,
          652968,
          null,
          null,
          null,
          null,
          634703,
          null,
          null,
          null,
          null,
          634620,
          null,
          null,
          null,
          null,
          558307,
          null,
          null,
          null,
          null,
          633291,
          null,
          null,
          null,
          null,
          676609,
          null,
          null,
          null,
          null,
          774582,
          null,
          null,
          null,
          null,
          948875,
          null,
          null,
          null,
          null,
          907723,
          null,
          null,
          null,
          null,
          771730
         ]
        }
       ],
       "frames": [
        {
         "data": [
          {
           "line": {
            "color": "#C10000"
           },
           "mode": "lines+markers",
           "name": "Burundi",
           "type": "scatter",
           "x": [
            "2016-01-01T00:00:00"
           ],
           "y": [
            null
           ]
          },
          {
           "line": {
            "color": "#C10000"
           },
           "mode": "lines+markers",
           "name": "Burundi",
           "type": "scatter",
           "x": [
            "2015-01-01T00:00:00"
           ],
           "y": [
            286810
           ]
          },
          {
           "line": {
            "color": "#C10000"
           },
           "mode": "lines+markers",
           "name": "Burundi",
           "type": "scatter",
           "x": [
            "2014-01-01T00:00:00"
           ],
           "y": [
            null
           ]
          },
          {
           "line": {
            "color": "#C10000"
           },
           "mode": "lines+markers",
           "name": "Burundi",
           "type": "scatter",
           "x": [
            "2013-01-01T00:00:00"
           ],
           "y": [
            null
           ]
          },
          {
           "line": {
            "color": "#C10000"
           },
           "mode": "lines+markers",
           "name": "Burundi",
           "type": "scatter",
           "x": [
            "2012-01-01T00:00:00"
           ],
           "y": [
            null
           ]
          },
          {
           "line": {
            "color": "#C10000"
           },
           "mode": "lines+markers",
           "name": "Burundi",
           "type": "scatter",
           "x": [
            "2011-01-01T00:00:00"
           ],
           "y": [
            null
           ]
          },
          {
           "line": {
            "color": "#C10000"
           },
           "mode": "lines+markers",
           "name": "Burundi",
           "type": "scatter",
           "x": [
            "2010-01-01T00:00:00"
           ],
           "y": [
            235259
           ]
          },
          {
           "line": {
            "color": "#C10000"
           },
           "mode": "lines+markers",
           "name": "Burundi",
           "type": "scatter",
           "x": [
            "2009-01-01T00:00:00"
           ],
           "y": [
            null
           ]
          },
          {
           "line": {
            "color": "#C10000"
           },
           "mode": "lines+markers",
           "name": "Burundi",
           "type": "scatter",
           "x": [
            "2008-01-01T00:00:00"
           ],
           "y": [
            null
           ]
          },
          {
           "line": {
            "color": "#C10000"
           },
           "mode": "lines+markers",
           "name": "Burundi",
           "type": "scatter",
           "x": [
            "2007-01-01T00:00:00"
           ],
           "y": [
            null
           ]
          },
          {
           "line": {
            "color": "#C10000"
           },
           "mode": "lines+markers",
           "name": "Burundi",
           "type": "scatter",
           "x": [
            "2006-01-01T00:00:00"
           ],
           "y": [
            null
           ]
          },
          {
           "line": {
            "color": "#C10000"
           },
           "mode": "lines+markers",
           "name": "Burundi",
           "type": "scatter",
           "x": [
            "2005-01-01T00:00:00"
           ],
           "y": [
            172874
           ]
          },
          {
           "line": {
            "color": "#C10000"
           },
           "mode": "lines+markers",
           "name": "Burundi",
           "type": "scatter",
           "x": [
            "2004-01-01T00:00:00"
           ],
           "y": [
            null
           ]
          },
          {
           "line": {
            "color": "#C10000"
           },
           "mode": "lines+markers",
           "name": "Burundi",
           "type": "scatter",
           "x": [
            "2003-01-01T00:00:00"
           ],
           "y": [
            null
           ]
          },
          {
           "line": {
            "color": "#C10000"
           },
           "mode": "lines+markers",
           "name": "Burundi",
           "type": "scatter",
           "x": [
            "2002-01-01T00:00:00"
           ],
           "y": [
            null
           ]
          },
          {
           "line": {
            "color": "#C10000"
           },
           "mode": "lines+markers",
           "name": "Burundi",
           "type": "scatter",
           "x": [
            "2001-01-01T00:00:00"
           ],
           "y": [
            null
           ]
          },
          {
           "line": {
            "color": "#C10000"
           },
           "mode": "lines+markers",
           "name": "Burundi",
           "type": "scatter",
           "x": [
            "2000-01-01T00:00:00"
           ],
           "y": [
            125628
           ]
          },
          {
           "line": {
            "color": "#C10000"
           },
           "mode": "lines+markers",
           "name": "Burundi",
           "type": "scatter",
           "x": [
            "1999-01-01T00:00:00"
           ],
           "y": [
            null
           ]
          },
          {
           "line": {
            "color": "#C10000"
           },
           "mode": "lines+markers",
           "name": "Burundi",
           "type": "scatter",
           "x": [
            "1998-01-01T00:00:00"
           ],
           "y": [
            null
           ]
          },
          {
           "line": {
            "color": "#C10000"
           },
           "mode": "lines+markers",
           "name": "Burundi",
           "type": "scatter",
           "x": [
            "1997-01-01T00:00:00"
           ],
           "y": [
            null
           ]
          },
          {
           "line": {
            "color": "#C10000"
           },
           "mode": "lines+markers",
           "name": "Burundi",
           "type": "scatter",
           "x": [
            "1996-01-01T00:00:00"
           ],
           "y": [
            null
           ]
          },
          {
           "line": {
            "color": "#C10000"
           },
           "mode": "lines+markers",
           "name": "Burundi",
           "type": "scatter",
           "x": [
            "1995-01-01T00:00:00"
           ],
           "y": [
            254853
           ]
          },
          {
           "line": {
            "color": "#C10000"
           },
           "mode": "lines+markers",
           "name": "Burundi",
           "type": "scatter",
           "x": [
            "1994-01-01T00:00:00"
           ],
           "y": [
            null
           ]
          },
          {
           "line": {
            "color": "#C10000"
           },
           "mode": "lines+markers",
           "name": "Burundi",
           "type": "scatter",
           "x": [
            "1993-01-01T00:00:00"
           ],
           "y": [
            null
           ]
          },
          {
           "line": {
            "color": "#C10000"
           },
           "mode": "lines+markers",
           "name": "Burundi",
           "type": "scatter",
           "x": [
            "1992-01-01T00:00:00"
           ],
           "y": [
            null
           ]
          },
          {
           "line": {
            "color": "#C10000"
           },
           "mode": "lines+markers",
           "name": "Burundi",
           "type": "scatter",
           "x": [
            "1991-01-01T00:00:00"
           ],
           "y": [
            null
           ]
          },
          {
           "line": {
            "color": "#C10000"
           },
           "mode": "lines+markers",
           "name": "Burundi",
           "type": "scatter",
           "x": [
            "1990-01-01T00:00:00"
           ],
           "y": [
            333110
           ]
          },
          {
           "line": {
            "color": "#C10000"
           },
           "mode": "lines+markers",
           "name": "Burundi",
           "type": "scatter",
           "x": [
            "1989-01-01T00:00:00"
           ],
           "y": [
            null
           ]
          },
          {
           "line": {
            "color": "#C10000"
           },
           "mode": "lines+markers",
           "name": "Burundi",
           "type": "scatter",
           "x": [
            "1988-01-01T00:00:00"
           ],
           "y": [
            null
           ]
          },
          {
           "line": {
            "color": "#C10000"
           },
           "mode": "lines+markers",
           "name": "Burundi",
           "type": "scatter",
           "x": [
            "1987-01-01T00:00:00"
           ],
           "y": [
            null
           ]
          },
          {
           "line": {
            "color": "#C10000"
           },
           "mode": "lines+markers",
           "name": "Burundi",
           "type": "scatter",
           "x": [
            "1986-01-01T00:00:00"
           ],
           "y": [
            null
           ]
          },
          {
           "line": {
            "color": "#C10000"
           },
           "mode": "lines+markers",
           "name": "Burundi",
           "type": "scatter",
           "x": [
            "1985-01-01T00:00:00"
           ],
           "y": [
            343406
           ]
          },
          {
           "line": {
            "color": "#C10000"
           },
           "mode": "lines+markers",
           "name": "Burundi",
           "type": "scatter",
           "x": [
            "1984-01-01T00:00:00"
           ],
           "y": [
            null
           ]
          },
          {
           "line": {
            "color": "#C10000"
           },
           "mode": "lines+markers",
           "name": "Burundi",
           "type": "scatter",
           "x": [
            "1983-01-01T00:00:00"
           ],
           "y": [
            null
           ]
          },
          {
           "line": {
            "color": "#C10000"
           },
           "mode": "lines+markers",
           "name": "Burundi",
           "type": "scatter",
           "x": [
            "1982-01-01T00:00:00"
           ],
           "y": [
            null
           ]
          },
          {
           "line": {
            "color": "#C10000"
           },
           "mode": "lines+markers",
           "name": "Burundi",
           "type": "scatter",
           "x": [
            "1981-01-01T00:00:00"
           ],
           "y": [
            null
           ]
          },
          {
           "line": {
            "color": "#C10000"
           },
           "mode": "lines+markers",
           "name": "Burundi",
           "type": "scatter",
           "x": [
            "1980-01-01T00:00:00"
           ],
           "y": [
            223791
           ]
          },
          {
           "line": {
            "color": "#C10000"
           },
           "mode": "lines+markers",
           "name": "Burundi",
           "type": "scatter",
           "x": [
            "1979-01-01T00:00:00"
           ],
           "y": [
            null
           ]
          },
          {
           "line": {
            "color": "#C10000"
           },
           "mode": "lines+markers",
           "name": "Burundi",
           "type": "scatter",
           "x": [
            "1978-01-01T00:00:00"
           ],
           "y": [
            null
           ]
          },
          {
           "line": {
            "color": "#C10000"
           },
           "mode": "lines+markers",
           "name": "Burundi",
           "type": "scatter",
           "x": [
            "1977-01-01T00:00:00"
           ],
           "y": [
            null
           ]
          },
          {
           "line": {
            "color": "#C10000"
           },
           "mode": "lines+markers",
           "name": "Burundi",
           "type": "scatter",
           "x": [
            "1976-01-01T00:00:00"
           ],
           "y": [
            null
           ]
          },
          {
           "line": {
            "color": "#C10000"
           },
           "mode": "lines+markers",
           "name": "Burundi",
           "type": "scatter",
           "x": [
            "1975-01-01T00:00:00"
           ],
           "y": [
            139741
           ]
          },
          {
           "line": {
            "color": "#C10000"
           },
           "mode": "lines+markers",
           "name": "Burundi",
           "type": "scatter",
           "x": [
            "1974-01-01T00:00:00"
           ],
           "y": [
            null
           ]
          },
          {
           "line": {
            "color": "#C10000"
           },
           "mode": "lines+markers",
           "name": "Burundi",
           "type": "scatter",
           "x": [
            "1973-01-01T00:00:00"
           ],
           "y": [
            null
           ]
          },
          {
           "line": {
            "color": "#C10000"
           },
           "mode": "lines+markers",
           "name": "Burundi",
           "type": "scatter",
           "x": [
            "1972-01-01T00:00:00"
           ],
           "y": [
            null
           ]
          },
          {
           "line": {
            "color": "#C10000"
           },
           "mode": "lines+markers",
           "name": "Burundi",
           "type": "scatter",
           "x": [
            "1971-01-01T00:00:00"
           ],
           "y": [
            null
           ]
          },
          {
           "line": {
            "color": "#C10000"
           },
           "mode": "lines+markers",
           "name": "Burundi",
           "type": "scatter",
           "x": [
            "1970-01-01T00:00:00"
           ],
           "y": [
            143820
           ]
          },
          {
           "line": {
            "color": "#C10000"
           },
           "mode": "lines+markers",
           "name": "Burundi",
           "type": "scatter",
           "x": [
            "1969-01-01T00:00:00"
           ],
           "y": [
            null
           ]
          },
          {
           "line": {
            "color": "#C10000"
           },
           "mode": "lines+markers",
           "name": "Burundi",
           "type": "scatter",
           "x": [
            "1968-01-01T00:00:00"
           ],
           "y": [
            null
           ]
          },
          {
           "line": {
            "color": "#C10000"
           },
           "mode": "lines+markers",
           "name": "Burundi",
           "type": "scatter",
           "x": [
            "1967-01-01T00:00:00"
           ],
           "y": [
            null
           ]
          },
          {
           "line": {
            "color": "#C10000"
           },
           "mode": "lines+markers",
           "name": "Burundi",
           "type": "scatter",
           "x": [
            "1966-01-01T00:00:00"
           ],
           "y": [
            null
           ]
          },
          {
           "line": {
            "color": "#C10000"
           },
           "mode": "lines+markers",
           "name": "Burundi",
           "type": "scatter",
           "x": [
            "1965-01-01T00:00:00"
           ],
           "y": [
            184633
           ]
          },
          {
           "line": {
            "color": "#C10000"
           },
           "mode": "lines+markers",
           "name": "Burundi",
           "type": "scatter",
           "x": [
            "1964-01-01T00:00:00"
           ],
           "y": [
            null
           ]
          },
          {
           "line": {
            "color": "#C10000"
           },
           "mode": "lines+markers",
           "name": "Burundi",
           "type": "scatter",
           "x": [
            "1963-01-01T00:00:00"
           ],
           "y": [
            null
           ]
          },
          {
           "line": {
            "color": "#C10000"
           },
           "mode": "lines+markers",
           "name": "Burundi",
           "type": "scatter",
           "x": [
            "1962-01-01T00:00:00"
           ],
           "y": [
            null
           ]
          },
          {
           "line": {
            "color": "#C10000"
           },
           "mode": "lines+markers",
           "name": "Burundi",
           "type": "scatter",
           "x": [
            "1961-01-01T00:00:00"
           ],
           "y": [
            null
           ]
          },
          {
           "line": {
            "color": "#C10000"
           },
           "mode": "lines+markers",
           "name": "Burundi",
           "type": "scatter",
           "x": [
            "1960-01-01T00:00:00"
           ],
           "y": [
            126323
           ]
          }
         ],
         "name": "Burundi"
        },
        {
         "data": [
          {
           "line": {
            "color": "#d39b81"
           },
           "mode": "lines+markers",
           "name": "Djibouti",
           "type": "scatter",
           "x": [
            "2016-01-01T00:00:00"
           ],
           "y": [
            null
           ]
          },
          {
           "line": {
            "color": "#d39b81"
           },
           "mode": "lines+markers",
           "name": "Djibouti",
           "type": "scatter",
           "x": [
            "2015-01-01T00:00:00"
           ],
           "y": [
            112351
           ]
          },
          {
           "line": {
            "color": "#d39b81"
           },
           "mode": "lines+markers",
           "name": "Djibouti",
           "type": "scatter",
           "x": [
            "2014-01-01T00:00:00"
           ],
           "y": [
            null
           ]
          },
          {
           "line": {
            "color": "#d39b81"
           },
           "mode": "lines+markers",
           "name": "Djibouti",
           "type": "scatter",
           "x": [
            "2013-01-01T00:00:00"
           ],
           "y": [
            null
           ]
          },
          {
           "line": {
            "color": "#d39b81"
           },
           "mode": "lines+markers",
           "name": "Djibouti",
           "type": "scatter",
           "x": [
            "2012-01-01T00:00:00"
           ],
           "y": [
            null
           ]
          },
          {
           "line": {
            "color": "#d39b81"
           },
           "mode": "lines+markers",
           "name": "Djibouti",
           "type": "scatter",
           "x": [
            "2011-01-01T00:00:00"
           ],
           "y": [
            null
           ]
          },
          {
           "line": {
            "color": "#d39b81"
           },
           "mode": "lines+markers",
           "name": "Djibouti",
           "type": "scatter",
           "x": [
            "2010-01-01T00:00:00"
           ],
           "y": [
            101575
           ]
          },
          {
           "line": {
            "color": "#d39b81"
           },
           "mode": "lines+markers",
           "name": "Djibouti",
           "type": "scatter",
           "x": [
            "2009-01-01T00:00:00"
           ],
           "y": [
            null
           ]
          },
          {
           "line": {
            "color": "#d39b81"
           },
           "mode": "lines+markers",
           "name": "Djibouti",
           "type": "scatter",
           "x": [
            "2008-01-01T00:00:00"
           ],
           "y": [
            null
           ]
          },
          {
           "line": {
            "color": "#d39b81"
           },
           "mode": "lines+markers",
           "name": "Djibouti",
           "type": "scatter",
           "x": [
            "2007-01-01T00:00:00"
           ],
           "y": [
            null
           ]
          },
          {
           "line": {
            "color": "#d39b81"
           },
           "mode": "lines+markers",
           "name": "Djibouti",
           "type": "scatter",
           "x": [
            "2006-01-01T00:00:00"
           ],
           "y": [
            null
           ]
          },
          {
           "line": {
            "color": "#d39b81"
           },
           "mode": "lines+markers",
           "name": "Djibouti",
           "type": "scatter",
           "x": [
            "2005-01-01T00:00:00"
           ],
           "y": [
            92091
           ]
          },
          {
           "line": {
            "color": "#d39b81"
           },
           "mode": "lines+markers",
           "name": "Djibouti",
           "type": "scatter",
           "x": [
            "2004-01-01T00:00:00"
           ],
           "y": [
            null
           ]
          },
          {
           "line": {
            "color": "#d39b81"
           },
           "mode": "lines+markers",
           "name": "Djibouti",
           "type": "scatter",
           "x": [
            "2003-01-01T00:00:00"
           ],
           "y": [
            null
           ]
          },
          {
           "line": {
            "color": "#d39b81"
           },
           "mode": "lines+markers",
           "name": "Djibouti",
           "type": "scatter",
           "x": [
            "2002-01-01T00:00:00"
           ],
           "y": [
            null
           ]
          },
          {
           "line": {
            "color": "#d39b81"
           },
           "mode": "lines+markers",
           "name": "Djibouti",
           "type": "scatter",
           "x": [
            "2001-01-01T00:00:00"
           ],
           "y": [
            null
           ]
          },
          {
           "line": {
            "color": "#d39b81"
           },
           "mode": "lines+markers",
           "name": "Djibouti",
           "type": "scatter",
           "x": [
            "2000-01-01T00:00:00"
           ],
           "y": [
            100507
           ]
          },
          {
           "line": {
            "color": "#d39b81"
           },
           "mode": "lines+markers",
           "name": "Djibouti",
           "type": "scatter",
           "x": [
            "1999-01-01T00:00:00"
           ],
           "y": [
            null
           ]
          },
          {
           "line": {
            "color": "#d39b81"
           },
           "mode": "lines+markers",
           "name": "Djibouti",
           "type": "scatter",
           "x": [
            "1998-01-01T00:00:00"
           ],
           "y": [
            null
           ]
          },
          {
           "line": {
            "color": "#d39b81"
           },
           "mode": "lines+markers",
           "name": "Djibouti",
           "type": "scatter",
           "x": [
            "1997-01-01T00:00:00"
           ],
           "y": [
            null
           ]
          },
          {
           "line": {
            "color": "#d39b81"
           },
           "mode": "lines+markers",
           "name": "Djibouti",
           "type": "scatter",
           "x": [
            "1996-01-01T00:00:00"
           ],
           "y": [
            null
           ]
          },
          {
           "line": {
            "color": "#d39b81"
           },
           "mode": "lines+markers",
           "name": "Djibouti",
           "type": "scatter",
           "x": [
            "1995-01-01T00:00:00"
           ],
           "y": [
            99774
           ]
          },
          {
           "line": {
            "color": "#d39b81"
           },
           "mode": "lines+markers",
           "name": "Djibouti",
           "type": "scatter",
           "x": [
            "1994-01-01T00:00:00"
           ],
           "y": [
            null
           ]
          },
          {
           "line": {
            "color": "#d39b81"
           },
           "mode": "lines+markers",
           "name": "Djibouti",
           "type": "scatter",
           "x": [
            "1993-01-01T00:00:00"
           ],
           "y": [
            null
           ]
          },
          {
           "line": {
            "color": "#d39b81"
           },
           "mode": "lines+markers",
           "name": "Djibouti",
           "type": "scatter",
           "x": [
            "1992-01-01T00:00:00"
           ],
           "y": [
            null
           ]
          },
          {
           "line": {
            "color": "#d39b81"
           },
           "mode": "lines+markers",
           "name": "Djibouti",
           "type": "scatter",
           "x": [
            "1991-01-01T00:00:00"
           ],
           "y": [
            null
           ]
          },
          {
           "line": {
            "color": "#d39b81"
           },
           "mode": "lines+markers",
           "name": "Djibouti",
           "type": "scatter",
           "x": [
            "1990-01-01T00:00:00"
           ],
           "y": [
            122221
           ]
          },
          {
           "line": {
            "color": "#d39b81"
           },
           "mode": "lines+markers",
           "name": "Djibouti",
           "type": "scatter",
           "x": [
            "1989-01-01T00:00:00"
           ],
           "y": [
            null
           ]
          },
          {
           "line": {
            "color": "#d39b81"
           },
           "mode": "lines+markers",
           "name": "Djibouti",
           "type": "scatter",
           "x": [
            "1988-01-01T00:00:00"
           ],
           "y": [
            null
           ]
          },
          {
           "line": {
            "color": "#d39b81"
           },
           "mode": "lines+markers",
           "name": "Djibouti",
           "type": "scatter",
           "x": [
            "1987-01-01T00:00:00"
           ],
           "y": [
            null
           ]
          },
          {
           "line": {
            "color": "#d39b81"
           },
           "mode": "lines+markers",
           "name": "Djibouti",
           "type": "scatter",
           "x": [
            "1986-01-01T00:00:00"
           ],
           "y": [
            null
           ]
          },
          {
           "line": {
            "color": "#d39b81"
           },
           "mode": "lines+markers",
           "name": "Djibouti",
           "type": "scatter",
           "x": [
            "1985-01-01T00:00:00"
           ],
           "y": [
            67188
           ]
          },
          {
           "line": {
            "color": "#d39b81"
           },
           "mode": "lines+markers",
           "name": "Djibouti",
           "type": "scatter",
           "x": [
            "1984-01-01T00:00:00"
           ],
           "y": [
            null
           ]
          },
          {
           "line": {
            "color": "#d39b81"
           },
           "mode": "lines+markers",
           "name": "Djibouti",
           "type": "scatter",
           "x": [
            "1983-01-01T00:00:00"
           ],
           "y": [
            null
           ]
          },
          {
           "line": {
            "color": "#d39b81"
           },
           "mode": "lines+markers",
           "name": "Djibouti",
           "type": "scatter",
           "x": [
            "1982-01-01T00:00:00"
           ],
           "y": [
            null
           ]
          },
          {
           "line": {
            "color": "#d39b81"
           },
           "mode": "lines+markers",
           "name": "Djibouti",
           "type": "scatter",
           "x": [
            "1981-01-01T00:00:00"
           ],
           "y": [
            null
           ]
          },
          {
           "line": {
            "color": "#d39b81"
           },
           "mode": "lines+markers",
           "name": "Djibouti",
           "type": "scatter",
           "x": [
            "1980-01-01T00:00:00"
           ],
           "y": [
            80230
           ]
          },
          {
           "line": {
            "color": "#d39b81"
           },
           "mode": "lines+markers",
           "name": "Djibouti",
           "type": "scatter",
           "x": [
            "1979-01-01T00:00:00"
           ],
           "y": [
            null
           ]
          },
          {
           "line": {
            "color": "#d39b81"
           },
           "mode": "lines+markers",
           "name": "Djibouti",
           "type": "scatter",
           "x": [
            "1978-01-01T00:00:00"
           ],
           "y": [
            null
           ]
          },
          {
           "line": {
            "color": "#d39b81"
           },
           "mode": "lines+markers",
           "name": "Djibouti",
           "type": "scatter",
           "x": [
            "1977-01-01T00:00:00"
           ],
           "y": [
            null
           ]
          },
          {
           "line": {
            "color": "#d39b81"
           },
           "mode": "lines+markers",
           "name": "Djibouti",
           "type": "scatter",
           "x": [
            "1976-01-01T00:00:00"
           ],
           "y": [
            null
           ]
          },
          {
           "line": {
            "color": "#d39b81"
           },
           "mode": "lines+markers",
           "name": "Djibouti",
           "type": "scatter",
           "x": [
            "1975-01-01T00:00:00"
           ],
           "y": [
            28941
           ]
          },
          {
           "line": {
            "color": "#d39b81"
           },
           "mode": "lines+markers",
           "name": "Djibouti",
           "type": "scatter",
           "x": [
            "1974-01-01T00:00:00"
           ],
           "y": [
            null
           ]
          },
          {
           "line": {
            "color": "#d39b81"
           },
           "mode": "lines+markers",
           "name": "Djibouti",
           "type": "scatter",
           "x": [
            "1973-01-01T00:00:00"
           ],
           "y": [
            null
           ]
          },
          {
           "line": {
            "color": "#d39b81"
           },
           "mode": "lines+markers",
           "name": "Djibouti",
           "type": "scatter",
           "x": [
            "1972-01-01T00:00:00"
           ],
           "y": [
            null
           ]
          },
          {
           "line": {
            "color": "#d39b81"
           },
           "mode": "lines+markers",
           "name": "Djibouti",
           "type": "scatter",
           "x": [
            "1971-01-01T00:00:00"
           ],
           "y": [
            null
           ]
          },
          {
           "line": {
            "color": "#d39b81"
           },
           "mode": "lines+markers",
           "name": "Djibouti",
           "type": "scatter",
           "x": [
            "1970-01-01T00:00:00"
           ],
           "y": [
            21440
           ]
          },
          {
           "line": {
            "color": "#d39b81"
           },
           "mode": "lines+markers",
           "name": "Djibouti",
           "type": "scatter",
           "x": [
            "1969-01-01T00:00:00"
           ],
           "y": [
            null
           ]
          },
          {
           "line": {
            "color": "#d39b81"
           },
           "mode": "lines+markers",
           "name": "Djibouti",
           "type": "scatter",
           "x": [
            "1968-01-01T00:00:00"
           ],
           "y": [
            null
           ]
          },
          {
           "line": {
            "color": "#d39b81"
           },
           "mode": "lines+markers",
           "name": "Djibouti",
           "type": "scatter",
           "x": [
            "1967-01-01T00:00:00"
           ],
           "y": [
            null
           ]
          },
          {
           "line": {
            "color": "#d39b81"
           },
           "mode": "lines+markers",
           "name": "Djibouti",
           "type": "scatter",
           "x": [
            "1966-01-01T00:00:00"
           ],
           "y": [
            null
           ]
          },
          {
           "line": {
            "color": "#d39b81"
           },
           "mode": "lines+markers",
           "name": "Djibouti",
           "type": "scatter",
           "x": [
            "1965-01-01T00:00:00"
           ],
           "y": [
            15883
           ]
          },
          {
           "line": {
            "color": "#d39b81"
           },
           "mode": "lines+markers",
           "name": "Djibouti",
           "type": "scatter",
           "x": [
            "1964-01-01T00:00:00"
           ],
           "y": [
            null
           ]
          },
          {
           "line": {
            "color": "#d39b81"
           },
           "mode": "lines+markers",
           "name": "Djibouti",
           "type": "scatter",
           "x": [
            "1963-01-01T00:00:00"
           ],
           "y": [
            null
           ]
          },
          {
           "line": {
            "color": "#d39b81"
           },
           "mode": "lines+markers",
           "name": "Djibouti",
           "type": "scatter",
           "x": [
            "1962-01-01T00:00:00"
           ],
           "y": [
            null
           ]
          },
          {
           "line": {
            "color": "#d39b81"
           },
           "mode": "lines+markers",
           "name": "Djibouti",
           "type": "scatter",
           "x": [
            "1961-01-01T00:00:00"
           ],
           "y": [
            null
           ]
          },
          {
           "line": {
            "color": "#d39b81"
           },
           "mode": "lines+markers",
           "name": "Djibouti",
           "type": "scatter",
           "x": [
            "1960-01-01T00:00:00"
           ],
           "y": [
            11766
           ]
          }
         ],
         "name": "Djibouti"
        },
        {
         "data": [
          {
           "line": {
            "color": "#0476D9"
           },
           "mode": "lines+markers",
           "name": "Eritrea",
           "type": "scatter",
           "x": [
            "2016-01-01T00:00:00"
           ],
           "y": [
            null
           ]
          },
          {
           "line": {
            "color": "#0476D9"
           },
           "mode": "lines+markers",
           "name": "Eritrea",
           "type": "scatter",
           "x": [
            "2015-01-01T00:00:00"
           ],
           "y": [
            15941
           ]
          },
          {
           "line": {
            "color": "#0476D9"
           },
           "mode": "lines+markers",
           "name": "Eritrea",
           "type": "scatter",
           "x": [
            "2014-01-01T00:00:00"
           ],
           "y": [
            null
           ]
          },
          {
           "line": {
            "color": "#0476D9"
           },
           "mode": "lines+markers",
           "name": "Eritrea",
           "type": "scatter",
           "x": [
            "2013-01-01T00:00:00"
           ],
           "y": [
            null
           ]
          },
          {
           "line": {
            "color": "#0476D9"
           },
           "mode": "lines+markers",
           "name": "Eritrea",
           "type": "scatter",
           "x": [
            "2012-01-01T00:00:00"
           ],
           "y": [
            null
           ]
          },
          {
           "line": {
            "color": "#0476D9"
           },
           "mode": "lines+markers",
           "name": "Eritrea",
           "type": "scatter",
           "x": [
            "2011-01-01T00:00:00"
           ],
           "y": [
            null
           ]
          },
          {
           "line": {
            "color": "#0476D9"
           },
           "mode": "lines+markers",
           "name": "Eritrea",
           "type": "scatter",
           "x": [
            "2010-01-01T00:00:00"
           ],
           "y": [
            15676
           ]
          },
          {
           "line": {
            "color": "#0476D9"
           },
           "mode": "lines+markers",
           "name": "Eritrea",
           "type": "scatter",
           "x": [
            "2009-01-01T00:00:00"
           ],
           "y": [
            null
           ]
          },
          {
           "line": {
            "color": "#0476D9"
           },
           "mode": "lines+markers",
           "name": "Eritrea",
           "type": "scatter",
           "x": [
            "2008-01-01T00:00:00"
           ],
           "y": [
            null
           ]
          },
          {
           "line": {
            "color": "#0476D9"
           },
           "mode": "lines+markers",
           "name": "Eritrea",
           "type": "scatter",
           "x": [
            "2007-01-01T00:00:00"
           ],
           "y": [
            null
           ]
          },
          {
           "line": {
            "color": "#0476D9"
           },
           "mode": "lines+markers",
           "name": "Eritrea",
           "type": "scatter",
           "x": [
            "2006-01-01T00:00:00"
           ],
           "y": [
            null
           ]
          },
          {
           "line": {
            "color": "#0476D9"
           },
           "mode": "lines+markers",
           "name": "Eritrea",
           "type": "scatter",
           "x": [
            "2005-01-01T00:00:00"
           ],
           "y": [
            14314
           ]
          },
          {
           "line": {
            "color": "#0476D9"
           },
           "mode": "lines+markers",
           "name": "Eritrea",
           "type": "scatter",
           "x": [
            "2004-01-01T00:00:00"
           ],
           "y": [
            null
           ]
          },
          {
           "line": {
            "color": "#0476D9"
           },
           "mode": "lines+markers",
           "name": "Eritrea",
           "type": "scatter",
           "x": [
            "2003-01-01T00:00:00"
           ],
           "y": [
            null
           ]
          },
          {
           "line": {
            "color": "#0476D9"
           },
           "mode": "lines+markers",
           "name": "Eritrea",
           "type": "scatter",
           "x": [
            "2002-01-01T00:00:00"
           ],
           "y": [
            null
           ]
          },
          {
           "line": {
            "color": "#0476D9"
           },
           "mode": "lines+markers",
           "name": "Eritrea",
           "type": "scatter",
           "x": [
            "2001-01-01T00:00:00"
           ],
           "y": [
            null
           ]
          },
          {
           "line": {
            "color": "#0476D9"
           },
           "mode": "lines+markers",
           "name": "Eritrea",
           "type": "scatter",
           "x": [
            "2000-01-01T00:00:00"
           ],
           "y": [
            12952
           ]
          },
          {
           "line": {
            "color": "#0476D9"
           },
           "mode": "lines+markers",
           "name": "Eritrea",
           "type": "scatter",
           "x": [
            "1999-01-01T00:00:00"
           ],
           "y": [
            null
           ]
          },
          {
           "line": {
            "color": "#0476D9"
           },
           "mode": "lines+markers",
           "name": "Eritrea",
           "type": "scatter",
           "x": [
            "1998-01-01T00:00:00"
           ],
           "y": [
            null
           ]
          },
          {
           "line": {
            "color": "#0476D9"
           },
           "mode": "lines+markers",
           "name": "Eritrea",
           "type": "scatter",
           "x": [
            "1997-01-01T00:00:00"
           ],
           "y": [
            null
           ]
          },
          {
           "line": {
            "color": "#0476D9"
           },
           "mode": "lines+markers",
           "name": "Eritrea",
           "type": "scatter",
           "x": [
            "1996-01-01T00:00:00"
           ],
           "y": [
            null
           ]
          },
          {
           "line": {
            "color": "#0476D9"
           },
           "mode": "lines+markers",
           "name": "Eritrea",
           "type": "scatter",
           "x": [
            "1995-01-01T00:00:00"
           ],
           "y": [
            12400
           ]
          },
          {
           "line": {
            "color": "#0476D9"
           },
           "mode": "lines+markers",
           "name": "Eritrea",
           "type": "scatter",
           "x": [
            "1994-01-01T00:00:00"
           ],
           "y": [
            null
           ]
          },
          {
           "line": {
            "color": "#0476D9"
           },
           "mode": "lines+markers",
           "name": "Eritrea",
           "type": "scatter",
           "x": [
            "1993-01-01T00:00:00"
           ],
           "y": [
            null
           ]
          },
          {
           "line": {
            "color": "#0476D9"
           },
           "mode": "lines+markers",
           "name": "Eritrea",
           "type": "scatter",
           "x": [
            "1992-01-01T00:00:00"
           ],
           "y": [
            null
           ]
          },
          {
           "line": {
            "color": "#0476D9"
           },
           "mode": "lines+markers",
           "name": "Eritrea",
           "type": "scatter",
           "x": [
            "1991-01-01T00:00:00"
           ],
           "y": [
            null
           ]
          },
          {
           "line": {
            "color": "#0476D9"
           },
           "mode": "lines+markers",
           "name": "Eritrea",
           "type": "scatter",
           "x": [
            "1990-01-01T00:00:00"
           ],
           "y": [
            11848
           ]
          },
          {
           "line": {
            "color": "#0476D9"
           },
           "mode": "lines+markers",
           "name": "Eritrea",
           "type": "scatter",
           "x": [
            "1989-01-01T00:00:00"
           ],
           "y": [
            null
           ]
          },
          {
           "line": {
            "color": "#0476D9"
           },
           "mode": "lines+markers",
           "name": "Eritrea",
           "type": "scatter",
           "x": [
            "1988-01-01T00:00:00"
           ],
           "y": [
            null
           ]
          },
          {
           "line": {
            "color": "#0476D9"
           },
           "mode": "lines+markers",
           "name": "Eritrea",
           "type": "scatter",
           "x": [
            "1987-01-01T00:00:00"
           ],
           "y": [
            null
           ]
          },
          {
           "line": {
            "color": "#0476D9"
           },
           "mode": "lines+markers",
           "name": "Eritrea",
           "type": "scatter",
           "x": [
            "1986-01-01T00:00:00"
           ],
           "y": [
            null
           ]
          },
          {
           "line": {
            "color": "#0476D9"
           },
           "mode": "lines+markers",
           "name": "Eritrea",
           "type": "scatter",
           "x": [
            "1985-01-01T00:00:00"
           ],
           "y": [
            11040
           ]
          },
          {
           "line": {
            "color": "#0476D9"
           },
           "mode": "lines+markers",
           "name": "Eritrea",
           "type": "scatter",
           "x": [
            "1984-01-01T00:00:00"
           ],
           "y": [
            null
           ]
          },
          {
           "line": {
            "color": "#0476D9"
           },
           "mode": "lines+markers",
           "name": "Eritrea",
           "type": "scatter",
           "x": [
            "1983-01-01T00:00:00"
           ],
           "y": [
            null
           ]
          },
          {
           "line": {
            "color": "#0476D9"
           },
           "mode": "lines+markers",
           "name": "Eritrea",
           "type": "scatter",
           "x": [
            "1982-01-01T00:00:00"
           ],
           "y": [
            null
           ]
          },
          {
           "line": {
            "color": "#0476D9"
           },
           "mode": "lines+markers",
           "name": "Eritrea",
           "type": "scatter",
           "x": [
            "1981-01-01T00:00:00"
           ],
           "y": [
            null
           ]
          },
          {
           "line": {
            "color": "#0476D9"
           },
           "mode": "lines+markers",
           "name": "Eritrea",
           "type": "scatter",
           "x": [
            "1980-01-01T00:00:00"
           ],
           "y": [
            10323
           ]
          },
          {
           "line": {
            "color": "#0476D9"
           },
           "mode": "lines+markers",
           "name": "Eritrea",
           "type": "scatter",
           "x": [
            "1979-01-01T00:00:00"
           ],
           "y": [
            null
           ]
          },
          {
           "line": {
            "color": "#0476D9"
           },
           "mode": "lines+markers",
           "name": "Eritrea",
           "type": "scatter",
           "x": [
            "1978-01-01T00:00:00"
           ],
           "y": [
            null
           ]
          },
          {
           "line": {
            "color": "#0476D9"
           },
           "mode": "lines+markers",
           "name": "Eritrea",
           "type": "scatter",
           "x": [
            "1977-01-01T00:00:00"
           ],
           "y": [
            null
           ]
          },
          {
           "line": {
            "color": "#0476D9"
           },
           "mode": "lines+markers",
           "name": "Eritrea",
           "type": "scatter",
           "x": [
            "1976-01-01T00:00:00"
           ],
           "y": [
            null
           ]
          },
          {
           "line": {
            "color": "#0476D9"
           },
           "mode": "lines+markers",
           "name": "Eritrea",
           "type": "scatter",
           "x": [
            "1975-01-01T00:00:00"
           ],
           "y": [
            9585
           ]
          },
          {
           "line": {
            "color": "#0476D9"
           },
           "mode": "lines+markers",
           "name": "Eritrea",
           "type": "scatter",
           "x": [
            "1974-01-01T00:00:00"
           ],
           "y": [
            null
           ]
          },
          {
           "line": {
            "color": "#0476D9"
           },
           "mode": "lines+markers",
           "name": "Eritrea",
           "type": "scatter",
           "x": [
            "1973-01-01T00:00:00"
           ],
           "y": [
            null
           ]
          },
          {
           "line": {
            "color": "#0476D9"
           },
           "mode": "lines+markers",
           "name": "Eritrea",
           "type": "scatter",
           "x": [
            "1972-01-01T00:00:00"
           ],
           "y": [
            null
           ]
          },
          {
           "line": {
            "color": "#0476D9"
           },
           "mode": "lines+markers",
           "name": "Eritrea",
           "type": "scatter",
           "x": [
            "1971-01-01T00:00:00"
           ],
           "y": [
            null
           ]
          },
          {
           "line": {
            "color": "#0476D9"
           },
           "mode": "lines+markers",
           "name": "Eritrea",
           "type": "scatter",
           "x": [
            "1970-01-01T00:00:00"
           ],
           "y": [
            8896
           ]
          },
          {
           "line": {
            "color": "#0476D9"
           },
           "mode": "lines+markers",
           "name": "Eritrea",
           "type": "scatter",
           "x": [
            "1969-01-01T00:00:00"
           ],
           "y": [
            null
           ]
          },
          {
           "line": {
            "color": "#0476D9"
           },
           "mode": "lines+markers",
           "name": "Eritrea",
           "type": "scatter",
           "x": [
            "1968-01-01T00:00:00"
           ],
           "y": [
            null
           ]
          },
          {
           "line": {
            "color": "#0476D9"
           },
           "mode": "lines+markers",
           "name": "Eritrea",
           "type": "scatter",
           "x": [
            "1967-01-01T00:00:00"
           ],
           "y": [
            null
           ]
          },
          {
           "line": {
            "color": "#0476D9"
           },
           "mode": "lines+markers",
           "name": "Eritrea",
           "type": "scatter",
           "x": [
            "1966-01-01T00:00:00"
           ],
           "y": [
            null
           ]
          },
          {
           "line": {
            "color": "#0476D9"
           },
           "mode": "lines+markers",
           "name": "Eritrea",
           "type": "scatter",
           "x": [
            "1965-01-01T00:00:00"
           ],
           "y": [
            8266
           ]
          },
          {
           "line": {
            "color": "#0476D9"
           },
           "mode": "lines+markers",
           "name": "Eritrea",
           "type": "scatter",
           "x": [
            "1964-01-01T00:00:00"
           ],
           "y": [
            null
           ]
          },
          {
           "line": {
            "color": "#0476D9"
           },
           "mode": "lines+markers",
           "name": "Eritrea",
           "type": "scatter",
           "x": [
            "1963-01-01T00:00:00"
           ],
           "y": [
            null
           ]
          },
          {
           "line": {
            "color": "#0476D9"
           },
           "mode": "lines+markers",
           "name": "Eritrea",
           "type": "scatter",
           "x": [
            "1962-01-01T00:00:00"
           ],
           "y": [
            null
           ]
          },
          {
           "line": {
            "color": "#0476D9"
           },
           "mode": "lines+markers",
           "name": "Eritrea",
           "type": "scatter",
           "x": [
            "1961-01-01T00:00:00"
           ],
           "y": [
            null
           ]
          },
          {
           "line": {
            "color": "#0476D9"
           },
           "mode": "lines+markers",
           "name": "Eritrea",
           "type": "scatter",
           "x": [
            "1960-01-01T00:00:00"
           ],
           "y": [
            7703
           ]
          }
         ],
         "name": "Eritrea"
        },
        {
         "data": [
          {
           "line": {
            "color": "#75A3BF"
           },
           "mode": "lines+markers",
           "name": "Ethiopia",
           "type": "scatter",
           "x": [
            "2016-01-01T00:00:00"
           ],
           "y": [
            null
           ]
          },
          {
           "line": {
            "color": "#75A3BF"
           },
           "mode": "lines+markers",
           "name": "Ethiopia",
           "type": "scatter",
           "x": [
            "2015-01-01T00:00:00"
           ],
           "y": [
            1072949
           ]
          },
          {
           "line": {
            "color": "#75A3BF"
           },
           "mode": "lines+markers",
           "name": "Ethiopia",
           "type": "scatter",
           "x": [
            "2014-01-01T00:00:00"
           ],
           "y": [
            null
           ]
          },
          {
           "line": {
            "color": "#75A3BF"
           },
           "mode": "lines+markers",
           "name": "Ethiopia",
           "type": "scatter",
           "x": [
            "2013-01-01T00:00:00"
           ],
           "y": [
            null
           ]
          },
          {
           "line": {
            "color": "#75A3BF"
           },
           "mode": "lines+markers",
           "name": "Ethiopia",
           "type": "scatter",
           "x": [
            "2012-01-01T00:00:00"
           ],
           "y": [
            null
           ]
          },
          {
           "line": {
            "color": "#75A3BF"
           },
           "mode": "lines+markers",
           "name": "Ethiopia",
           "type": "scatter",
           "x": [
            "2011-01-01T00:00:00"
           ],
           "y": [
            null
           ]
          },
          {
           "line": {
            "color": "#75A3BF"
           },
           "mode": "lines+markers",
           "name": "Ethiopia",
           "type": "scatter",
           "x": [
            "2010-01-01T00:00:00"
           ],
           "y": [
            567720
           ]
          },
          {
           "line": {
            "color": "#75A3BF"
           },
           "mode": "lines+markers",
           "name": "Ethiopia",
           "type": "scatter",
           "x": [
            "2009-01-01T00:00:00"
           ],
           "y": [
            null
           ]
          },
          {
           "line": {
            "color": "#75A3BF"
           },
           "mode": "lines+markers",
           "name": "Ethiopia",
           "type": "scatter",
           "x": [
            "2008-01-01T00:00:00"
           ],
           "y": [
            null
           ]
          },
          {
           "line": {
            "color": "#75A3BF"
           },
           "mode": "lines+markers",
           "name": "Ethiopia",
           "type": "scatter",
           "x": [
            "2007-01-01T00:00:00"
           ],
           "y": [
            null
           ]
          },
          {
           "line": {
            "color": "#75A3BF"
           },
           "mode": "lines+markers",
           "name": "Ethiopia",
           "type": "scatter",
           "x": [
            "2006-01-01T00:00:00"
           ],
           "y": [
            null
           ]
          },
          {
           "line": {
            "color": "#75A3BF"
           },
           "mode": "lines+markers",
           "name": "Ethiopia",
           "type": "scatter",
           "x": [
            "2005-01-01T00:00:00"
           ],
           "y": [
            514242
           ]
          },
          {
           "line": {
            "color": "#75A3BF"
           },
           "mode": "lines+markers",
           "name": "Ethiopia",
           "type": "scatter",
           "x": [
            "2004-01-01T00:00:00"
           ],
           "y": [
            null
           ]
          },
          {
           "line": {
            "color": "#75A3BF"
           },
           "mode": "lines+markers",
           "name": "Ethiopia",
           "type": "scatter",
           "x": [
            "2003-01-01T00:00:00"
           ],
           "y": [
            null
           ]
          },
          {
           "line": {
            "color": "#75A3BF"
           },
           "mode": "lines+markers",
           "name": "Ethiopia",
           "type": "scatter",
           "x": [
            "2002-01-01T00:00:00"
           ],
           "y": [
            null
           ]
          },
          {
           "line": {
            "color": "#75A3BF"
           },
           "mode": "lines+markers",
           "name": "Ethiopia",
           "type": "scatter",
           "x": [
            "2001-01-01T00:00:00"
           ],
           "y": [
            null
           ]
          },
          {
           "line": {
            "color": "#75A3BF"
           },
           "mode": "lines+markers",
           "name": "Ethiopia",
           "type": "scatter",
           "x": [
            "2000-01-01T00:00:00"
           ],
           "y": [
            611384
           ]
          },
          {
           "line": {
            "color": "#75A3BF"
           },
           "mode": "lines+markers",
           "name": "Ethiopia",
           "type": "scatter",
           "x": [
            "1999-01-01T00:00:00"
           ],
           "y": [
            null
           ]
          },
          {
           "line": {
            "color": "#75A3BF"
           },
           "mode": "lines+markers",
           "name": "Ethiopia",
           "type": "scatter",
           "x": [
            "1998-01-01T00:00:00"
           ],
           "y": [
            null
           ]
          },
          {
           "line": {
            "color": "#75A3BF"
           },
           "mode": "lines+markers",
           "name": "Ethiopia",
           "type": "scatter",
           "x": [
            "1997-01-01T00:00:00"
           ],
           "y": [
            null
           ]
          },
          {
           "line": {
            "color": "#75A3BF"
           },
           "mode": "lines+markers",
           "name": "Ethiopia",
           "type": "scatter",
           "x": [
            "1996-01-01T00:00:00"
           ],
           "y": [
            null
           ]
          },
          {
           "line": {
            "color": "#75A3BF"
           },
           "mode": "lines+markers",
           "name": "Ethiopia",
           "type": "scatter",
           "x": [
            "1995-01-01T00:00:00"
           ],
           "y": [
            806904
           ]
          },
          {
           "line": {
            "color": "#75A3BF"
           },
           "mode": "lines+markers",
           "name": "Ethiopia",
           "type": "scatter",
           "x": [
            "1994-01-01T00:00:00"
           ],
           "y": [
            null
           ]
          },
          {
           "line": {
            "color": "#75A3BF"
           },
           "mode": "lines+markers",
           "name": "Ethiopia",
           "type": "scatter",
           "x": [
            "1993-01-01T00:00:00"
           ],
           "y": [
            null
           ]
          },
          {
           "line": {
            "color": "#75A3BF"
           },
           "mode": "lines+markers",
           "name": "Ethiopia",
           "type": "scatter",
           "x": [
            "1992-01-01T00:00:00"
           ],
           "y": [
            null
           ]
          },
          {
           "line": {
            "color": "#75A3BF"
           },
           "mode": "lines+markers",
           "name": "Ethiopia",
           "type": "scatter",
           "x": [
            "1991-01-01T00:00:00"
           ],
           "y": [
            null
           ]
          },
          {
           "line": {
            "color": "#75A3BF"
           },
           "mode": "lines+markers",
           "name": "Ethiopia",
           "type": "scatter",
           "x": [
            "1990-01-01T00:00:00"
           ],
           "y": [
            1155390
           ]
          },
          {
           "line": {
            "color": "#75A3BF"
           },
           "mode": "lines+markers",
           "name": "Ethiopia",
           "type": "scatter",
           "x": [
            "1989-01-01T00:00:00"
           ],
           "y": [
            null
           ]
          },
          {
           "line": {
            "color": "#75A3BF"
           },
           "mode": "lines+markers",
           "name": "Ethiopia",
           "type": "scatter",
           "x": [
            "1988-01-01T00:00:00"
           ],
           "y": [
            null
           ]
          },
          {
           "line": {
            "color": "#75A3BF"
           },
           "mode": "lines+markers",
           "name": "Ethiopia",
           "type": "scatter",
           "x": [
            "1987-01-01T00:00:00"
           ],
           "y": [
            null
           ]
          },
          {
           "line": {
            "color": "#75A3BF"
           },
           "mode": "lines+markers",
           "name": "Ethiopia",
           "type": "scatter",
           "x": [
            "1986-01-01T00:00:00"
           ],
           "y": [
            null
           ]
          },
          {
           "line": {
            "color": "#75A3BF"
           },
           "mode": "lines+markers",
           "name": "Ethiopia",
           "type": "scatter",
           "x": [
            "1985-01-01T00:00:00"
           ],
           "y": [
            583658
           ]
          },
          {
           "line": {
            "color": "#75A3BF"
           },
           "mode": "lines+markers",
           "name": "Ethiopia",
           "type": "scatter",
           "x": [
            "1984-01-01T00:00:00"
           ],
           "y": [
            null
           ]
          },
          {
           "line": {
            "color": "#75A3BF"
           },
           "mode": "lines+markers",
           "name": "Ethiopia",
           "type": "scatter",
           "x": [
            "1983-01-01T00:00:00"
           ],
           "y": [
            null
           ]
          },
          {
           "line": {
            "color": "#75A3BF"
           },
           "mode": "lines+markers",
           "name": "Ethiopia",
           "type": "scatter",
           "x": [
            "1982-01-01T00:00:00"
           ],
           "y": [
            null
           ]
          },
          {
           "line": {
            "color": "#75A3BF"
           },
           "mode": "lines+markers",
           "name": "Ethiopia",
           "type": "scatter",
           "x": [
            "1981-01-01T00:00:00"
           ],
           "y": [
            null
           ]
          },
          {
           "line": {
            "color": "#75A3BF"
           },
           "mode": "lines+markers",
           "name": "Ethiopia",
           "type": "scatter",
           "x": [
            "1980-01-01T00:00:00"
           ],
           "y": [
            404192
           ]
          },
          {
           "line": {
            "color": "#75A3BF"
           },
           "mode": "lines+markers",
           "name": "Ethiopia",
           "type": "scatter",
           "x": [
            "1979-01-01T00:00:00"
           ],
           "y": [
            null
           ]
          },
          {
           "line": {
            "color": "#75A3BF"
           },
           "mode": "lines+markers",
           "name": "Ethiopia",
           "type": "scatter",
           "x": [
            "1978-01-01T00:00:00"
           ],
           "y": [
            null
           ]
          },
          {
           "line": {
            "color": "#75A3BF"
           },
           "mode": "lines+markers",
           "name": "Ethiopia",
           "type": "scatter",
           "x": [
            "1977-01-01T00:00:00"
           ],
           "y": [
            null
           ]
          },
          {
           "line": {
            "color": "#75A3BF"
           },
           "mode": "lines+markers",
           "name": "Ethiopia",
           "type": "scatter",
           "x": [
            "1976-01-01T00:00:00"
           ],
           "y": [
            null
           ]
          },
          {
           "line": {
            "color": "#75A3BF"
           },
           "mode": "lines+markers",
           "name": "Ethiopia",
           "type": "scatter",
           "x": [
            "1975-01-01T00:00:00"
           ],
           "y": [
            392082
           ]
          },
          {
           "line": {
            "color": "#75A3BF"
           },
           "mode": "lines+markers",
           "name": "Ethiopia",
           "type": "scatter",
           "x": [
            "1974-01-01T00:00:00"
           ],
           "y": [
            null
           ]
          },
          {
           "line": {
            "color": "#75A3BF"
           },
           "mode": "lines+markers",
           "name": "Ethiopia",
           "type": "scatter",
           "x": [
            "1973-01-01T00:00:00"
           ],
           "y": [
            null
           ]
          },
          {
           "line": {
            "color": "#75A3BF"
           },
           "mode": "lines+markers",
           "name": "Ethiopia",
           "type": "scatter",
           "x": [
            "1972-01-01T00:00:00"
           ],
           "y": [
            null
           ]
          },
          {
           "line": {
            "color": "#75A3BF"
           },
           "mode": "lines+markers",
           "name": "Ethiopia",
           "type": "scatter",
           "x": [
            "1971-01-01T00:00:00"
           ],
           "y": [
            null
           ]
          },
          {
           "line": {
            "color": "#75A3BF"
           },
           "mode": "lines+markers",
           "name": "Ethiopia",
           "type": "scatter",
           "x": [
            "1970-01-01T00:00:00"
           ],
           "y": [
            394582
           ]
          },
          {
           "line": {
            "color": "#75A3BF"
           },
           "mode": "lines+markers",
           "name": "Ethiopia",
           "type": "scatter",
           "x": [
            "1969-01-01T00:00:00"
           ],
           "y": [
            null
           ]
          },
          {
           "line": {
            "color": "#75A3BF"
           },
           "mode": "lines+markers",
           "name": "Ethiopia",
           "type": "scatter",
           "x": [
            "1968-01-01T00:00:00"
           ],
           "y": [
            null
           ]
          },
          {
           "line": {
            "color": "#75A3BF"
           },
           "mode": "lines+markers",
           "name": "Ethiopia",
           "type": "scatter",
           "x": [
            "1967-01-01T00:00:00"
           ],
           "y": [
            null
           ]
          },
          {
           "line": {
            "color": "#75A3BF"
           },
           "mode": "lines+markers",
           "name": "Ethiopia",
           "type": "scatter",
           "x": [
            "1966-01-01T00:00:00"
           ],
           "y": [
            null
           ]
          },
          {
           "line": {
            "color": "#75A3BF"
           },
           "mode": "lines+markers",
           "name": "Ethiopia",
           "type": "scatter",
           "x": [
            "1965-01-01T00:00:00"
           ],
           "y": [
            383551
           ]
          },
          {
           "line": {
            "color": "#75A3BF"
           },
           "mode": "lines+markers",
           "name": "Ethiopia",
           "type": "scatter",
           "x": [
            "1964-01-01T00:00:00"
           ],
           "y": [
            null
           ]
          },
          {
           "line": {
            "color": "#75A3BF"
           },
           "mode": "lines+markers",
           "name": "Ethiopia",
           "type": "scatter",
           "x": [
            "1963-01-01T00:00:00"
           ],
           "y": [
            null
           ]
          },
          {
           "line": {
            "color": "#75A3BF"
           },
           "mode": "lines+markers",
           "name": "Ethiopia",
           "type": "scatter",
           "x": [
            "1962-01-01T00:00:00"
           ],
           "y": [
            null
           ]
          },
          {
           "line": {
            "color": "#75A3BF"
           },
           "mode": "lines+markers",
           "name": "Ethiopia",
           "type": "scatter",
           "x": [
            "1961-01-01T00:00:00"
           ],
           "y": [
            null
           ]
          },
          {
           "line": {
            "color": "#75A3BF"
           },
           "mode": "lines+markers",
           "name": "Ethiopia",
           "type": "scatter",
           "x": [
            "1960-01-01T00:00:00"
           ],
           "y": [
            393260
           ]
          }
         ],
         "name": "Ethiopia"
        },
        {
         "data": [
          {
           "line": {
            "color": "#F2668B"
           },
           "mode": "lines+markers",
           "name": "Kenya",
           "type": "scatter",
           "x": [
            "2016-01-01T00:00:00"
           ],
           "y": [
            null
           ]
          },
          {
           "line": {
            "color": "#F2668B"
           },
           "mode": "lines+markers",
           "name": "Kenya",
           "type": "scatter",
           "x": [
            "2015-01-01T00:00:00"
           ],
           "y": [
            1084357
           ]
          },
          {
           "line": {
            "color": "#F2668B"
           },
           "mode": "lines+markers",
           "name": "Kenya",
           "type": "scatter",
           "x": [
            "2014-01-01T00:00:00"
           ],
           "y": [
            null
           ]
          },
          {
           "line": {
            "color": "#F2668B"
           },
           "mode": "lines+markers",
           "name": "Kenya",
           "type": "scatter",
           "x": [
            "2013-01-01T00:00:00"
           ],
           "y": [
            null
           ]
          },
          {
           "line": {
            "color": "#F2668B"
           },
           "mode": "lines+markers",
           "name": "Kenya",
           "type": "scatter",
           "x": [
            "2012-01-01T00:00:00"
           ],
           "y": [
            null
           ]
          },
          {
           "line": {
            "color": "#F2668B"
           },
           "mode": "lines+markers",
           "name": "Kenya",
           "type": "scatter",
           "x": [
            "2011-01-01T00:00:00"
           ],
           "y": [
            null
           ]
          },
          {
           "line": {
            "color": "#F2668B"
           },
           "mode": "lines+markers",
           "name": "Kenya",
           "type": "scatter",
           "x": [
            "2010-01-01T00:00:00"
           ],
           "y": [
            926959
           ]
          },
          {
           "line": {
            "color": "#F2668B"
           },
           "mode": "lines+markers",
           "name": "Kenya",
           "type": "scatter",
           "x": [
            "2009-01-01T00:00:00"
           ],
           "y": [
            null
           ]
          },
          {
           "line": {
            "color": "#F2668B"
           },
           "mode": "lines+markers",
           "name": "Kenya",
           "type": "scatter",
           "x": [
            "2008-01-01T00:00:00"
           ],
           "y": [
            null
           ]
          },
          {
           "line": {
            "color": "#F2668B"
           },
           "mode": "lines+markers",
           "name": "Kenya",
           "type": "scatter",
           "x": [
            "2007-01-01T00:00:00"
           ],
           "y": [
            null
           ]
          },
          {
           "line": {
            "color": "#F2668B"
           },
           "mode": "lines+markers",
           "name": "Kenya",
           "type": "scatter",
           "x": [
            "2006-01-01T00:00:00"
           ],
           "y": [
            null
           ]
          },
          {
           "line": {
            "color": "#F2668B"
           },
           "mode": "lines+markers",
           "name": "Kenya",
           "type": "scatter",
           "x": [
            "2005-01-01T00:00:00"
           ],
           "y": [
            756894
           ]
          },
          {
           "line": {
            "color": "#F2668B"
           },
           "mode": "lines+markers",
           "name": "Kenya",
           "type": "scatter",
           "x": [
            "2004-01-01T00:00:00"
           ],
           "y": [
            null
           ]
          },
          {
           "line": {
            "color": "#F2668B"
           },
           "mode": "lines+markers",
           "name": "Kenya",
           "type": "scatter",
           "x": [
            "2003-01-01T00:00:00"
           ],
           "y": [
            null
           ]
          },
          {
           "line": {
            "color": "#F2668B"
           },
           "mode": "lines+markers",
           "name": "Kenya",
           "type": "scatter",
           "x": [
            "2002-01-01T00:00:00"
           ],
           "y": [
            null
           ]
          },
          {
           "line": {
            "color": "#F2668B"
           },
           "mode": "lines+markers",
           "name": "Kenya",
           "type": "scatter",
           "x": [
            "2001-01-01T00:00:00"
           ],
           "y": [
            null
           ]
          },
          {
           "line": {
            "color": "#F2668B"
           },
           "mode": "lines+markers",
           "name": "Kenya",
           "type": "scatter",
           "x": [
            "2000-01-01T00:00:00"
           ],
           "y": [
            699139
           ]
          },
          {
           "line": {
            "color": "#F2668B"
           },
           "mode": "lines+markers",
           "name": "Kenya",
           "type": "scatter",
           "x": [
            "1999-01-01T00:00:00"
           ],
           "y": [
            null
           ]
          },
          {
           "line": {
            "color": "#F2668B"
           },
           "mode": "lines+markers",
           "name": "Kenya",
           "type": "scatter",
           "x": [
            "1998-01-01T00:00:00"
           ],
           "y": [
            null
           ]
          },
          {
           "line": {
            "color": "#F2668B"
           },
           "mode": "lines+markers",
           "name": "Kenya",
           "type": "scatter",
           "x": [
            "1997-01-01T00:00:00"
           ],
           "y": [
            null
           ]
          },
          {
           "line": {
            "color": "#F2668B"
           },
           "mode": "lines+markers",
           "name": "Kenya",
           "type": "scatter",
           "x": [
            "1996-01-01T00:00:00"
           ],
           "y": [
            null
           ]
          },
          {
           "line": {
            "color": "#F2668B"
           },
           "mode": "lines+markers",
           "name": "Kenya",
           "type": "scatter",
           "x": [
            "1995-01-01T00:00:00"
           ],
           "y": [
            618745
           ]
          },
          {
           "line": {
            "color": "#F2668B"
           },
           "mode": "lines+markers",
           "name": "Kenya",
           "type": "scatter",
           "x": [
            "1994-01-01T00:00:00"
           ],
           "y": [
            null
           ]
          },
          {
           "line": {
            "color": "#F2668B"
           },
           "mode": "lines+markers",
           "name": "Kenya",
           "type": "scatter",
           "x": [
            "1993-01-01T00:00:00"
           ],
           "y": [
            null
           ]
          },
          {
           "line": {
            "color": "#F2668B"
           },
           "mode": "lines+markers",
           "name": "Kenya",
           "type": "scatter",
           "x": [
            "1992-01-01T00:00:00"
           ],
           "y": [
            null
           ]
          },
          {
           "line": {
            "color": "#F2668B"
           },
           "mode": "lines+markers",
           "name": "Kenya",
           "type": "scatter",
           "x": [
            "1991-01-01T00:00:00"
           ],
           "y": [
            null
           ]
          },
          {
           "line": {
            "color": "#F2668B"
           },
           "mode": "lines+markers",
           "name": "Kenya",
           "type": "scatter",
           "x": [
            "1990-01-01T00:00:00"
           ],
           "y": [
            297292
           ]
          },
          {
           "line": {
            "color": "#F2668B"
           },
           "mode": "lines+markers",
           "name": "Kenya",
           "type": "scatter",
           "x": [
            "1989-01-01T00:00:00"
           ],
           "y": [
            null
           ]
          },
          {
           "line": {
            "color": "#F2668B"
           },
           "mode": "lines+markers",
           "name": "Kenya",
           "type": "scatter",
           "x": [
            "1988-01-01T00:00:00"
           ],
           "y": [
            null
           ]
          },
          {
           "line": {
            "color": "#F2668B"
           },
           "mode": "lines+markers",
           "name": "Kenya",
           "type": "scatter",
           "x": [
            "1987-01-01T00:00:00"
           ],
           "y": [
            null
           ]
          },
          {
           "line": {
            "color": "#F2668B"
           },
           "mode": "lines+markers",
           "name": "Kenya",
           "type": "scatter",
           "x": [
            "1986-01-01T00:00:00"
           ],
           "y": [
            null
           ]
          },
          {
           "line": {
            "color": "#F2668B"
           },
           "mode": "lines+markers",
           "name": "Kenya",
           "type": "scatter",
           "x": [
            "1985-01-01T00:00:00"
           ],
           "y": [
            151664
           ]
          },
          {
           "line": {
            "color": "#F2668B"
           },
           "mode": "lines+markers",
           "name": "Kenya",
           "type": "scatter",
           "x": [
            "1984-01-01T00:00:00"
           ],
           "y": [
            null
           ]
          },
          {
           "line": {
            "color": "#F2668B"
           },
           "mode": "lines+markers",
           "name": "Kenya",
           "type": "scatter",
           "x": [
            "1983-01-01T00:00:00"
           ],
           "y": [
            null
           ]
          },
          {
           "line": {
            "color": "#F2668B"
           },
           "mode": "lines+markers",
           "name": "Kenya",
           "type": "scatter",
           "x": [
            "1982-01-01T00:00:00"
           ],
           "y": [
            null
           ]
          },
          {
           "line": {
            "color": "#F2668B"
           },
           "mode": "lines+markers",
           "name": "Kenya",
           "type": "scatter",
           "x": [
            "1981-01-01T00:00:00"
           ],
           "y": [
            null
           ]
          },
          {
           "line": {
            "color": "#F2668B"
           },
           "mode": "lines+markers",
           "name": "Kenya",
           "type": "scatter",
           "x": [
            "1980-01-01T00:00:00"
           ],
           "y": [
            159892
           ]
          },
          {
           "line": {
            "color": "#F2668B"
           },
           "mode": "lines+markers",
           "name": "Kenya",
           "type": "scatter",
           "x": [
            "1979-01-01T00:00:00"
           ],
           "y": [
            null
           ]
          },
          {
           "line": {
            "color": "#F2668B"
           },
           "mode": "lines+markers",
           "name": "Kenya",
           "type": "scatter",
           "x": [
            "1978-01-01T00:00:00"
           ],
           "y": [
            null
           ]
          },
          {
           "line": {
            "color": "#F2668B"
           },
           "mode": "lines+markers",
           "name": "Kenya",
           "type": "scatter",
           "x": [
            "1977-01-01T00:00:00"
           ],
           "y": [
            null
           ]
          },
          {
           "line": {
            "color": "#F2668B"
           },
           "mode": "lines+markers",
           "name": "Kenya",
           "type": "scatter",
           "x": [
            "1976-01-01T00:00:00"
           ],
           "y": [
            null
           ]
          },
          {
           "line": {
            "color": "#F2668B"
           },
           "mode": "lines+markers",
           "name": "Kenya",
           "type": "scatter",
           "x": [
            "1975-01-01T00:00:00"
           ],
           "y": [
            160512
           ]
          },
          {
           "line": {
            "color": "#F2668B"
           },
           "mode": "lines+markers",
           "name": "Kenya",
           "type": "scatter",
           "x": [
            "1974-01-01T00:00:00"
           ],
           "y": [
            null
           ]
          },
          {
           "line": {
            "color": "#F2668B"
           },
           "mode": "lines+markers",
           "name": "Kenya",
           "type": "scatter",
           "x": [
            "1973-01-01T00:00:00"
           ],
           "y": [
            null
           ]
          },
          {
           "line": {
            "color": "#F2668B"
           },
           "mode": "lines+markers",
           "name": "Kenya",
           "type": "scatter",
           "x": [
            "1972-01-01T00:00:00"
           ],
           "y": [
            null
           ]
          },
          {
           "line": {
            "color": "#F2668B"
           },
           "mode": "lines+markers",
           "name": "Kenya",
           "type": "scatter",
           "x": [
            "1971-01-01T00:00:00"
           ],
           "y": [
            null
           ]
          },
          {
           "line": {
            "color": "#F2668B"
           },
           "mode": "lines+markers",
           "name": "Kenya",
           "type": "scatter",
           "x": [
            "1970-01-01T00:00:00"
           ],
           "y": [
            159044
           ]
          },
          {
           "line": {
            "color": "#F2668B"
           },
           "mode": "lines+markers",
           "name": "Kenya",
           "type": "scatter",
           "x": [
            "1969-01-01T00:00:00"
           ],
           "y": [
            null
           ]
          },
          {
           "line": {
            "color": "#F2668B"
           },
           "mode": "lines+markers",
           "name": "Kenya",
           "type": "scatter",
           "x": [
            "1968-01-01T00:00:00"
           ],
           "y": [
            null
           ]
          },
          {
           "line": {
            "color": "#F2668B"
           },
           "mode": "lines+markers",
           "name": "Kenya",
           "type": "scatter",
           "x": [
            "1967-01-01T00:00:00"
           ],
           "y": [
            null
           ]
          },
          {
           "line": {
            "color": "#F2668B"
           },
           "mode": "lines+markers",
           "name": "Kenya",
           "type": "scatter",
           "x": [
            "1966-01-01T00:00:00"
           ],
           "y": [
            null
           ]
          },
          {
           "line": {
            "color": "#F2668B"
           },
           "mode": "lines+markers",
           "name": "Kenya",
           "type": "scatter",
           "x": [
            "1965-01-01T00:00:00"
           ],
           "y": [
            101581
           ]
          },
          {
           "line": {
            "color": "#F2668B"
           },
           "mode": "lines+markers",
           "name": "Kenya",
           "type": "scatter",
           "x": [
            "1964-01-01T00:00:00"
           ],
           "y": [
            null
           ]
          },
          {
           "line": {
            "color": "#F2668B"
           },
           "mode": "lines+markers",
           "name": "Kenya",
           "type": "scatter",
           "x": [
            "1963-01-01T00:00:00"
           ],
           "y": [
            null
           ]
          },
          {
           "line": {
            "color": "#F2668B"
           },
           "mode": "lines+markers",
           "name": "Kenya",
           "type": "scatter",
           "x": [
            "1962-01-01T00:00:00"
           ],
           "y": [
            null
           ]
          },
          {
           "line": {
            "color": "#F2668B"
           },
           "mode": "lines+markers",
           "name": "Kenya",
           "type": "scatter",
           "x": [
            "1961-01-01T00:00:00"
           ],
           "y": [
            null
           ]
          },
          {
           "line": {
            "color": "#F2668B"
           },
           "mode": "lines+markers",
           "name": "Kenya",
           "type": "scatter",
           "x": [
            "1960-01-01T00:00:00"
           ],
           "y": [
            59330
           ]
          }
         ],
         "name": "Kenya"
        },
        {
         "data": [
          {
           "line": {
            "color": "#025E73"
           },
           "mode": "lines+markers",
           "name": "Rwanda",
           "type": "scatter",
           "x": [
            "2016-01-01T00:00:00"
           ],
           "y": [
            null
           ]
          },
          {
           "line": {
            "color": "#025E73"
           },
           "mode": "lines+markers",
           "name": "Rwanda",
           "type": "scatter",
           "x": [
            "2015-01-01T00:00:00"
           ],
           "y": [
            441525
           ]
          },
          {
           "line": {
            "color": "#025E73"
           },
           "mode": "lines+markers",
           "name": "Rwanda",
           "type": "scatter",
           "x": [
            "2014-01-01T00:00:00"
           ],
           "y": [
            null
           ]
          },
          {
           "line": {
            "color": "#025E73"
           },
           "mode": "lines+markers",
           "name": "Rwanda",
           "type": "scatter",
           "x": [
            "2013-01-01T00:00:00"
           ],
           "y": [
            null
           ]
          },
          {
           "line": {
            "color": "#025E73"
           },
           "mode": "lines+markers",
           "name": "Rwanda",
           "type": "scatter",
           "x": [
            "2012-01-01T00:00:00"
           ],
           "y": [
            null
           ]
          },
          {
           "line": {
            "color": "#025E73"
           },
           "mode": "lines+markers",
           "name": "Rwanda",
           "type": "scatter",
           "x": [
            "2011-01-01T00:00:00"
           ],
           "y": [
            null
           ]
          },
          {
           "line": {
            "color": "#025E73"
           },
           "mode": "lines+markers",
           "name": "Rwanda",
           "type": "scatter",
           "x": [
            "2010-01-01T00:00:00"
           ],
           "y": [
            436787
           ]
          },
          {
           "line": {
            "color": "#025E73"
           },
           "mode": "lines+markers",
           "name": "Rwanda",
           "type": "scatter",
           "x": [
            "2009-01-01T00:00:00"
           ],
           "y": [
            null
           ]
          },
          {
           "line": {
            "color": "#025E73"
           },
           "mode": "lines+markers",
           "name": "Rwanda",
           "type": "scatter",
           "x": [
            "2008-01-01T00:00:00"
           ],
           "y": [
            null
           ]
          },
          {
           "line": {
            "color": "#025E73"
           },
           "mode": "lines+markers",
           "name": "Rwanda",
           "type": "scatter",
           "x": [
            "2007-01-01T00:00:00"
           ],
           "y": [
            null
           ]
          },
          {
           "line": {
            "color": "#025E73"
           },
           "mode": "lines+markers",
           "name": "Rwanda",
           "type": "scatter",
           "x": [
            "2006-01-01T00:00:00"
           ],
           "y": [
            null
           ]
          },
          {
           "line": {
            "color": "#025E73"
           },
           "mode": "lines+markers",
           "name": "Rwanda",
           "type": "scatter",
           "x": [
            "2005-01-01T00:00:00"
           ],
           "y": [
            432797
           ]
          },
          {
           "line": {
            "color": "#025E73"
           },
           "mode": "lines+markers",
           "name": "Rwanda",
           "type": "scatter",
           "x": [
            "2004-01-01T00:00:00"
           ],
           "y": [
            null
           ]
          },
          {
           "line": {
            "color": "#025E73"
           },
           "mode": "lines+markers",
           "name": "Rwanda",
           "type": "scatter",
           "x": [
            "2003-01-01T00:00:00"
           ],
           "y": [
            null
           ]
          },
          {
           "line": {
            "color": "#025E73"
           },
           "mode": "lines+markers",
           "name": "Rwanda",
           "type": "scatter",
           "x": [
            "2002-01-01T00:00:00"
           ],
           "y": [
            null
           ]
          },
          {
           "line": {
            "color": "#025E73"
           },
           "mode": "lines+markers",
           "name": "Rwanda",
           "type": "scatter",
           "x": [
            "2001-01-01T00:00:00"
           ],
           "y": [
            null
           ]
          },
          {
           "line": {
            "color": "#025E73"
           },
           "mode": "lines+markers",
           "name": "Rwanda",
           "type": "scatter",
           "x": [
            "2000-01-01T00:00:00"
           ],
           "y": [
            347076
           ]
          },
          {
           "line": {
            "color": "#025E73"
           },
           "mode": "lines+markers",
           "name": "Rwanda",
           "type": "scatter",
           "x": [
            "1999-01-01T00:00:00"
           ],
           "y": [
            null
           ]
          },
          {
           "line": {
            "color": "#025E73"
           },
           "mode": "lines+markers",
           "name": "Rwanda",
           "type": "scatter",
           "x": [
            "1998-01-01T00:00:00"
           ],
           "y": [
            null
           ]
          },
          {
           "line": {
            "color": "#025E73"
           },
           "mode": "lines+markers",
           "name": "Rwanda",
           "type": "scatter",
           "x": [
            "1997-01-01T00:00:00"
           ],
           "y": [
            null
           ]
          },
          {
           "line": {
            "color": "#025E73"
           },
           "mode": "lines+markers",
           "name": "Rwanda",
           "type": "scatter",
           "x": [
            "1996-01-01T00:00:00"
           ],
           "y": [
            null
           ]
          },
          {
           "line": {
            "color": "#025E73"
           },
           "mode": "lines+markers",
           "name": "Rwanda",
           "type": "scatter",
           "x": [
            "1995-01-01T00:00:00"
           ],
           "y": [
            233200
           ]
          },
          {
           "line": {
            "color": "#025E73"
           },
           "mode": "lines+markers",
           "name": "Rwanda",
           "type": "scatter",
           "x": [
            "1994-01-01T00:00:00"
           ],
           "y": [
            null
           ]
          },
          {
           "line": {
            "color": "#025E73"
           },
           "mode": "lines+markers",
           "name": "Rwanda",
           "type": "scatter",
           "x": [
            "1993-01-01T00:00:00"
           ],
           "y": [
            null
           ]
          },
          {
           "line": {
            "color": "#025E73"
           },
           "mode": "lines+markers",
           "name": "Rwanda",
           "type": "scatter",
           "x": [
            "1992-01-01T00:00:00"
           ],
           "y": [
            null
           ]
          },
          {
           "line": {
            "color": "#025E73"
           },
           "mode": "lines+markers",
           "name": "Rwanda",
           "type": "scatter",
           "x": [
            "1991-01-01T00:00:00"
           ],
           "y": [
            null
           ]
          },
          {
           "line": {
            "color": "#025E73"
           },
           "mode": "lines+markers",
           "name": "Rwanda",
           "type": "scatter",
           "x": [
            "1990-01-01T00:00:00"
           ],
           "y": [
            159869
           ]
          },
          {
           "line": {
            "color": "#025E73"
           },
           "mode": "lines+markers",
           "name": "Rwanda",
           "type": "scatter",
           "x": [
            "1989-01-01T00:00:00"
           ],
           "y": [
            null
           ]
          },
          {
           "line": {
            "color": "#025E73"
           },
           "mode": "lines+markers",
           "name": "Rwanda",
           "type": "scatter",
           "x": [
            "1988-01-01T00:00:00"
           ],
           "y": [
            null
           ]
          },
          {
           "line": {
            "color": "#025E73"
           },
           "mode": "lines+markers",
           "name": "Rwanda",
           "type": "scatter",
           "x": [
            "1987-01-01T00:00:00"
           ],
           "y": [
            null
           ]
          },
          {
           "line": {
            "color": "#025E73"
           },
           "mode": "lines+markers",
           "name": "Rwanda",
           "type": "scatter",
           "x": [
            "1986-01-01T00:00:00"
           ],
           "y": [
            null
           ]
          },
          {
           "line": {
            "color": "#025E73"
           },
           "mode": "lines+markers",
           "name": "Rwanda",
           "type": "scatter",
           "x": [
            "1985-01-01T00:00:00"
           ],
           "y": [
            81111
           ]
          },
          {
           "line": {
            "color": "#025E73"
           },
           "mode": "lines+markers",
           "name": "Rwanda",
           "type": "scatter",
           "x": [
            "1984-01-01T00:00:00"
           ],
           "y": [
            null
           ]
          },
          {
           "line": {
            "color": "#025E73"
           },
           "mode": "lines+markers",
           "name": "Rwanda",
           "type": "scatter",
           "x": [
            "1983-01-01T00:00:00"
           ],
           "y": [
            null
           ]
          },
          {
           "line": {
            "color": "#025E73"
           },
           "mode": "lines+markers",
           "name": "Rwanda",
           "type": "scatter",
           "x": [
            "1982-01-01T00:00:00"
           ],
           "y": [
            null
           ]
          },
          {
           "line": {
            "color": "#025E73"
           },
           "mode": "lines+markers",
           "name": "Rwanda",
           "type": "scatter",
           "x": [
            "1981-01-01T00:00:00"
           ],
           "y": [
            null
           ]
          },
          {
           "line": {
            "color": "#025E73"
           },
           "mode": "lines+markers",
           "name": "Rwanda",
           "type": "scatter",
           "x": [
            "1980-01-01T00:00:00"
           ],
           "y": [
            53094
           ]
          },
          {
           "line": {
            "color": "#025E73"
           },
           "mode": "lines+markers",
           "name": "Rwanda",
           "type": "scatter",
           "x": [
            "1979-01-01T00:00:00"
           ],
           "y": [
            null
           ]
          },
          {
           "line": {
            "color": "#025E73"
           },
           "mode": "lines+markers",
           "name": "Rwanda",
           "type": "scatter",
           "x": [
            "1978-01-01T00:00:00"
           ],
           "y": [
            null
           ]
          },
          {
           "line": {
            "color": "#025E73"
           },
           "mode": "lines+markers",
           "name": "Rwanda",
           "type": "scatter",
           "x": [
            "1977-01-01T00:00:00"
           ],
           "y": [
            null
           ]
          },
          {
           "line": {
            "color": "#025E73"
           },
           "mode": "lines+markers",
           "name": "Rwanda",
           "type": "scatter",
           "x": [
            "1976-01-01T00:00:00"
           ],
           "y": [
            null
           ]
          },
          {
           "line": {
            "color": "#025E73"
           },
           "mode": "lines+markers",
           "name": "Rwanda",
           "type": "scatter",
           "x": [
            "1975-01-01T00:00:00"
           ],
           "y": [
            46732
           ]
          },
          {
           "line": {
            "color": "#025E73"
           },
           "mode": "lines+markers",
           "name": "Rwanda",
           "type": "scatter",
           "x": [
            "1974-01-01T00:00:00"
           ],
           "y": [
            null
           ]
          },
          {
           "line": {
            "color": "#025E73"
           },
           "mode": "lines+markers",
           "name": "Rwanda",
           "type": "scatter",
           "x": [
            "1973-01-01T00:00:00"
           ],
           "y": [
            null
           ]
          },
          {
           "line": {
            "color": "#025E73"
           },
           "mode": "lines+markers",
           "name": "Rwanda",
           "type": "scatter",
           "x": [
            "1972-01-01T00:00:00"
           ],
           "y": [
            null
           ]
          },
          {
           "line": {
            "color": "#025E73"
           },
           "mode": "lines+markers",
           "name": "Rwanda",
           "type": "scatter",
           "x": [
            "1971-01-01T00:00:00"
           ],
           "y": [
            null
           ]
          },
          {
           "line": {
            "color": "#025E73"
           },
           "mode": "lines+markers",
           "name": "Rwanda",
           "type": "scatter",
           "x": [
            "1970-01-01T00:00:00"
           ],
           "y": [
            35759
           ]
          },
          {
           "line": {
            "color": "#025E73"
           },
           "mode": "lines+markers",
           "name": "Rwanda",
           "type": "scatter",
           "x": [
            "1969-01-01T00:00:00"
           ],
           "y": [
            null
           ]
          },
          {
           "line": {
            "color": "#025E73"
           },
           "mode": "lines+markers",
           "name": "Rwanda",
           "type": "scatter",
           "x": [
            "1968-01-01T00:00:00"
           ],
           "y": [
            null
           ]
          },
          {
           "line": {
            "color": "#025E73"
           },
           "mode": "lines+markers",
           "name": "Rwanda",
           "type": "scatter",
           "x": [
            "1967-01-01T00:00:00"
           ],
           "y": [
            null
           ]
          },
          {
           "line": {
            "color": "#025E73"
           },
           "mode": "lines+markers",
           "name": "Rwanda",
           "type": "scatter",
           "x": [
            "1966-01-01T00:00:00"
           ],
           "y": [
            null
           ]
          },
          {
           "line": {
            "color": "#025E73"
           },
           "mode": "lines+markers",
           "name": "Rwanda",
           "type": "scatter",
           "x": [
            "1965-01-01T00:00:00"
           ],
           "y": [
            33441
           ]
          },
          {
           "line": {
            "color": "#025E73"
           },
           "mode": "lines+markers",
           "name": "Rwanda",
           "type": "scatter",
           "x": [
            "1964-01-01T00:00:00"
           ],
           "y": [
            null
           ]
          },
          {
           "line": {
            "color": "#025E73"
           },
           "mode": "lines+markers",
           "name": "Rwanda",
           "type": "scatter",
           "x": [
            "1963-01-01T00:00:00"
           ],
           "y": [
            null
           ]
          },
          {
           "line": {
            "color": "#025E73"
           },
           "mode": "lines+markers",
           "name": "Rwanda",
           "type": "scatter",
           "x": [
            "1962-01-01T00:00:00"
           ],
           "y": [
            null
           ]
          },
          {
           "line": {
            "color": "#025E73"
           },
           "mode": "lines+markers",
           "name": "Rwanda",
           "type": "scatter",
           "x": [
            "1961-01-01T00:00:00"
           ],
           "y": [
            null
           ]
          },
          {
           "line": {
            "color": "#025E73"
           },
           "mode": "lines+markers",
           "name": "Rwanda",
           "type": "scatter",
           "x": [
            "1960-01-01T00:00:00"
           ],
           "y": [
            28531
           ]
          }
         ],
         "name": "Rwanda"
        },
        {
         "data": [
          {
           "line": {
            "color": "#011F26"
           },
           "mode": "lines+markers",
           "name": "Sudan",
           "type": "scatter",
           "x": [
            "2016-01-01T00:00:00"
           ],
           "y": [
            null
           ]
          },
          {
           "line": {
            "color": "#011F26"
           },
           "mode": "lines+markers",
           "name": "Sudan",
           "type": "scatter",
           "x": [
            "2015-01-01T00:00:00"
           ],
           "y": [
            503477
           ]
          },
          {
           "line": {
            "color": "#011F26"
           },
           "mode": "lines+markers",
           "name": "Sudan",
           "type": "scatter",
           "x": [
            "2014-01-01T00:00:00"
           ],
           "y": [
            null
           ]
          },
          {
           "line": {
            "color": "#011F26"
           },
           "mode": "lines+markers",
           "name": "Sudan",
           "type": "scatter",
           "x": [
            "2013-01-01T00:00:00"
           ],
           "y": [
            null
           ]
          },
          {
           "line": {
            "color": "#011F26"
           },
           "mode": "lines+markers",
           "name": "Sudan",
           "type": "scatter",
           "x": [
            "2012-01-01T00:00:00"
           ],
           "y": [
            null
           ]
          },
          {
           "line": {
            "color": "#011F26"
           },
           "mode": "lines+markers",
           "name": "Sudan",
           "type": "scatter",
           "x": [
            "2011-01-01T00:00:00"
           ],
           "y": [
            null
           ]
          },
          {
           "line": {
            "color": "#011F26"
           },
           "mode": "lines+markers",
           "name": "Sudan",
           "type": "scatter",
           "x": [
            "2010-01-01T00:00:00"
           ],
           "y": [
            578363
           ]
          },
          {
           "line": {
            "color": "#011F26"
           },
           "mode": "lines+markers",
           "name": "Sudan",
           "type": "scatter",
           "x": [
            "2009-01-01T00:00:00"
           ],
           "y": [
            null
           ]
          },
          {
           "line": {
            "color": "#011F26"
           },
           "mode": "lines+markers",
           "name": "Sudan",
           "type": "scatter",
           "x": [
            "2008-01-01T00:00:00"
           ],
           "y": [
            null
           ]
          },
          {
           "line": {
            "color": "#011F26"
           },
           "mode": "lines+markers",
           "name": "Sudan",
           "type": "scatter",
           "x": [
            "2007-01-01T00:00:00"
           ],
           "y": [
            null
           ]
          },
          {
           "line": {
            "color": "#011F26"
           },
           "mode": "lines+markers",
           "name": "Sudan",
           "type": "scatter",
           "x": [
            "2006-01-01T00:00:00"
           ],
           "y": [
            null
           ]
          },
          {
           "line": {
            "color": "#011F26"
           },
           "mode": "lines+markers",
           "name": "Sudan",
           "type": "scatter",
           "x": [
            "2005-01-01T00:00:00"
           ],
           "y": [
            541994
           ]
          },
          {
           "line": {
            "color": "#011F26"
           },
           "mode": "lines+markers",
           "name": "Sudan",
           "type": "scatter",
           "x": [
            "2004-01-01T00:00:00"
           ],
           "y": [
            null
           ]
          },
          {
           "line": {
            "color": "#011F26"
           },
           "mode": "lines+markers",
           "name": "Sudan",
           "type": "scatter",
           "x": [
            "2003-01-01T00:00:00"
           ],
           "y": [
            null
           ]
          },
          {
           "line": {
            "color": "#011F26"
           },
           "mode": "lines+markers",
           "name": "Sudan",
           "type": "scatter",
           "x": [
            "2002-01-01T00:00:00"
           ],
           "y": [
            null
           ]
          },
          {
           "line": {
            "color": "#011F26"
           },
           "mode": "lines+markers",
           "name": "Sudan",
           "type": "scatter",
           "x": [
            "2001-01-01T00:00:00"
           ],
           "y": [
            null
           ]
          },
          {
           "line": {
            "color": "#011F26"
           },
           "mode": "lines+markers",
           "name": "Sudan",
           "type": "scatter",
           "x": [
            "2000-01-01T00:00:00"
           ],
           "y": [
            801883
           ]
          },
          {
           "line": {
            "color": "#011F26"
           },
           "mode": "lines+markers",
           "name": "Sudan",
           "type": "scatter",
           "x": [
            "1999-01-01T00:00:00"
           ],
           "y": [
            null
           ]
          },
          {
           "line": {
            "color": "#011F26"
           },
           "mode": "lines+markers",
           "name": "Sudan",
           "type": "scatter",
           "x": [
            "1998-01-01T00:00:00"
           ],
           "y": [
            null
           ]
          },
          {
           "line": {
            "color": "#011F26"
           },
           "mode": "lines+markers",
           "name": "Sudan",
           "type": "scatter",
           "x": [
            "1997-01-01T00:00:00"
           ],
           "y": [
            null
           ]
          },
          {
           "line": {
            "color": "#011F26"
           },
           "mode": "lines+markers",
           "name": "Sudan",
           "type": "scatter",
           "x": [
            "1996-01-01T00:00:00"
           ],
           "y": [
            null
           ]
          },
          {
           "line": {
            "color": "#011F26"
           },
           "mode": "lines+markers",
           "name": "Sudan",
           "type": "scatter",
           "x": [
            "1995-01-01T00:00:00"
           ],
           "y": [
            1053396
           ]
          },
          {
           "line": {
            "color": "#011F26"
           },
           "mode": "lines+markers",
           "name": "Sudan",
           "type": "scatter",
           "x": [
            "1994-01-01T00:00:00"
           ],
           "y": [
            null
           ]
          },
          {
           "line": {
            "color": "#011F26"
           },
           "mode": "lines+markers",
           "name": "Sudan",
           "type": "scatter",
           "x": [
            "1993-01-01T00:00:00"
           ],
           "y": [
            null
           ]
          },
          {
           "line": {
            "color": "#011F26"
           },
           "mode": "lines+markers",
           "name": "Sudan",
           "type": "scatter",
           "x": [
            "1992-01-01T00:00:00"
           ],
           "y": [
            null
           ]
          },
          {
           "line": {
            "color": "#011F26"
           },
           "mode": "lines+markers",
           "name": "Sudan",
           "type": "scatter",
           "x": [
            "1991-01-01T00:00:00"
           ],
           "y": [
            null
           ]
          },
          {
           "line": {
            "color": "#011F26"
           },
           "mode": "lines+markers",
           "name": "Sudan",
           "type": "scatter",
           "x": [
            "1990-01-01T00:00:00"
           ],
           "y": [
            1402896
           ]
          },
          {
           "line": {
            "color": "#011F26"
           },
           "mode": "lines+markers",
           "name": "Sudan",
           "type": "scatter",
           "x": [
            "1989-01-01T00:00:00"
           ],
           "y": [
            null
           ]
          },
          {
           "line": {
            "color": "#011F26"
           },
           "mode": "lines+markers",
           "name": "Sudan",
           "type": "scatter",
           "x": [
            "1988-01-01T00:00:00"
           ],
           "y": [
            null
           ]
          },
          {
           "line": {
            "color": "#011F26"
           },
           "mode": "lines+markers",
           "name": "Sudan",
           "type": "scatter",
           "x": [
            "1987-01-01T00:00:00"
           ],
           "y": [
            null
           ]
          },
          {
           "line": {
            "color": "#011F26"
           },
           "mode": "lines+markers",
           "name": "Sudan",
           "type": "scatter",
           "x": [
            "1986-01-01T00:00:00"
           ],
           "y": [
            null
           ]
          },
          {
           "line": {
            "color": "#011F26"
           },
           "mode": "lines+markers",
           "name": "Sudan",
           "type": "scatter",
           "x": [
            "1985-01-01T00:00:00"
           ],
           "y": [
            1407776
           ]
          },
          {
           "line": {
            "color": "#011F26"
           },
           "mode": "lines+markers",
           "name": "Sudan",
           "type": "scatter",
           "x": [
            "1984-01-01T00:00:00"
           ],
           "y": [
            null
           ]
          },
          {
           "line": {
            "color": "#011F26"
           },
           "mode": "lines+markers",
           "name": "Sudan",
           "type": "scatter",
           "x": [
            "1983-01-01T00:00:00"
           ],
           "y": [
            null
           ]
          },
          {
           "line": {
            "color": "#011F26"
           },
           "mode": "lines+markers",
           "name": "Sudan",
           "type": "scatter",
           "x": [
            "1982-01-01T00:00:00"
           ],
           "y": [
            null
           ]
          },
          {
           "line": {
            "color": "#011F26"
           },
           "mode": "lines+markers",
           "name": "Sudan",
           "type": "scatter",
           "x": [
            "1981-01-01T00:00:00"
           ],
           "y": [
            null
           ]
          },
          {
           "line": {
            "color": "#011F26"
           },
           "mode": "lines+markers",
           "name": "Sudan",
           "type": "scatter",
           "x": [
            "1980-01-01T00:00:00"
           ],
           "y": [
            718515
           ]
          },
          {
           "line": {
            "color": "#011F26"
           },
           "mode": "lines+markers",
           "name": "Sudan",
           "type": "scatter",
           "x": [
            "1979-01-01T00:00:00"
           ],
           "y": [
            null
           ]
          },
          {
           "line": {
            "color": "#011F26"
           },
           "mode": "lines+markers",
           "name": "Sudan",
           "type": "scatter",
           "x": [
            "1978-01-01T00:00:00"
           ],
           "y": [
            null
           ]
          },
          {
           "line": {
            "color": "#011F26"
           },
           "mode": "lines+markers",
           "name": "Sudan",
           "type": "scatter",
           "x": [
            "1977-01-01T00:00:00"
           ],
           "y": [
            null
           ]
          },
          {
           "line": {
            "color": "#011F26"
           },
           "mode": "lines+markers",
           "name": "Sudan",
           "type": "scatter",
           "x": [
            "1976-01-01T00:00:00"
           ],
           "y": [
            null
           ]
          },
          {
           "line": {
            "color": "#011F26"
           },
           "mode": "lines+markers",
           "name": "Sudan",
           "type": "scatter",
           "x": [
            "1975-01-01T00:00:00"
           ],
           "y": [
            321780
           ]
          },
          {
           "line": {
            "color": "#011F26"
           },
           "mode": "lines+markers",
           "name": "Sudan",
           "type": "scatter",
           "x": [
            "1974-01-01T00:00:00"
           ],
           "y": [
            null
           ]
          },
          {
           "line": {
            "color": "#011F26"
           },
           "mode": "lines+markers",
           "name": "Sudan",
           "type": "scatter",
           "x": [
            "1973-01-01T00:00:00"
           ],
           "y": [
            null
           ]
          },
          {
           "line": {
            "color": "#011F26"
           },
           "mode": "lines+markers",
           "name": "Sudan",
           "type": "scatter",
           "x": [
            "1972-01-01T00:00:00"
           ],
           "y": [
            null
           ]
          },
          {
           "line": {
            "color": "#011F26"
           },
           "mode": "lines+markers",
           "name": "Sudan",
           "type": "scatter",
           "x": [
            "1971-01-01T00:00:00"
           ],
           "y": [
            null
           ]
          },
          {
           "line": {
            "color": "#011F26"
           },
           "mode": "lines+markers",
           "name": "Sudan",
           "type": "scatter",
           "x": [
            "1970-01-01T00:00:00"
           ],
           "y": [
            279972
           ]
          },
          {
           "line": {
            "color": "#011F26"
           },
           "mode": "lines+markers",
           "name": "Sudan",
           "type": "scatter",
           "x": [
            "1969-01-01T00:00:00"
           ],
           "y": [
            null
           ]
          },
          {
           "line": {
            "color": "#011F26"
           },
           "mode": "lines+markers",
           "name": "Sudan",
           "type": "scatter",
           "x": [
            "1968-01-01T00:00:00"
           ],
           "y": [
            null
           ]
          },
          {
           "line": {
            "color": "#011F26"
           },
           "mode": "lines+markers",
           "name": "Sudan",
           "type": "scatter",
           "x": [
            "1967-01-01T00:00:00"
           ],
           "y": [
            null
           ]
          },
          {
           "line": {
            "color": "#011F26"
           },
           "mode": "lines+markers",
           "name": "Sudan",
           "type": "scatter",
           "x": [
            "1966-01-01T00:00:00"
           ],
           "y": [
            null
           ]
          },
          {
           "line": {
            "color": "#011F26"
           },
           "mode": "lines+markers",
           "name": "Sudan",
           "type": "scatter",
           "x": [
            "1965-01-01T00:00:00"
           ],
           "y": [
            236369
           ]
          },
          {
           "line": {
            "color": "#011F26"
           },
           "mode": "lines+markers",
           "name": "Sudan",
           "type": "scatter",
           "x": [
            "1964-01-01T00:00:00"
           ],
           "y": [
            null
           ]
          },
          {
           "line": {
            "color": "#011F26"
           },
           "mode": "lines+markers",
           "name": "Sudan",
           "type": "scatter",
           "x": [
            "1963-01-01T00:00:00"
           ],
           "y": [
            null
           ]
          },
          {
           "line": {
            "color": "#011F26"
           },
           "mode": "lines+markers",
           "name": "Sudan",
           "type": "scatter",
           "x": [
            "1962-01-01T00:00:00"
           ],
           "y": [
            null
           ]
          },
          {
           "line": {
            "color": "#011F26"
           },
           "mode": "lines+markers",
           "name": "Sudan",
           "type": "scatter",
           "x": [
            "1961-01-01T00:00:00"
           ],
           "y": [
            null
           ]
          },
          {
           "line": {
            "color": "#011F26"
           },
           "mode": "lines+markers",
           "name": "Sudan",
           "type": "scatter",
           "x": [
            "1960-01-01T00:00:00"
           ],
           "y": [
            241992
           ]
          }
         ],
         "name": "Sudan"
        },
        {
         "data": [
          {
           "line": {
            "color": "#026873"
           },
           "mode": "lines+markers",
           "name": "Somalia",
           "type": "scatter",
           "x": [
            "2016-01-01T00:00:00"
           ],
           "y": [
            null
           ]
          },
          {
           "line": {
            "color": "#026873"
           },
           "mode": "lines+markers",
           "name": "Somalia",
           "type": "scatter",
           "x": [
            "2015-01-01T00:00:00"
           ],
           "y": [
            25291
           ]
          },
          {
           "line": {
            "color": "#026873"
           },
           "mode": "lines+markers",
           "name": "Somalia",
           "type": "scatter",
           "x": [
            "2014-01-01T00:00:00"
           ],
           "y": [
            null
           ]
          },
          {
           "line": {
            "color": "#026873"
           },
           "mode": "lines+markers",
           "name": "Somalia",
           "type": "scatter",
           "x": [
            "2013-01-01T00:00:00"
           ],
           "y": [
            null
           ]
          },
          {
           "line": {
            "color": "#026873"
           },
           "mode": "lines+markers",
           "name": "Somalia",
           "type": "scatter",
           "x": [
            "2012-01-01T00:00:00"
           ],
           "y": [
            null
           ]
          },
          {
           "line": {
            "color": "#026873"
           },
           "mode": "lines+markers",
           "name": "Somalia",
           "type": "scatter",
           "x": [
            "2011-01-01T00:00:00"
           ],
           "y": [
            null
           ]
          },
          {
           "line": {
            "color": "#026873"
           },
           "mode": "lines+markers",
           "name": "Somalia",
           "type": "scatter",
           "x": [
            "2010-01-01T00:00:00"
           ],
           "y": [
            23995
           ]
          },
          {
           "line": {
            "color": "#026873"
           },
           "mode": "lines+markers",
           "name": "Somalia",
           "type": "scatter",
           "x": [
            "2009-01-01T00:00:00"
           ],
           "y": [
            null
           ]
          },
          {
           "line": {
            "color": "#026873"
           },
           "mode": "lines+markers",
           "name": "Somalia",
           "type": "scatter",
           "x": [
            "2008-01-01T00:00:00"
           ],
           "y": [
            null
           ]
          },
          {
           "line": {
            "color": "#026873"
           },
           "mode": "lines+markers",
           "name": "Somalia",
           "type": "scatter",
           "x": [
            "2007-01-01T00:00:00"
           ],
           "y": [
            null
           ]
          },
          {
           "line": {
            "color": "#026873"
           },
           "mode": "lines+markers",
           "name": "Somalia",
           "type": "scatter",
           "x": [
            "2006-01-01T00:00:00"
           ],
           "y": [
            null
           ]
          },
          {
           "line": {
            "color": "#026873"
           },
           "mode": "lines+markers",
           "name": "Somalia",
           "type": "scatter",
           "x": [
            "2005-01-01T00:00:00"
           ],
           "y": [
            20670
           ]
          },
          {
           "line": {
            "color": "#026873"
           },
           "mode": "lines+markers",
           "name": "Somalia",
           "type": "scatter",
           "x": [
            "2004-01-01T00:00:00"
           ],
           "y": [
            null
           ]
          },
          {
           "line": {
            "color": "#026873"
           },
           "mode": "lines+markers",
           "name": "Somalia",
           "type": "scatter",
           "x": [
            "2003-01-01T00:00:00"
           ],
           "y": [
            null
           ]
          },
          {
           "line": {
            "color": "#026873"
           },
           "mode": "lines+markers",
           "name": "Somalia",
           "type": "scatter",
           "x": [
            "2002-01-01T00:00:00"
           ],
           "y": [
            null
           ]
          },
          {
           "line": {
            "color": "#026873"
           },
           "mode": "lines+markers",
           "name": "Somalia",
           "type": "scatter",
           "x": [
            "2001-01-01T00:00:00"
           ],
           "y": [
            null
           ]
          },
          {
           "line": {
            "color": "#026873"
           },
           "mode": "lines+markers",
           "name": "Somalia",
           "type": "scatter",
           "x": [
            "2000-01-01T00:00:00"
           ],
           "y": [
            20087
           ]
          },
          {
           "line": {
            "color": "#026873"
           },
           "mode": "lines+markers",
           "name": "Somalia",
           "type": "scatter",
           "x": [
            "1999-01-01T00:00:00"
           ],
           "y": [
            null
           ]
          },
          {
           "line": {
            "color": "#026873"
           },
           "mode": "lines+markers",
           "name": "Somalia",
           "type": "scatter",
           "x": [
            "1998-01-01T00:00:00"
           ],
           "y": [
            null
           ]
          },
          {
           "line": {
            "color": "#026873"
           },
           "mode": "lines+markers",
           "name": "Somalia",
           "type": "scatter",
           "x": [
            "1997-01-01T00:00:00"
           ],
           "y": [
            null
           ]
          },
          {
           "line": {
            "color": "#026873"
           },
           "mode": "lines+markers",
           "name": "Somalia",
           "type": "scatter",
           "x": [
            "1996-01-01T00:00:00"
           ],
           "y": [
            null
           ]
          },
          {
           "line": {
            "color": "#026873"
           },
           "mode": "lines+markers",
           "name": "Somalia",
           "type": "scatter",
           "x": [
            "1995-01-01T00:00:00"
           ],
           "y": [
            19527
           ]
          },
          {
           "line": {
            "color": "#026873"
           },
           "mode": "lines+markers",
           "name": "Somalia",
           "type": "scatter",
           "x": [
            "1994-01-01T00:00:00"
           ],
           "y": [
            null
           ]
          },
          {
           "line": {
            "color": "#026873"
           },
           "mode": "lines+markers",
           "name": "Somalia",
           "type": "scatter",
           "x": [
            "1993-01-01T00:00:00"
           ],
           "y": [
            null
           ]
          },
          {
           "line": {
            "color": "#026873"
           },
           "mode": "lines+markers",
           "name": "Somalia",
           "type": "scatter",
           "x": [
            "1992-01-01T00:00:00"
           ],
           "y": [
            null
           ]
          },
          {
           "line": {
            "color": "#026873"
           },
           "mode": "lines+markers",
           "name": "Somalia",
           "type": "scatter",
           "x": [
            "1991-01-01T00:00:00"
           ],
           "y": [
            null
           ]
          },
          {
           "line": {
            "color": "#026873"
           },
           "mode": "lines+markers",
           "name": "Somalia",
           "type": "scatter",
           "x": [
            "1990-01-01T00:00:00"
           ],
           "y": [
            478294
           ]
          },
          {
           "line": {
            "color": "#026873"
           },
           "mode": "lines+markers",
           "name": "Somalia",
           "type": "scatter",
           "x": [
            "1989-01-01T00:00:00"
           ],
           "y": [
            null
           ]
          },
          {
           "line": {
            "color": "#026873"
           },
           "mode": "lines+markers",
           "name": "Somalia",
           "type": "scatter",
           "x": [
            "1988-01-01T00:00:00"
           ],
           "y": [
            null
           ]
          },
          {
           "line": {
            "color": "#026873"
           },
           "mode": "lines+markers",
           "name": "Somalia",
           "type": "scatter",
           "x": [
            "1987-01-01T00:00:00"
           ],
           "y": [
            null
           ]
          },
          {
           "line": {
            "color": "#026873"
           },
           "mode": "lines+markers",
           "name": "Somalia",
           "type": "scatter",
           "x": [
            "1986-01-01T00:00:00"
           ],
           "y": [
            null
           ]
          },
          {
           "line": {
            "color": "#026873"
           },
           "mode": "lines+markers",
           "name": "Somalia",
           "type": "scatter",
           "x": [
            "1985-01-01T00:00:00"
           ],
           "y": [
            774569
           ]
          },
          {
           "line": {
            "color": "#026873"
           },
           "mode": "lines+markers",
           "name": "Somalia",
           "type": "scatter",
           "x": [
            "1984-01-01T00:00:00"
           ],
           "y": [
            null
           ]
          },
          {
           "line": {
            "color": "#026873"
           },
           "mode": "lines+markers",
           "name": "Somalia",
           "type": "scatter",
           "x": [
            "1983-01-01T00:00:00"
           ],
           "y": [
            null
           ]
          },
          {
           "line": {
            "color": "#026873"
           },
           "mode": "lines+markers",
           "name": "Somalia",
           "type": "scatter",
           "x": [
            "1982-01-01T00:00:00"
           ],
           "y": [
            null
           ]
          },
          {
           "line": {
            "color": "#026873"
           },
           "mode": "lines+markers",
           "name": "Somalia",
           "type": "scatter",
           "x": [
            "1981-01-01T00:00:00"
           ],
           "y": [
            null
           ]
          },
          {
           "line": {
            "color": "#026873"
           },
           "mode": "lines+markers",
           "name": "Somalia",
           "type": "scatter",
           "x": [
            "1980-01-01T00:00:00"
           ],
           "y": [
            1605620
           ]
          },
          {
           "line": {
            "color": "#026873"
           },
           "mode": "lines+markers",
           "name": "Somalia",
           "type": "scatter",
           "x": [
            "1979-01-01T00:00:00"
           ],
           "y": [
            null
           ]
          },
          {
           "line": {
            "color": "#026873"
           },
           "mode": "lines+markers",
           "name": "Somalia",
           "type": "scatter",
           "x": [
            "1978-01-01T00:00:00"
           ],
           "y": [
            null
           ]
          },
          {
           "line": {
            "color": "#026873"
           },
           "mode": "lines+markers",
           "name": "Somalia",
           "type": "scatter",
           "x": [
            "1977-01-01T00:00:00"
           ],
           "y": [
            null
           ]
          },
          {
           "line": {
            "color": "#026873"
           },
           "mode": "lines+markers",
           "name": "Somalia",
           "type": "scatter",
           "x": [
            "1976-01-01T00:00:00"
           ],
           "y": [
            null
           ]
          },
          {
           "line": {
            "color": "#026873"
           },
           "mode": "lines+markers",
           "name": "Somalia",
           "type": "scatter",
           "x": [
            "1975-01-01T00:00:00"
           ],
           "y": [
            14048
           ]
          },
          {
           "line": {
            "color": "#026873"
           },
           "mode": "lines+markers",
           "name": "Somalia",
           "type": "scatter",
           "x": [
            "1974-01-01T00:00:00"
           ],
           "y": [
            null
           ]
          },
          {
           "line": {
            "color": "#026873"
           },
           "mode": "lines+markers",
           "name": "Somalia",
           "type": "scatter",
           "x": [
            "1973-01-01T00:00:00"
           ],
           "y": [
            null
           ]
          },
          {
           "line": {
            "color": "#026873"
           },
           "mode": "lines+markers",
           "name": "Somalia",
           "type": "scatter",
           "x": [
            "1972-01-01T00:00:00"
           ],
           "y": [
            null
           ]
          },
          {
           "line": {
            "color": "#026873"
           },
           "mode": "lines+markers",
           "name": "Somalia",
           "type": "scatter",
           "x": [
            "1971-01-01T00:00:00"
           ],
           "y": [
            null
           ]
          },
          {
           "line": {
            "color": "#026873"
           },
           "mode": "lines+markers",
           "name": "Somalia",
           "type": "scatter",
           "x": [
            "1970-01-01T00:00:00"
           ],
           "y": [
            13041
           ]
          },
          {
           "line": {
            "color": "#026873"
           },
           "mode": "lines+markers",
           "name": "Somalia",
           "type": "scatter",
           "x": [
            "1969-01-01T00:00:00"
           ],
           "y": [
            null
           ]
          },
          {
           "line": {
            "color": "#026873"
           },
           "mode": "lines+markers",
           "name": "Somalia",
           "type": "scatter",
           "x": [
            "1968-01-01T00:00:00"
           ],
           "y": [
            null
           ]
          },
          {
           "line": {
            "color": "#026873"
           },
           "mode": "lines+markers",
           "name": "Somalia",
           "type": "scatter",
           "x": [
            "1967-01-01T00:00:00"
           ],
           "y": [
            null
           ]
          },
          {
           "line": {
            "color": "#026873"
           },
           "mode": "lines+markers",
           "name": "Somalia",
           "type": "scatter",
           "x": [
            "1966-01-01T00:00:00"
           ],
           "y": [
            null
           ]
          },
          {
           "line": {
            "color": "#026873"
           },
           "mode": "lines+markers",
           "name": "Somalia",
           "type": "scatter",
           "x": [
            "1965-01-01T00:00:00"
           ],
           "y": [
            12136
           ]
          },
          {
           "line": {
            "color": "#026873"
           },
           "mode": "lines+markers",
           "name": "Somalia",
           "type": "scatter",
           "x": [
            "1964-01-01T00:00:00"
           ],
           "y": [
            null
           ]
          },
          {
           "line": {
            "color": "#026873"
           },
           "mode": "lines+markers",
           "name": "Somalia",
           "type": "scatter",
           "x": [
            "1963-01-01T00:00:00"
           ],
           "y": [
            null
           ]
          },
          {
           "line": {
            "color": "#026873"
           },
           "mode": "lines+markers",
           "name": "Somalia",
           "type": "scatter",
           "x": [
            "1962-01-01T00:00:00"
           ],
           "y": [
            null
           ]
          },
          {
           "line": {
            "color": "#026873"
           },
           "mode": "lines+markers",
           "name": "Somalia",
           "type": "scatter",
           "x": [
            "1961-01-01T00:00:00"
           ],
           "y": [
            null
           ]
          },
          {
           "line": {
            "color": "#026873"
           },
           "mode": "lines+markers",
           "name": "Somalia",
           "type": "scatter",
           "x": [
            "1960-01-01T00:00:00"
           ],
           "y": [
            11356
           ]
          }
         ],
         "name": "Somalia"
        },
        {
         "data": [
          {
           "line": {
            "color": "#03A688"
           },
           "mode": "lines+markers",
           "name": "South Sudan",
           "type": "scatter",
           "x": [
            "2016-01-01T00:00:00"
           ],
           "y": [
            null
           ]
          },
          {
           "line": {
            "color": "#03A688"
           },
           "mode": "lines+markers",
           "name": "South Sudan",
           "type": "scatter",
           "x": [
            "2015-01-01T00:00:00"
           ],
           "y": [
            824122
           ]
          },
          {
           "line": {
            "color": "#03A688"
           },
           "mode": "lines+markers",
           "name": "South Sudan",
           "type": "scatter",
           "x": [
            "2014-01-01T00:00:00"
           ],
           "y": [
            null
           ]
          },
          {
           "line": {
            "color": "#03A688"
           },
           "mode": "lines+markers",
           "name": "South Sudan",
           "type": "scatter",
           "x": [
            "2013-01-01T00:00:00"
           ],
           "y": [
            null
           ]
          },
          {
           "line": {
            "color": "#03A688"
           },
           "mode": "lines+markers",
           "name": "South Sudan",
           "type": "scatter",
           "x": [
            "2012-01-01T00:00:00"
           ],
           "y": [
            null
           ]
          },
          {
           "line": {
            "color": "#03A688"
           },
           "mode": "lines+markers",
           "name": "South Sudan",
           "type": "scatter",
           "x": [
            "2011-01-01T00:00:00"
           ],
           "y": [
            null
           ]
          },
          {
           "line": {
            "color": "#03A688"
           },
           "mode": "lines+markers",
           "name": "South Sudan",
           "type": "scatter",
           "x": [
            "2010-01-01T00:00:00"
           ],
           "y": [
            257905
           ]
          },
          {
           "line": {
            "color": "#03A688"
           },
           "mode": "lines+markers",
           "name": "South Sudan",
           "type": "scatter",
           "x": [
            "2009-01-01T00:00:00"
           ],
           "y": [
            null
           ]
          },
          {
           "line": {
            "color": "#03A688"
           },
           "mode": "lines+markers",
           "name": "South Sudan",
           "type": "scatter",
           "x": [
            "2008-01-01T00:00:00"
           ],
           "y": [
            null
           ]
          },
          {
           "line": {
            "color": "#03A688"
           },
           "mode": "lines+markers",
           "name": "South Sudan",
           "type": "scatter",
           "x": [
            "2007-01-01T00:00:00"
           ],
           "y": [
            null
           ]
          },
          {
           "line": {
            "color": "#03A688"
           },
           "mode": "lines+markers",
           "name": "South Sudan",
           "type": "scatter",
           "x": [
            "2006-01-01T00:00:00"
           ],
           "y": [
            null
           ]
          },
          {
           "line": {
            "color": "#03A688"
           },
           "mode": "lines+markers",
           "name": "South Sudan",
           "type": "scatter",
           "x": [
            "2005-01-01T00:00:00"
           ],
           "y": [
            null
           ]
          },
          {
           "line": {
            "color": "#03A688"
           },
           "mode": "lines+markers",
           "name": "South Sudan",
           "type": "scatter",
           "x": [
            "2004-01-01T00:00:00"
           ],
           "y": [
            null
           ]
          },
          {
           "line": {
            "color": "#03A688"
           },
           "mode": "lines+markers",
           "name": "South Sudan",
           "type": "scatter",
           "x": [
            "2003-01-01T00:00:00"
           ],
           "y": [
            null
           ]
          },
          {
           "line": {
            "color": "#03A688"
           },
           "mode": "lines+markers",
           "name": "South Sudan",
           "type": "scatter",
           "x": [
            "2002-01-01T00:00:00"
           ],
           "y": [
            null
           ]
          },
          {
           "line": {
            "color": "#03A688"
           },
           "mode": "lines+markers",
           "name": "South Sudan",
           "type": "scatter",
           "x": [
            "2001-01-01T00:00:00"
           ],
           "y": [
            null
           ]
          },
          {
           "line": {
            "color": "#03A688"
           },
           "mode": "lines+markers",
           "name": "South Sudan",
           "type": "scatter",
           "x": [
            "2000-01-01T00:00:00"
           ],
           "y": [
            null
           ]
          },
          {
           "line": {
            "color": "#03A688"
           },
           "mode": "lines+markers",
           "name": "South Sudan",
           "type": "scatter",
           "x": [
            "1999-01-01T00:00:00"
           ],
           "y": [
            null
           ]
          },
          {
           "line": {
            "color": "#03A688"
           },
           "mode": "lines+markers",
           "name": "South Sudan",
           "type": "scatter",
           "x": [
            "1998-01-01T00:00:00"
           ],
           "y": [
            null
           ]
          },
          {
           "line": {
            "color": "#03A688"
           },
           "mode": "lines+markers",
           "name": "South Sudan",
           "type": "scatter",
           "x": [
            "1997-01-01T00:00:00"
           ],
           "y": [
            null
           ]
          },
          {
           "line": {
            "color": "#03A688"
           },
           "mode": "lines+markers",
           "name": "South Sudan",
           "type": "scatter",
           "x": [
            "1996-01-01T00:00:00"
           ],
           "y": [
            null
           ]
          },
          {
           "line": {
            "color": "#03A688"
           },
           "mode": "lines+markers",
           "name": "South Sudan",
           "type": "scatter",
           "x": [
            "1995-01-01T00:00:00"
           ],
           "y": [
            null
           ]
          },
          {
           "line": {
            "color": "#03A688"
           },
           "mode": "lines+markers",
           "name": "South Sudan",
           "type": "scatter",
           "x": [
            "1994-01-01T00:00:00"
           ],
           "y": [
            null
           ]
          },
          {
           "line": {
            "color": "#03A688"
           },
           "mode": "lines+markers",
           "name": "South Sudan",
           "type": "scatter",
           "x": [
            "1993-01-01T00:00:00"
           ],
           "y": [
            null
           ]
          },
          {
           "line": {
            "color": "#03A688"
           },
           "mode": "lines+markers",
           "name": "South Sudan",
           "type": "scatter",
           "x": [
            "1992-01-01T00:00:00"
           ],
           "y": [
            null
           ]
          },
          {
           "line": {
            "color": "#03A688"
           },
           "mode": "lines+markers",
           "name": "South Sudan",
           "type": "scatter",
           "x": [
            "1991-01-01T00:00:00"
           ],
           "y": [
            null
           ]
          },
          {
           "line": {
            "color": "#03A688"
           },
           "mode": "lines+markers",
           "name": "South Sudan",
           "type": "scatter",
           "x": [
            "1990-01-01T00:00:00"
           ],
           "y": [
            null
           ]
          },
          {
           "line": {
            "color": "#03A688"
           },
           "mode": "lines+markers",
           "name": "South Sudan",
           "type": "scatter",
           "x": [
            "1989-01-01T00:00:00"
           ],
           "y": [
            null
           ]
          },
          {
           "line": {
            "color": "#03A688"
           },
           "mode": "lines+markers",
           "name": "South Sudan",
           "type": "scatter",
           "x": [
            "1988-01-01T00:00:00"
           ],
           "y": [
            null
           ]
          },
          {
           "line": {
            "color": "#03A688"
           },
           "mode": "lines+markers",
           "name": "South Sudan",
           "type": "scatter",
           "x": [
            "1987-01-01T00:00:00"
           ],
           "y": [
            null
           ]
          },
          {
           "line": {
            "color": "#03A688"
           },
           "mode": "lines+markers",
           "name": "South Sudan",
           "type": "scatter",
           "x": [
            "1986-01-01T00:00:00"
           ],
           "y": [
            null
           ]
          },
          {
           "line": {
            "color": "#03A688"
           },
           "mode": "lines+markers",
           "name": "South Sudan",
           "type": "scatter",
           "x": [
            "1985-01-01T00:00:00"
           ],
           "y": [
            null
           ]
          },
          {
           "line": {
            "color": "#03A688"
           },
           "mode": "lines+markers",
           "name": "South Sudan",
           "type": "scatter",
           "x": [
            "1984-01-01T00:00:00"
           ],
           "y": [
            null
           ]
          },
          {
           "line": {
            "color": "#03A688"
           },
           "mode": "lines+markers",
           "name": "South Sudan",
           "type": "scatter",
           "x": [
            "1983-01-01T00:00:00"
           ],
           "y": [
            null
           ]
          },
          {
           "line": {
            "color": "#03A688"
           },
           "mode": "lines+markers",
           "name": "South Sudan",
           "type": "scatter",
           "x": [
            "1982-01-01T00:00:00"
           ],
           "y": [
            null
           ]
          },
          {
           "line": {
            "color": "#03A688"
           },
           "mode": "lines+markers",
           "name": "South Sudan",
           "type": "scatter",
           "x": [
            "1981-01-01T00:00:00"
           ],
           "y": [
            null
           ]
          },
          {
           "line": {
            "color": "#03A688"
           },
           "mode": "lines+markers",
           "name": "South Sudan",
           "type": "scatter",
           "x": [
            "1980-01-01T00:00:00"
           ],
           "y": [
            null
           ]
          },
          {
           "line": {
            "color": "#03A688"
           },
           "mode": "lines+markers",
           "name": "South Sudan",
           "type": "scatter",
           "x": [
            "1979-01-01T00:00:00"
           ],
           "y": [
            null
           ]
          },
          {
           "line": {
            "color": "#03A688"
           },
           "mode": "lines+markers",
           "name": "South Sudan",
           "type": "scatter",
           "x": [
            "1978-01-01T00:00:00"
           ],
           "y": [
            null
           ]
          },
          {
           "line": {
            "color": "#03A688"
           },
           "mode": "lines+markers",
           "name": "South Sudan",
           "type": "scatter",
           "x": [
            "1977-01-01T00:00:00"
           ],
           "y": [
            null
           ]
          },
          {
           "line": {
            "color": "#03A688"
           },
           "mode": "lines+markers",
           "name": "South Sudan",
           "type": "scatter",
           "x": [
            "1976-01-01T00:00:00"
           ],
           "y": [
            null
           ]
          },
          {
           "line": {
            "color": "#03A688"
           },
           "mode": "lines+markers",
           "name": "South Sudan",
           "type": "scatter",
           "x": [
            "1975-01-01T00:00:00"
           ],
           "y": [
            null
           ]
          },
          {
           "line": {
            "color": "#03A688"
           },
           "mode": "lines+markers",
           "name": "South Sudan",
           "type": "scatter",
           "x": [
            "1974-01-01T00:00:00"
           ],
           "y": [
            null
           ]
          },
          {
           "line": {
            "color": "#03A688"
           },
           "mode": "lines+markers",
           "name": "South Sudan",
           "type": "scatter",
           "x": [
            "1973-01-01T00:00:00"
           ],
           "y": [
            null
           ]
          },
          {
           "line": {
            "color": "#03A688"
           },
           "mode": "lines+markers",
           "name": "South Sudan",
           "type": "scatter",
           "x": [
            "1972-01-01T00:00:00"
           ],
           "y": [
            null
           ]
          },
          {
           "line": {
            "color": "#03A688"
           },
           "mode": "lines+markers",
           "name": "South Sudan",
           "type": "scatter",
           "x": [
            "1971-01-01T00:00:00"
           ],
           "y": [
            null
           ]
          },
          {
           "line": {
            "color": "#03A688"
           },
           "mode": "lines+markers",
           "name": "South Sudan",
           "type": "scatter",
           "x": [
            "1970-01-01T00:00:00"
           ],
           "y": [
            null
           ]
          },
          {
           "line": {
            "color": "#03A688"
           },
           "mode": "lines+markers",
           "name": "South Sudan",
           "type": "scatter",
           "x": [
            "1969-01-01T00:00:00"
           ],
           "y": [
            null
           ]
          },
          {
           "line": {
            "color": "#03A688"
           },
           "mode": "lines+markers",
           "name": "South Sudan",
           "type": "scatter",
           "x": [
            "1968-01-01T00:00:00"
           ],
           "y": [
            null
           ]
          },
          {
           "line": {
            "color": "#03A688"
           },
           "mode": "lines+markers",
           "name": "South Sudan",
           "type": "scatter",
           "x": [
            "1967-01-01T00:00:00"
           ],
           "y": [
            null
           ]
          },
          {
           "line": {
            "color": "#03A688"
           },
           "mode": "lines+markers",
           "name": "South Sudan",
           "type": "scatter",
           "x": [
            "1966-01-01T00:00:00"
           ],
           "y": [
            null
           ]
          },
          {
           "line": {
            "color": "#03A688"
           },
           "mode": "lines+markers",
           "name": "South Sudan",
           "type": "scatter",
           "x": [
            "1965-01-01T00:00:00"
           ],
           "y": [
            null
           ]
          },
          {
           "line": {
            "color": "#03A688"
           },
           "mode": "lines+markers",
           "name": "South Sudan",
           "type": "scatter",
           "x": [
            "1964-01-01T00:00:00"
           ],
           "y": [
            null
           ]
          },
          {
           "line": {
            "color": "#03A688"
           },
           "mode": "lines+markers",
           "name": "South Sudan",
           "type": "scatter",
           "x": [
            "1963-01-01T00:00:00"
           ],
           "y": [
            null
           ]
          },
          {
           "line": {
            "color": "#03A688"
           },
           "mode": "lines+markers",
           "name": "South Sudan",
           "type": "scatter",
           "x": [
            "1962-01-01T00:00:00"
           ],
           "y": [
            null
           ]
          },
          {
           "line": {
            "color": "#03A688"
           },
           "mode": "lines+markers",
           "name": "South Sudan",
           "type": "scatter",
           "x": [
            "1961-01-01T00:00:00"
           ],
           "y": [
            null
           ]
          },
          {
           "line": {
            "color": "#03A688"
           },
           "mode": "lines+markers",
           "name": "South Sudan",
           "type": "scatter",
           "x": [
            "1960-01-01T00:00:00"
           ],
           "y": [
            null
           ]
          }
         ],
         "name": "South Sudan"
        },
        {
         "data": [
          {
           "line": {
            "color": "#D4C2AD"
           },
           "mode": "lines+markers",
           "name": "Tanzania",
           "type": "scatter",
           "x": [
            "2016-01-01T00:00:00"
           ],
           "y": [
            null
           ]
          },
          {
           "line": {
            "color": "#D4C2AD"
           },
           "mode": "lines+markers",
           "name": "Tanzania",
           "type": "scatter",
           "x": [
            "2015-01-01T00:00:00"
           ],
           "y": [
            261222
           ]
          },
          {
           "line": {
            "color": "#D4C2AD"
           },
           "mode": "lines+markers",
           "name": "Tanzania",
           "type": "scatter",
           "x": [
            "2014-01-01T00:00:00"
           ],
           "y": [
            null
           ]
          },
          {
           "line": {
            "color": "#D4C2AD"
           },
           "mode": "lines+markers",
           "name": "Tanzania",
           "type": "scatter",
           "x": [
            "2013-01-01T00:00:00"
           ],
           "y": [
            null
           ]
          },
          {
           "line": {
            "color": "#D4C2AD"
           },
           "mode": "lines+markers",
           "name": "Tanzania",
           "type": "scatter",
           "x": [
            "2012-01-01T00:00:00"
           ],
           "y": [
            null
           ]
          },
          {
           "line": {
            "color": "#D4C2AD"
           },
           "mode": "lines+markers",
           "name": "Tanzania",
           "type": "scatter",
           "x": [
            "2011-01-01T00:00:00"
           ],
           "y": [
            null
           ]
          },
          {
           "line": {
            "color": "#D4C2AD"
           },
           "mode": "lines+markers",
           "name": "Tanzania",
           "type": "scatter",
           "x": [
            "2010-01-01T00:00:00"
           ],
           "y": [
            308600
           ]
          },
          {
           "line": {
            "color": "#D4C2AD"
           },
           "mode": "lines+markers",
           "name": "Tanzania",
           "type": "scatter",
           "x": [
            "2009-01-01T00:00:00"
           ],
           "y": [
            null
           ]
          },
          {
           "line": {
            "color": "#D4C2AD"
           },
           "mode": "lines+markers",
           "name": "Tanzania",
           "type": "scatter",
           "x": [
            "2008-01-01T00:00:00"
           ],
           "y": [
            null
           ]
          },
          {
           "line": {
            "color": "#D4C2AD"
           },
           "mode": "lines+markers",
           "name": "Tanzania",
           "type": "scatter",
           "x": [
            "2007-01-01T00:00:00"
           ],
           "y": [
            null
           ]
          },
          {
           "line": {
            "color": "#D4C2AD"
           },
           "mode": "lines+markers",
           "name": "Tanzania",
           "type": "scatter",
           "x": [
            "2006-01-01T00:00:00"
           ],
           "y": [
            null
           ]
          },
          {
           "line": {
            "color": "#D4C2AD"
           },
           "mode": "lines+markers",
           "name": "Tanzania",
           "type": "scatter",
           "x": [
            "2005-01-01T00:00:00"
           ],
           "y": [
            770846
           ]
          },
          {
           "line": {
            "color": "#D4C2AD"
           },
           "mode": "lines+markers",
           "name": "Tanzania",
           "type": "scatter",
           "x": [
            "2004-01-01T00:00:00"
           ],
           "y": [
            null
           ]
          },
          {
           "line": {
            "color": "#D4C2AD"
           },
           "mode": "lines+markers",
           "name": "Tanzania",
           "type": "scatter",
           "x": [
            "2003-01-01T00:00:00"
           ],
           "y": [
            null
           ]
          },
          {
           "line": {
            "color": "#D4C2AD"
           },
           "mode": "lines+markers",
           "name": "Tanzania",
           "type": "scatter",
           "x": [
            "2002-01-01T00:00:00"
           ],
           "y": [
            null
           ]
          },
          {
           "line": {
            "color": "#D4C2AD"
           },
           "mode": "lines+markers",
           "name": "Tanzania",
           "type": "scatter",
           "x": [
            "2001-01-01T00:00:00"
           ],
           "y": [
            null
           ]
          },
          {
           "line": {
            "color": "#D4C2AD"
           },
           "mode": "lines+markers",
           "name": "Tanzania",
           "type": "scatter",
           "x": [
            "2000-01-01T00:00:00"
           ],
           "y": [
            928180
           ]
          },
          {
           "line": {
            "color": "#D4C2AD"
           },
           "mode": "lines+markers",
           "name": "Tanzania",
           "type": "scatter",
           "x": [
            "1999-01-01T00:00:00"
           ],
           "y": [
            null
           ]
          },
          {
           "line": {
            "color": "#D4C2AD"
           },
           "mode": "lines+markers",
           "name": "Tanzania",
           "type": "scatter",
           "x": [
            "1998-01-01T00:00:00"
           ],
           "y": [
            null
           ]
          },
          {
           "line": {
            "color": "#D4C2AD"
           },
           "mode": "lines+markers",
           "name": "Tanzania",
           "type": "scatter",
           "x": [
            "1997-01-01T00:00:00"
           ],
           "y": [
            null
           ]
          },
          {
           "line": {
            "color": "#D4C2AD"
           },
           "mode": "lines+markers",
           "name": "Tanzania",
           "type": "scatter",
           "x": [
            "1996-01-01T00:00:00"
           ],
           "y": [
            null
           ]
          },
          {
           "line": {
            "color": "#D4C2AD"
           },
           "mode": "lines+markers",
           "name": "Tanzania",
           "type": "scatter",
           "x": [
            "1995-01-01T00:00:00"
           ],
           "y": [
            1106043
           ]
          },
          {
           "line": {
            "color": "#D4C2AD"
           },
           "mode": "lines+markers",
           "name": "Tanzania",
           "type": "scatter",
           "x": [
            "1994-01-01T00:00:00"
           ],
           "y": [
            null
           ]
          },
          {
           "line": {
            "color": "#D4C2AD"
           },
           "mode": "lines+markers",
           "name": "Tanzania",
           "type": "scatter",
           "x": [
            "1993-01-01T00:00:00"
           ],
           "y": [
            null
           ]
          },
          {
           "line": {
            "color": "#D4C2AD"
           },
           "mode": "lines+markers",
           "name": "Tanzania",
           "type": "scatter",
           "x": [
            "1992-01-01T00:00:00"
           ],
           "y": [
            null
           ]
          },
          {
           "line": {
            "color": "#D4C2AD"
           },
           "mode": "lines+markers",
           "name": "Tanzania",
           "type": "scatter",
           "x": [
            "1991-01-01T00:00:00"
           ],
           "y": [
            null
           ]
          },
          {
           "line": {
            "color": "#D4C2AD"
           },
           "mode": "lines+markers",
           "name": "Tanzania",
           "type": "scatter",
           "x": [
            "1990-01-01T00:00:00"
           ],
           "y": [
            574025
           ]
          },
          {
           "line": {
            "color": "#D4C2AD"
           },
           "mode": "lines+markers",
           "name": "Tanzania",
           "type": "scatter",
           "x": [
            "1989-01-01T00:00:00"
           ],
           "y": [
            null
           ]
          },
          {
           "line": {
            "color": "#D4C2AD"
           },
           "mode": "lines+markers",
           "name": "Tanzania",
           "type": "scatter",
           "x": [
            "1988-01-01T00:00:00"
           ],
           "y": [
            null
           ]
          },
          {
           "line": {
            "color": "#D4C2AD"
           },
           "mode": "lines+markers",
           "name": "Tanzania",
           "type": "scatter",
           "x": [
            "1987-01-01T00:00:00"
           ],
           "y": [
            null
           ]
          },
          {
           "line": {
            "color": "#D4C2AD"
           },
           "mode": "lines+markers",
           "name": "Tanzania",
           "type": "scatter",
           "x": [
            "1986-01-01T00:00:00"
           ],
           "y": [
            null
           ]
          },
          {
           "line": {
            "color": "#D4C2AD"
           },
           "mode": "lines+markers",
           "name": "Tanzania",
           "type": "scatter",
           "x": [
            "1985-01-01T00:00:00"
           ],
           "y": [
            547608
           ]
          },
          {
           "line": {
            "color": "#D4C2AD"
           },
           "mode": "lines+markers",
           "name": "Tanzania",
           "type": "scatter",
           "x": [
            "1984-01-01T00:00:00"
           ],
           "y": [
            null
           ]
          },
          {
           "line": {
            "color": "#D4C2AD"
           },
           "mode": "lines+markers",
           "name": "Tanzania",
           "type": "scatter",
           "x": [
            "1983-01-01T00:00:00"
           ],
           "y": [
            null
           ]
          },
          {
           "line": {
            "color": "#D4C2AD"
           },
           "mode": "lines+markers",
           "name": "Tanzania",
           "type": "scatter",
           "x": [
            "1982-01-01T00:00:00"
           ],
           "y": [
            null
           ]
          },
          {
           "line": {
            "color": "#D4C2AD"
           },
           "mode": "lines+markers",
           "name": "Tanzania",
           "type": "scatter",
           "x": [
            "1981-01-01T00:00:00"
           ],
           "y": [
            null
           ]
          },
          {
           "line": {
            "color": "#D4C2AD"
           },
           "mode": "lines+markers",
           "name": "Tanzania",
           "type": "scatter",
           "x": [
            "1980-01-01T00:00:00"
           ],
           "y": [
            557173
           ]
          },
          {
           "line": {
            "color": "#D4C2AD"
           },
           "mode": "lines+markers",
           "name": "Tanzania",
           "type": "scatter",
           "x": [
            "1979-01-01T00:00:00"
           ],
           "y": [
            null
           ]
          },
          {
           "line": {
            "color": "#D4C2AD"
           },
           "mode": "lines+markers",
           "name": "Tanzania",
           "type": "scatter",
           "x": [
            "1978-01-01T00:00:00"
           ],
           "y": [
            null
           ]
          },
          {
           "line": {
            "color": "#D4C2AD"
           },
           "mode": "lines+markers",
           "name": "Tanzania",
           "type": "scatter",
           "x": [
            "1977-01-01T00:00:00"
           ],
           "y": [
            null
           ]
          },
          {
           "line": {
            "color": "#D4C2AD"
           },
           "mode": "lines+markers",
           "name": "Tanzania",
           "type": "scatter",
           "x": [
            "1976-01-01T00:00:00"
           ],
           "y": [
            null
           ]
          },
          {
           "line": {
            "color": "#D4C2AD"
           },
           "mode": "lines+markers",
           "name": "Tanzania",
           "type": "scatter",
           "x": [
            "1975-01-01T00:00:00"
           ],
           "y": [
            607887
           ]
          },
          {
           "line": {
            "color": "#D4C2AD"
           },
           "mode": "lines+markers",
           "name": "Tanzania",
           "type": "scatter",
           "x": [
            "1974-01-01T00:00:00"
           ],
           "y": [
            null
           ]
          },
          {
           "line": {
            "color": "#D4C2AD"
           },
           "mode": "lines+markers",
           "name": "Tanzania",
           "type": "scatter",
           "x": [
            "1973-01-01T00:00:00"
           ],
           "y": [
            null
           ]
          },
          {
           "line": {
            "color": "#D4C2AD"
           },
           "mode": "lines+markers",
           "name": "Tanzania",
           "type": "scatter",
           "x": [
            "1972-01-01T00:00:00"
           ],
           "y": [
            null
           ]
          },
          {
           "line": {
            "color": "#D4C2AD"
           },
           "mode": "lines+markers",
           "name": "Tanzania",
           "type": "scatter",
           "x": [
            "1971-01-01T00:00:00"
           ],
           "y": [
            null
           ]
          },
          {
           "line": {
            "color": "#D4C2AD"
           },
           "mode": "lines+markers",
           "name": "Tanzania",
           "type": "scatter",
           "x": [
            "1970-01-01T00:00:00"
           ],
           "y": [
            505143
           ]
          },
          {
           "line": {
            "color": "#D4C2AD"
           },
           "mode": "lines+markers",
           "name": "Tanzania",
           "type": "scatter",
           "x": [
            "1969-01-01T00:00:00"
           ],
           "y": [
            null
           ]
          },
          {
           "line": {
            "color": "#D4C2AD"
           },
           "mode": "lines+markers",
           "name": "Tanzania",
           "type": "scatter",
           "x": [
            "1968-01-01T00:00:00"
           ],
           "y": [
            null
           ]
          },
          {
           "line": {
            "color": "#D4C2AD"
           },
           "mode": "lines+markers",
           "name": "Tanzania",
           "type": "scatter",
           "x": [
            "1967-01-01T00:00:00"
           ],
           "y": [
            null
           ]
          },
          {
           "line": {
            "color": "#D4C2AD"
           },
           "mode": "lines+markers",
           "name": "Tanzania",
           "type": "scatter",
           "x": [
            "1966-01-01T00:00:00"
           ],
           "y": [
            null
           ]
          },
          {
           "line": {
            "color": "#D4C2AD"
           },
           "mode": "lines+markers",
           "name": "Tanzania",
           "type": "scatter",
           "x": [
            "1965-01-01T00:00:00"
           ],
           "y": [
            486241
           ]
          },
          {
           "line": {
            "color": "#D4C2AD"
           },
           "mode": "lines+markers",
           "name": "Tanzania",
           "type": "scatter",
           "x": [
            "1964-01-01T00:00:00"
           ],
           "y": [
            null
           ]
          },
          {
           "line": {
            "color": "#D4C2AD"
           },
           "mode": "lines+markers",
           "name": "Tanzania",
           "type": "scatter",
           "x": [
            "1963-01-01T00:00:00"
           ],
           "y": [
            null
           ]
          },
          {
           "line": {
            "color": "#D4C2AD"
           },
           "mode": "lines+markers",
           "name": "Tanzania",
           "type": "scatter",
           "x": [
            "1962-01-01T00:00:00"
           ],
           "y": [
            null
           ]
          },
          {
           "line": {
            "color": "#D4C2AD"
           },
           "mode": "lines+markers",
           "name": "Tanzania",
           "type": "scatter",
           "x": [
            "1961-01-01T00:00:00"
           ],
           "y": [
            null
           ]
          },
          {
           "line": {
            "color": "#D4C2AD"
           },
           "mode": "lines+markers",
           "name": "Tanzania",
           "type": "scatter",
           "x": [
            "1960-01-01T00:00:00"
           ],
           "y": [
            477027
           ]
          }
         ],
         "name": "Tanzania"
        },
        {
         "data": [
          {
           "line": {
            "color": "#66796B"
           },
           "mode": "lines+markers",
           "name": "Uganda",
           "type": "scatter",
           "x": [
            "2016-01-01T00:00:00"
           ],
           "y": [
            null
           ]
          },
          {
           "line": {
            "color": "#66796B"
           },
           "mode": "lines+markers",
           "name": "Uganda",
           "type": "scatter",
           "x": [
            "2015-01-01T00:00:00"
           ],
           "y": [
            749471
           ]
          },
          {
           "line": {
            "color": "#66796B"
           },
           "mode": "lines+markers",
           "name": "Uganda",
           "type": "scatter",
           "x": [
            "2014-01-01T00:00:00"
           ],
           "y": [
            null
           ]
          },
          {
           "line": {
            "color": "#66796B"
           },
           "mode": "lines+markers",
           "name": "Uganda",
           "type": "scatter",
           "x": [
            "2013-01-01T00:00:00"
           ],
           "y": [
            null
           ]
          },
          {
           "line": {
            "color": "#66796B"
           },
           "mode": "lines+markers",
           "name": "Uganda",
           "type": "scatter",
           "x": [
            "2012-01-01T00:00:00"
           ],
           "y": [
            null
           ]
          },
          {
           "line": {
            "color": "#66796B"
           },
           "mode": "lines+markers",
           "name": "Uganda",
           "type": "scatter",
           "x": [
            "2011-01-01T00:00:00"
           ],
           "y": [
            null
           ]
          },
          {
           "line": {
            "color": "#66796B"
           },
           "mode": "lines+markers",
           "name": "Uganda",
           "type": "scatter",
           "x": [
            "2010-01-01T00:00:00"
           ],
           "y": [
            529160
           ]
          },
          {
           "line": {
            "color": "#66796B"
           },
           "mode": "lines+markers",
           "name": "Uganda",
           "type": "scatter",
           "x": [
            "2009-01-01T00:00:00"
           ],
           "y": [
            null
           ]
          },
          {
           "line": {
            "color": "#66796B"
           },
           "mode": "lines+markers",
           "name": "Uganda",
           "type": "scatter",
           "x": [
            "2008-01-01T00:00:00"
           ],
           "y": [
            null
           ]
          },
          {
           "line": {
            "color": "#66796B"
           },
           "mode": "lines+markers",
           "name": "Uganda",
           "type": "scatter",
           "x": [
            "2007-01-01T00:00:00"
           ],
           "y": [
            null
           ]
          },
          {
           "line": {
            "color": "#66796B"
           },
           "mode": "lines+markers",
           "name": "Uganda",
           "type": "scatter",
           "x": [
            "2006-01-01T00:00:00"
           ],
           "y": [
            null
           ]
          },
          {
           "line": {
            "color": "#66796B"
           },
           "mode": "lines+markers",
           "name": "Uganda",
           "type": "scatter",
           "x": [
            "2005-01-01T00:00:00"
           ],
           "y": [
            652968
           ]
          },
          {
           "line": {
            "color": "#66796B"
           },
           "mode": "lines+markers",
           "name": "Uganda",
           "type": "scatter",
           "x": [
            "2004-01-01T00:00:00"
           ],
           "y": [
            null
           ]
          },
          {
           "line": {
            "color": "#66796B"
           },
           "mode": "lines+markers",
           "name": "Uganda",
           "type": "scatter",
           "x": [
            "2003-01-01T00:00:00"
           ],
           "y": [
            null
           ]
          },
          {
           "line": {
            "color": "#66796B"
           },
           "mode": "lines+markers",
           "name": "Uganda",
           "type": "scatter",
           "x": [
            "2002-01-01T00:00:00"
           ],
           "y": [
            null
           ]
          },
          {
           "line": {
            "color": "#66796B"
           },
           "mode": "lines+markers",
           "name": "Uganda",
           "type": "scatter",
           "x": [
            "2001-01-01T00:00:00"
           ],
           "y": [
            null
           ]
          },
          {
           "line": {
            "color": "#66796B"
           },
           "mode": "lines+markers",
           "name": "Uganda",
           "type": "scatter",
           "x": [
            "2000-01-01T00:00:00"
           ],
           "y": [
            634703
           ]
          },
          {
           "line": {
            "color": "#66796B"
           },
           "mode": "lines+markers",
           "name": "Uganda",
           "type": "scatter",
           "x": [
            "1999-01-01T00:00:00"
           ],
           "y": [
            null
           ]
          },
          {
           "line": {
            "color": "#66796B"
           },
           "mode": "lines+markers",
           "name": "Uganda",
           "type": "scatter",
           "x": [
            "1998-01-01T00:00:00"
           ],
           "y": [
            null
           ]
          },
          {
           "line": {
            "color": "#66796B"
           },
           "mode": "lines+markers",
           "name": "Uganda",
           "type": "scatter",
           "x": [
            "1997-01-01T00:00:00"
           ],
           "y": [
            null
           ]
          },
          {
           "line": {
            "color": "#66796B"
           },
           "mode": "lines+markers",
           "name": "Uganda",
           "type": "scatter",
           "x": [
            "1996-01-01T00:00:00"
           ],
           "y": [
            null
           ]
          },
          {
           "line": {
            "color": "#66796B"
           },
           "mode": "lines+markers",
           "name": "Uganda",
           "type": "scatter",
           "x": [
            "1995-01-01T00:00:00"
           ],
           "y": [
            634620
           ]
          },
          {
           "line": {
            "color": "#66796B"
           },
           "mode": "lines+markers",
           "name": "Uganda",
           "type": "scatter",
           "x": [
            "1994-01-01T00:00:00"
           ],
           "y": [
            null
           ]
          },
          {
           "line": {
            "color": "#66796B"
           },
           "mode": "lines+markers",
           "name": "Uganda",
           "type": "scatter",
           "x": [
            "1993-01-01T00:00:00"
           ],
           "y": [
            null
           ]
          },
          {
           "line": {
            "color": "#66796B"
           },
           "mode": "lines+markers",
           "name": "Uganda",
           "type": "scatter",
           "x": [
            "1992-01-01T00:00:00"
           ],
           "y": [
            null
           ]
          },
          {
           "line": {
            "color": "#66796B"
           },
           "mode": "lines+markers",
           "name": "Uganda",
           "type": "scatter",
           "x": [
            "1991-01-01T00:00:00"
           ],
           "y": [
            null
           ]
          },
          {
           "line": {
            "color": "#66796B"
           },
           "mode": "lines+markers",
           "name": "Uganda",
           "type": "scatter",
           "x": [
            "1990-01-01T00:00:00"
           ],
           "y": [
            558307
           ]
          },
          {
           "line": {
            "color": "#66796B"
           },
           "mode": "lines+markers",
           "name": "Uganda",
           "type": "scatter",
           "x": [
            "1989-01-01T00:00:00"
           ],
           "y": [
            null
           ]
          },
          {
           "line": {
            "color": "#66796B"
           },
           "mode": "lines+markers",
           "name": "Uganda",
           "type": "scatter",
           "x": [
            "1988-01-01T00:00:00"
           ],
           "y": [
            null
           ]
          },
          {
           "line": {
            "color": "#66796B"
           },
           "mode": "lines+markers",
           "name": "Uganda",
           "type": "scatter",
           "x": [
            "1987-01-01T00:00:00"
           ],
           "y": [
            null
           ]
          },
          {
           "line": {
            "color": "#66796B"
           },
           "mode": "lines+markers",
           "name": "Uganda",
           "type": "scatter",
           "x": [
            "1986-01-01T00:00:00"
           ],
           "y": [
            null
           ]
          },
          {
           "line": {
            "color": "#66796B"
           },
           "mode": "lines+markers",
           "name": "Uganda",
           "type": "scatter",
           "x": [
            "1985-01-01T00:00:00"
           ],
           "y": [
            633291
           ]
          },
          {
           "line": {
            "color": "#66796B"
           },
           "mode": "lines+markers",
           "name": "Uganda",
           "type": "scatter",
           "x": [
            "1984-01-01T00:00:00"
           ],
           "y": [
            null
           ]
          },
          {
           "line": {
            "color": "#66796B"
           },
           "mode": "lines+markers",
           "name": "Uganda",
           "type": "scatter",
           "x": [
            "1983-01-01T00:00:00"
           ],
           "y": [
            null
           ]
          },
          {
           "line": {
            "color": "#66796B"
           },
           "mode": "lines+markers",
           "name": "Uganda",
           "type": "scatter",
           "x": [
            "1982-01-01T00:00:00"
           ],
           "y": [
            null
           ]
          },
          {
           "line": {
            "color": "#66796B"
           },
           "mode": "lines+markers",
           "name": "Uganda",
           "type": "scatter",
           "x": [
            "1981-01-01T00:00:00"
           ],
           "y": [
            null
           ]
          },
          {
           "line": {
            "color": "#66796B"
           },
           "mode": "lines+markers",
           "name": "Uganda",
           "type": "scatter",
           "x": [
            "1980-01-01T00:00:00"
           ],
           "y": [
            676609
           ]
          },
          {
           "line": {
            "color": "#66796B"
           },
           "mode": "lines+markers",
           "name": "Uganda",
           "type": "scatter",
           "x": [
            "1979-01-01T00:00:00"
           ],
           "y": [
            null
           ]
          },
          {
           "line": {
            "color": "#66796B"
           },
           "mode": "lines+markers",
           "name": "Uganda",
           "type": "scatter",
           "x": [
            "1978-01-01T00:00:00"
           ],
           "y": [
            null
           ]
          },
          {
           "line": {
            "color": "#66796B"
           },
           "mode": "lines+markers",
           "name": "Uganda",
           "type": "scatter",
           "x": [
            "1977-01-01T00:00:00"
           ],
           "y": [
            null
           ]
          },
          {
           "line": {
            "color": "#66796B"
           },
           "mode": "lines+markers",
           "name": "Uganda",
           "type": "scatter",
           "x": [
            "1976-01-01T00:00:00"
           ],
           "y": [
            null
           ]
          },
          {
           "line": {
            "color": "#66796B"
           },
           "mode": "lines+markers",
           "name": "Uganda",
           "type": "scatter",
           "x": [
            "1975-01-01T00:00:00"
           ],
           "y": [
            774582
           ]
          },
          {
           "line": {
            "color": "#66796B"
           },
           "mode": "lines+markers",
           "name": "Uganda",
           "type": "scatter",
           "x": [
            "1974-01-01T00:00:00"
           ],
           "y": [
            null
           ]
          },
          {
           "line": {
            "color": "#66796B"
           },
           "mode": "lines+markers",
           "name": "Uganda",
           "type": "scatter",
           "x": [
            "1973-01-01T00:00:00"
           ],
           "y": [
            null
           ]
          },
          {
           "line": {
            "color": "#66796B"
           },
           "mode": "lines+markers",
           "name": "Uganda",
           "type": "scatter",
           "x": [
            "1972-01-01T00:00:00"
           ],
           "y": [
            null
           ]
          },
          {
           "line": {
            "color": "#66796B"
           },
           "mode": "lines+markers",
           "name": "Uganda",
           "type": "scatter",
           "x": [
            "1971-01-01T00:00:00"
           ],
           "y": [
            null
           ]
          },
          {
           "line": {
            "color": "#66796B"
           },
           "mode": "lines+markers",
           "name": "Uganda",
           "type": "scatter",
           "x": [
            "1970-01-01T00:00:00"
           ],
           "y": [
            948875
           ]
          },
          {
           "line": {
            "color": "#66796B"
           },
           "mode": "lines+markers",
           "name": "Uganda",
           "type": "scatter",
           "x": [
            "1969-01-01T00:00:00"
           ],
           "y": [
            null
           ]
          },
          {
           "line": {
            "color": "#66796B"
           },
           "mode": "lines+markers",
           "name": "Uganda",
           "type": "scatter",
           "x": [
            "1968-01-01T00:00:00"
           ],
           "y": [
            null
           ]
          },
          {
           "line": {
            "color": "#66796B"
           },
           "mode": "lines+markers",
           "name": "Uganda",
           "type": "scatter",
           "x": [
            "1967-01-01T00:00:00"
           ],
           "y": [
            null
           ]
          },
          {
           "line": {
            "color": "#66796B"
           },
           "mode": "lines+markers",
           "name": "Uganda",
           "type": "scatter",
           "x": [
            "1966-01-01T00:00:00"
           ],
           "y": [
            null
           ]
          },
          {
           "line": {
            "color": "#66796B"
           },
           "mode": "lines+markers",
           "name": "Uganda",
           "type": "scatter",
           "x": [
            "1965-01-01T00:00:00"
           ],
           "y": [
            907723
           ]
          },
          {
           "line": {
            "color": "#66796B"
           },
           "mode": "lines+markers",
           "name": "Uganda",
           "type": "scatter",
           "x": [
            "1964-01-01T00:00:00"
           ],
           "y": [
            null
           ]
          },
          {
           "line": {
            "color": "#66796B"
           },
           "mode": "lines+markers",
           "name": "Uganda",
           "type": "scatter",
           "x": [
            "1963-01-01T00:00:00"
           ],
           "y": [
            null
           ]
          },
          {
           "line": {
            "color": "#66796B"
           },
           "mode": "lines+markers",
           "name": "Uganda",
           "type": "scatter",
           "x": [
            "1962-01-01T00:00:00"
           ],
           "y": [
            null
           ]
          },
          {
           "line": {
            "color": "#66796B"
           },
           "mode": "lines+markers",
           "name": "Uganda",
           "type": "scatter",
           "x": [
            "1961-01-01T00:00:00"
           ],
           "y": [
            null
           ]
          },
          {
           "line": {
            "color": "#66796B"
           },
           "mode": "lines+markers",
           "name": "Uganda",
           "type": "scatter",
           "x": [
            "1960-01-01T00:00:00"
           ],
           "y": [
            771730
           ]
          }
         ],
         "name": "Uganda"
        }
       ],
       "layout": {
        "annotations": [
         {
          "align": "left",
          "font": {
           "color": "#1100FF",
           "size": 10
          },
          "showarrow": false,
          "text": "Copyright © 2023 Najib Abdullahi",
          "x": 0,
          "xanchor": "left",
          "xref": "paper",
          "y": 0.1,
          "yanchor": "top",
          "yref": "paper"
         },
         {
          "align": "right",
          "font": {
           "color": "#1100FF",
           "size": 10
          },
          "showarrow": false,
          "text": "Source: World Bank",
          "x": 1.06,
          "xanchor": "right",
          "xref": "paper",
          "y": 0.09,
          "yanchor": "top",
          "yref": "paper"
         }
        ],
        "autosize": true,
        "font": {
         "color": "black",
         "family": "Poppins",
         "size": 12
        },
        "height": 700,
        "legend": {
         "bgcolor": "#ffffff",
         "bordercolor": "#000000",
         "borderwidth": 1,
         "font": {
          "size": 12
         },
         "itemclick": "toggle",
         "itemdoubleclick": "toggleothers",
         "tracegroupgap": 10,
         "traceorder": "normal",
         "x": 1,
         "xanchor": "left",
         "y": 1.05,
         "yanchor": "top"
        },
        "margin": {
         "b": 50,
         "l": 50,
         "pad": 4,
         "r": 50,
         "t": 80
        },
        "paper_bgcolor": "#f8f8f8",
        "plot_bgcolor": "#f8f8f8",
        "template": {
         "data": {
          "bar": [
           {
            "error_x": {
             "color": "#2a3f5f"
            },
            "error_y": {
             "color": "#2a3f5f"
            },
            "marker": {
             "line": {
              "color": "#E5ECF6",
              "width": 0.5
             },
             "pattern": {
              "fillmode": "overlay",
              "size": 10,
              "solidity": 0.2
             }
            },
            "type": "bar"
           }
          ],
          "barpolar": [
           {
            "marker": {
             "line": {
              "color": "#E5ECF6",
              "width": 0.5
             },
             "pattern": {
              "fillmode": "overlay",
              "size": 10,
              "solidity": 0.2
             }
            },
            "type": "barpolar"
           }
          ],
          "carpet": [
           {
            "aaxis": {
             "endlinecolor": "#2a3f5f",
             "gridcolor": "white",
             "linecolor": "white",
             "minorgridcolor": "white",
             "startlinecolor": "#2a3f5f"
            },
            "baxis": {
             "endlinecolor": "#2a3f5f",
             "gridcolor": "white",
             "linecolor": "white",
             "minorgridcolor": "white",
             "startlinecolor": "#2a3f5f"
            },
            "type": "carpet"
           }
          ],
          "choropleth": [
           {
            "colorbar": {
             "outlinewidth": 0,
             "ticks": ""
            },
            "type": "choropleth"
           }
          ],
          "contour": [
           {
            "colorbar": {
             "outlinewidth": 0,
             "ticks": ""
            },
            "colorscale": [
             [
              0,
              "#0d0887"
             ],
             [
              0.1111111111111111,
              "#46039f"
             ],
             [
              0.2222222222222222,
              "#7201a8"
             ],
             [
              0.3333333333333333,
              "#9c179e"
             ],
             [
              0.4444444444444444,
              "#bd3786"
             ],
             [
              0.5555555555555556,
              "#d8576b"
             ],
             [
              0.6666666666666666,
              "#ed7953"
             ],
             [
              0.7777777777777778,
              "#fb9f3a"
             ],
             [
              0.8888888888888888,
              "#fdca26"
             ],
             [
              1,
              "#f0f921"
             ]
            ],
            "type": "contour"
           }
          ],
          "contourcarpet": [
           {
            "colorbar": {
             "outlinewidth": 0,
             "ticks": ""
            },
            "type": "contourcarpet"
           }
          ],
          "heatmap": [
           {
            "colorbar": {
             "outlinewidth": 0,
             "ticks": ""
            },
            "colorscale": [
             [
              0,
              "#0d0887"
             ],
             [
              0.1111111111111111,
              "#46039f"
             ],
             [
              0.2222222222222222,
              "#7201a8"
             ],
             [
              0.3333333333333333,
              "#9c179e"
             ],
             [
              0.4444444444444444,
              "#bd3786"
             ],
             [
              0.5555555555555556,
              "#d8576b"
             ],
             [
              0.6666666666666666,
              "#ed7953"
             ],
             [
              0.7777777777777778,
              "#fb9f3a"
             ],
             [
              0.8888888888888888,
              "#fdca26"
             ],
             [
              1,
              "#f0f921"
             ]
            ],
            "type": "heatmap"
           }
          ],
          "heatmapgl": [
           {
            "colorbar": {
             "outlinewidth": 0,
             "ticks": ""
            },
            "colorscale": [
             [
              0,
              "#0d0887"
             ],
             [
              0.1111111111111111,
              "#46039f"
             ],
             [
              0.2222222222222222,
              "#7201a8"
             ],
             [
              0.3333333333333333,
              "#9c179e"
             ],
             [
              0.4444444444444444,
              "#bd3786"
             ],
             [
              0.5555555555555556,
              "#d8576b"
             ],
             [
              0.6666666666666666,
              "#ed7953"
             ],
             [
              0.7777777777777778,
              "#fb9f3a"
             ],
             [
              0.8888888888888888,
              "#fdca26"
             ],
             [
              1,
              "#f0f921"
             ]
            ],
            "type": "heatmapgl"
           }
          ],
          "histogram": [
           {
            "marker": {
             "pattern": {
              "fillmode": "overlay",
              "size": 10,
              "solidity": 0.2
             }
            },
            "type": "histogram"
           }
          ],
          "histogram2d": [
           {
            "colorbar": {
             "outlinewidth": 0,
             "ticks": ""
            },
            "colorscale": [
             [
              0,
              "#0d0887"
             ],
             [
              0.1111111111111111,
              "#46039f"
             ],
             [
              0.2222222222222222,
              "#7201a8"
             ],
             [
              0.3333333333333333,
              "#9c179e"
             ],
             [
              0.4444444444444444,
              "#bd3786"
             ],
             [
              0.5555555555555556,
              "#d8576b"
             ],
             [
              0.6666666666666666,
              "#ed7953"
             ],
             [
              0.7777777777777778,
              "#fb9f3a"
             ],
             [
              0.8888888888888888,
              "#fdca26"
             ],
             [
              1,
              "#f0f921"
             ]
            ],
            "type": "histogram2d"
           }
          ],
          "histogram2dcontour": [
           {
            "colorbar": {
             "outlinewidth": 0,
             "ticks": ""
            },
            "colorscale": [
             [
              0,
              "#0d0887"
             ],
             [
              0.1111111111111111,
              "#46039f"
             ],
             [
              0.2222222222222222,
              "#7201a8"
             ],
             [
              0.3333333333333333,
              "#9c179e"
             ],
             [
              0.4444444444444444,
              "#bd3786"
             ],
             [
              0.5555555555555556,
              "#d8576b"
             ],
             [
              0.6666666666666666,
              "#ed7953"
             ],
             [
              0.7777777777777778,
              "#fb9f3a"
             ],
             [
              0.8888888888888888,
              "#fdca26"
             ],
             [
              1,
              "#f0f921"
             ]
            ],
            "type": "histogram2dcontour"
           }
          ],
          "mesh3d": [
           {
            "colorbar": {
             "outlinewidth": 0,
             "ticks": ""
            },
            "type": "mesh3d"
           }
          ],
          "parcoords": [
           {
            "line": {
             "colorbar": {
              "outlinewidth": 0,
              "ticks": ""
             }
            },
            "type": "parcoords"
           }
          ],
          "pie": [
           {
            "automargin": true,
            "type": "pie"
           }
          ],
          "scatter": [
           {
            "fillpattern": {
             "fillmode": "overlay",
             "size": 10,
             "solidity": 0.2
            },
            "type": "scatter"
           }
          ],
          "scatter3d": [
           {
            "line": {
             "colorbar": {
              "outlinewidth": 0,
              "ticks": ""
             }
            },
            "marker": {
             "colorbar": {
              "outlinewidth": 0,
              "ticks": ""
             }
            },
            "type": "scatter3d"
           }
          ],
          "scattercarpet": [
           {
            "marker": {
             "colorbar": {
              "outlinewidth": 0,
              "ticks": ""
             }
            },
            "type": "scattercarpet"
           }
          ],
          "scattergeo": [
           {
            "marker": {
             "colorbar": {
              "outlinewidth": 0,
              "ticks": ""
             }
            },
            "type": "scattergeo"
           }
          ],
          "scattergl": [
           {
            "marker": {
             "colorbar": {
              "outlinewidth": 0,
              "ticks": ""
             }
            },
            "type": "scattergl"
           }
          ],
          "scattermapbox": [
           {
            "marker": {
             "colorbar": {
              "outlinewidth": 0,
              "ticks": ""
             }
            },
            "type": "scattermapbox"
           }
          ],
          "scatterpolar": [
           {
            "marker": {
             "colorbar": {
              "outlinewidth": 0,
              "ticks": ""
             }
            },
            "type": "scatterpolar"
           }
          ],
          "scatterpolargl": [
           {
            "marker": {
             "colorbar": {
              "outlinewidth": 0,
              "ticks": ""
             }
            },
            "type": "scatterpolargl"
           }
          ],
          "scatterternary": [
           {
            "marker": {
             "colorbar": {
              "outlinewidth": 0,
              "ticks": ""
             }
            },
            "type": "scatterternary"
           }
          ],
          "surface": [
           {
            "colorbar": {
             "outlinewidth": 0,
             "ticks": ""
            },
            "colorscale": [
             [
              0,
              "#0d0887"
             ],
             [
              0.1111111111111111,
              "#46039f"
             ],
             [
              0.2222222222222222,
              "#7201a8"
             ],
             [
              0.3333333333333333,
              "#9c179e"
             ],
             [
              0.4444444444444444,
              "#bd3786"
             ],
             [
              0.5555555555555556,
              "#d8576b"
             ],
             [
              0.6666666666666666,
              "#ed7953"
             ],
             [
              0.7777777777777778,
              "#fb9f3a"
             ],
             [
              0.8888888888888888,
              "#fdca26"
             ],
             [
              1,
              "#f0f921"
             ]
            ],
            "type": "surface"
           }
          ],
          "table": [
           {
            "cells": {
             "fill": {
              "color": "#EBF0F8"
             },
             "line": {
              "color": "white"
             }
            },
            "header": {
             "fill": {
              "color": "#C8D4E3"
             },
             "line": {
              "color": "white"
             }
            },
            "type": "table"
           }
          ]
         },
         "layout": {
          "annotationdefaults": {
           "arrowcolor": "#2a3f5f",
           "arrowhead": 0,
           "arrowwidth": 1
          },
          "autotypenumbers": "strict",
          "coloraxis": {
           "colorbar": {
            "outlinewidth": 0,
            "ticks": ""
           }
          },
          "colorscale": {
           "diverging": [
            [
             0,
             "#8e0152"
            ],
            [
             0.1,
             "#c51b7d"
            ],
            [
             0.2,
             "#de77ae"
            ],
            [
             0.3,
             "#f1b6da"
            ],
            [
             0.4,
             "#fde0ef"
            ],
            [
             0.5,
             "#f7f7f7"
            ],
            [
             0.6,
             "#e6f5d0"
            ],
            [
             0.7,
             "#b8e186"
            ],
            [
             0.8,
             "#7fbc41"
            ],
            [
             0.9,
             "#4d9221"
            ],
            [
             1,
             "#276419"
            ]
           ],
           "sequential": [
            [
             0,
             "#0d0887"
            ],
            [
             0.1111111111111111,
             "#46039f"
            ],
            [
             0.2222222222222222,
             "#7201a8"
            ],
            [
             0.3333333333333333,
             "#9c179e"
            ],
            [
             0.4444444444444444,
             "#bd3786"
            ],
            [
             0.5555555555555556,
             "#d8576b"
            ],
            [
             0.6666666666666666,
             "#ed7953"
            ],
            [
             0.7777777777777778,
             "#fb9f3a"
            ],
            [
             0.8888888888888888,
             "#fdca26"
            ],
            [
             1,
             "#f0f921"
            ]
           ],
           "sequentialminus": [
            [
             0,
             "#0d0887"
            ],
            [
             0.1111111111111111,
             "#46039f"
            ],
            [
             0.2222222222222222,
             "#7201a8"
            ],
            [
             0.3333333333333333,
             "#9c179e"
            ],
            [
             0.4444444444444444,
             "#bd3786"
            ],
            [
             0.5555555555555556,
             "#d8576b"
            ],
            [
             0.6666666666666666,
             "#ed7953"
            ],
            [
             0.7777777777777778,
             "#fb9f3a"
            ],
            [
             0.8888888888888888,
             "#fdca26"
            ],
            [
             1,
             "#f0f921"
            ]
           ]
          },
          "colorway": [
           "#636efa",
           "#EF553B",
           "#00cc96",
           "#ab63fa",
           "#FFA15A",
           "#19d3f3",
           "#FF6692",
           "#B6E880",
           "#FF97FF",
           "#FECB52"
          ],
          "font": {
           "color": "#2a3f5f"
          },
          "geo": {
           "bgcolor": "white",
           "lakecolor": "white",
           "landcolor": "#E5ECF6",
           "showlakes": true,
           "showland": true,
           "subunitcolor": "white"
          },
          "hoverlabel": {
           "align": "left"
          },
          "hovermode": "closest",
          "mapbox": {
           "style": "light"
          },
          "paper_bgcolor": "white",
          "plot_bgcolor": "#E5ECF6",
          "polar": {
           "angularaxis": {
            "gridcolor": "white",
            "linecolor": "white",
            "ticks": ""
           },
           "bgcolor": "#E5ECF6",
           "radialaxis": {
            "gridcolor": "white",
            "linecolor": "white",
            "ticks": ""
           }
          },
          "scene": {
           "xaxis": {
            "backgroundcolor": "#E5ECF6",
            "gridcolor": "white",
            "gridwidth": 2,
            "linecolor": "white",
            "showbackground": true,
            "ticks": "",
            "zerolinecolor": "white"
           },
           "yaxis": {
            "backgroundcolor": "#E5ECF6",
            "gridcolor": "white",
            "gridwidth": 2,
            "linecolor": "white",
            "showbackground": true,
            "ticks": "",
            "zerolinecolor": "white"
           },
           "zaxis": {
            "backgroundcolor": "#E5ECF6",
            "gridcolor": "white",
            "gridwidth": 2,
            "linecolor": "white",
            "showbackground": true,
            "ticks": "",
            "zerolinecolor": "white"
           }
          },
          "shapedefaults": {
           "line": {
            "color": "#2a3f5f"
           }
          },
          "ternary": {
           "aaxis": {
            "gridcolor": "white",
            "linecolor": "white",
            "ticks": ""
           },
           "baxis": {
            "gridcolor": "white",
            "linecolor": "white",
            "ticks": ""
           },
           "bgcolor": "#E5ECF6",
           "caxis": {
            "gridcolor": "white",
            "linecolor": "white",
            "ticks": ""
           }
          },
          "title": {
           "x": 0.05
          },
          "xaxis": {
           "automargin": true,
           "gridcolor": "white",
           "linecolor": "white",
           "ticks": "",
           "title": {
            "standoff": 15
           },
           "zerolinecolor": "white",
           "zerolinewidth": 2
          },
          "yaxis": {
           "automargin": true,
           "gridcolor": "white",
           "linecolor": "white",
           "ticks": "",
           "title": {
            "standoff": 15
           },
           "zerolinecolor": "white",
           "zerolinewidth": 2
          }
         }
        },
        "title": {
         "font": {
          "color": "#000000",
          "size": 24
         },
         "text": "International migrant stock"
        },
        "width": 900,
        "xaxis": {
         "showgrid": false,
         "title": {
          "text": "Year"
         }
        },
        "yaxis": {
         "gridcolor": "#c9c1b8",
         "showgrid": true,
         "title": {
          "text": "People"
         }
        }
       }
      }
     },
     "metadata": {},
     "output_type": "display_data"
    }
   ],
   "source": [
    "colors = ['#C10000', '#d39b81','#0476D9','#75A3BF','#F2668B','#025E73','#011F26','#026873','#03A688','#D4C2AD','#66796B','#BB0000']\n",
    "columns = ['Year','International migrant stock, total', 'Country']\n",
    "df_selected = east_africa_countries_data[columns]\n",
    "df_selected['Year']=pd.to_datetime(df_selected['Year'])\n",
    "df_selected=df_selected[df_selected['Year']<='2016']\n",
    "columns=df_selected.columns\n",
    "create_line_chart_static(df_selected,'International migrant stock',columns[1:],colors)"
   ]
  },
  {
   "cell_type": "code",
   "execution_count": 114,
   "metadata": {},
   "outputs": [
    {
     "data": {
      "application/vnd.plotly.v1+json": {
       "config": {
        "plotlyServerURL": "https://plot.ly"
       },
       "data": [
        {
         "line": {
          "color": "#C10000"
         },
         "mode": "lines+markers",
         "name": "Burundi",
         "type": "scatter",
         "x": [
          "2016-01-01T00:00:00",
          "2015-01-01T00:00:00",
          "2014-01-01T00:00:00",
          "2013-01-01T00:00:00",
          "2012-01-01T00:00:00",
          "2011-01-01T00:00:00",
          "2010-01-01T00:00:00",
          "2009-01-01T00:00:00",
          "2008-01-01T00:00:00",
          "2007-01-01T00:00:00",
          "2006-01-01T00:00:00",
          "2005-01-01T00:00:00",
          "2004-01-01T00:00:00",
          "2003-01-01T00:00:00",
          "2002-01-01T00:00:00",
          "2001-01-01T00:00:00",
          "2000-01-01T00:00:00",
          "1999-01-01T00:00:00",
          "1998-01-01T00:00:00",
          "1997-01-01T00:00:00",
          "1996-01-01T00:00:00",
          "1995-01-01T00:00:00",
          "1994-01-01T00:00:00",
          "1993-01-01T00:00:00",
          "1992-01-01T00:00:00",
          "1991-01-01T00:00:00",
          "1990-01-01T00:00:00",
          "1989-01-01T00:00:00"
         ],
         "y": [
          null,
          2.56563222872762,
          null,
          null,
          null,
          null,
          2.48658800012726,
          null,
          null,
          null,
          null,
          2.17884243843718,
          null,
          null,
          null,
          null,
          1.85645994952323,
          null,
          null,
          null,
          null,
          4.08481767197786,
          null,
          null,
          null,
          null,
          5.9344669945045,
          null
         ]
        },
        {
         "line": {
          "color": "#d39b81"
         },
         "mode": "lines+markers",
         "name": "Djibouti",
         "type": "scatter",
         "x": [
          "2016-01-01T00:00:00",
          "2015-01-01T00:00:00",
          "2014-01-01T00:00:00",
          "2013-01-01T00:00:00",
          "2012-01-01T00:00:00",
          "2011-01-01T00:00:00",
          "2010-01-01T00:00:00",
          "2009-01-01T00:00:00",
          "2008-01-01T00:00:00",
          "2007-01-01T00:00:00",
          "2006-01-01T00:00:00",
          "2005-01-01T00:00:00",
          "2004-01-01T00:00:00",
          "2003-01-01T00:00:00",
          "2002-01-01T00:00:00",
          "2001-01-01T00:00:00",
          "2000-01-01T00:00:00",
          "1999-01-01T00:00:00",
          "1998-01-01T00:00:00",
          "1997-01-01T00:00:00",
          "1996-01-01T00:00:00",
          "1995-01-01T00:00:00",
          "1994-01-01T00:00:00",
          "1993-01-01T00:00:00",
          "1992-01-01T00:00:00",
          "1991-01-01T00:00:00",
          "1990-01-01T00:00:00",
          "1989-01-01T00:00:00"
         ],
         "y": [
          null,
          12.6541204084874,
          null,
          null,
          null,
          null,
          12.2261381171446,
          null,
          null,
          null,
          null,
          11.8307155905787,
          null,
          null,
          null,
          null,
          13.9098098156283,
          null,
          null,
          null,
          null,
          15.0926671063539,
          null,
          null,
          null,
          null,
          20.7733073173385,
          null
         ]
        },
        {
         "line": {
          "color": "#0476D9"
         },
         "mode": "lines+markers",
         "name": "Eritrea",
         "type": "scatter",
         "x": [
          "2016-01-01T00:00:00",
          "2015-01-01T00:00:00",
          "2014-01-01T00:00:00",
          "2013-01-01T00:00:00",
          "2012-01-01T00:00:00",
          "2011-01-01T00:00:00",
          "2010-01-01T00:00:00",
          "2009-01-01T00:00:00",
          "2008-01-01T00:00:00",
          "2007-01-01T00:00:00",
          "2006-01-01T00:00:00",
          "2005-01-01T00:00:00",
          "2004-01-01T00:00:00",
          "2003-01-01T00:00:00",
          "2002-01-01T00:00:00",
          "2001-01-01T00:00:00",
          "2000-01-01T00:00:00",
          "1999-01-01T00:00:00",
          "1998-01-01T00:00:00",
          "1997-01-01T00:00:00",
          "1996-01-01T00:00:00",
          "1995-01-01T00:00:00",
          "1994-01-01T00:00:00",
          "1993-01-01T00:00:00",
          "1992-01-01T00:00:00",
          "1991-01-01T00:00:00",
          "1990-01-01T00:00:00",
          "1989-01-01T00:00:00"
         ],
         "y": [
          null,
          null,
          null,
          null,
          null,
          null,
          0.334267017850319,
          null,
          null,
          null,
          null,
          0.341519151818552,
          null,
          null,
          null,
          null,
          0.366377042484122,
          null,
          null,
          null,
          null,
          0.391897209154592,
          null,
          null,
          null,
          null,
          0.37743506622794,
          null
         ]
        },
        {
         "line": {
          "color": "#75A3BF"
         },
         "mode": "lines+markers",
         "name": "Ethiopia",
         "type": "scatter",
         "x": [
          "2016-01-01T00:00:00",
          "2015-01-01T00:00:00",
          "2014-01-01T00:00:00",
          "2013-01-01T00:00:00",
          "2012-01-01T00:00:00",
          "2011-01-01T00:00:00",
          "2010-01-01T00:00:00",
          "2009-01-01T00:00:00",
          "2008-01-01T00:00:00",
          "2007-01-01T00:00:00",
          "2006-01-01T00:00:00",
          "2005-01-01T00:00:00",
          "2004-01-01T00:00:00",
          "2003-01-01T00:00:00",
          "2002-01-01T00:00:00",
          "2001-01-01T00:00:00",
          "2000-01-01T00:00:00",
          "1999-01-01T00:00:00",
          "1998-01-01T00:00:00",
          "1997-01-01T00:00:00",
          "1996-01-01T00:00:00",
          "1995-01-01T00:00:00",
          "1994-01-01T00:00:00",
          "1993-01-01T00:00:00",
          "1992-01-01T00:00:00",
          "1991-01-01T00:00:00",
          "1990-01-01T00:00:00",
          "1989-01-01T00:00:00"
         ],
         "y": [
          null,
          1.07952601222951,
          null,
          null,
          null,
          null,
          0.648364822592643,
          null,
          null,
          null,
          null,
          0.671260321204072,
          null,
          null,
          null,
          null,
          0.920154796542265,
          null,
          null,
          null,
          null,
          1.40975385494748,
          null,
          null,
          null,
          null,
          2.40420280094339,
          null
         ]
        },
        {
         "line": {
          "color": "#F2668B"
         },
         "mode": "lines+markers",
         "name": "Kenya",
         "type": "scatter",
         "x": [
          "2016-01-01T00:00:00",
          "2015-01-01T00:00:00",
          "2014-01-01T00:00:00",
          "2013-01-01T00:00:00",
          "2012-01-01T00:00:00",
          "2011-01-01T00:00:00",
          "2010-01-01T00:00:00",
          "2009-01-01T00:00:00",
          "2008-01-01T00:00:00",
          "2007-01-01T00:00:00",
          "2006-01-01T00:00:00",
          "2005-01-01T00:00:00",
          "2004-01-01T00:00:00",
          "2003-01-01T00:00:00",
          "2002-01-01T00:00:00",
          "2001-01-01T00:00:00",
          "2000-01-01T00:00:00",
          "1999-01-01T00:00:00",
          "1998-01-01T00:00:00",
          "1997-01-01T00:00:00",
          "1996-01-01T00:00:00",
          "1995-01-01T00:00:00",
          "1994-01-01T00:00:00",
          "1993-01-01T00:00:00",
          "1992-01-01T00:00:00",
          "1991-01-01T00:00:00",
          "1990-01-01T00:00:00",
          "1989-01-01T00:00:00"
         ],
         "y": [
          null,
          2.35472288542212,
          null,
          null,
          null,
          null,
          2.29853155523763,
          null,
          null,
          null,
          null,
          2.1412010057416,
          null,
          null,
          null,
          null,
          2.2505087585005,
          null,
          null,
          null,
          null,
          2.26041796242178,
          null,
          null,
          null,
          null,
          1.26797362595068,
          null
         ]
        },
        {
         "line": {
          "color": "#025E73"
         },
         "mode": "lines+markers",
         "name": "Rwanda",
         "type": "scatter",
         "x": [
          "2016-01-01T00:00:00",
          "2015-01-01T00:00:00",
          "2014-01-01T00:00:00",
          "2013-01-01T00:00:00",
          "2012-01-01T00:00:00",
          "2011-01-01T00:00:00",
          "2010-01-01T00:00:00",
          "2009-01-01T00:00:00",
          "2008-01-01T00:00:00",
          "2007-01-01T00:00:00",
          "2006-01-01T00:00:00",
          "2005-01-01T00:00:00",
          "2004-01-01T00:00:00",
          "2003-01-01T00:00:00",
          "2002-01-01T00:00:00",
          "2001-01-01T00:00:00",
          "2000-01-01T00:00:00",
          "1999-01-01T00:00:00",
          "1998-01-01T00:00:00",
          "1997-01-01T00:00:00",
          "1996-01-01T00:00:00",
          "1995-01-01T00:00:00",
          "1994-01-01T00:00:00",
          "1993-01-01T00:00:00",
          "1992-01-01T00:00:00",
          "1991-01-01T00:00:00",
          "1990-01-01T00:00:00",
          "1989-01-01T00:00:00"
         ],
         "y": [
          null,
          3.80308098441419,
          null,
          null,
          null,
          null,
          4.24325864762117,
          null,
          null,
          null,
          null,
          4.80446214184141,
          null,
          null,
          null,
          null,
          4.32661940007791,
          null,
          null,
          null,
          null,
          3.94401594518968,
          null,
          null,
          null,
          null,
          2.20213120580076,
          null
         ]
        },
        {
         "line": {
          "color": "#011F26"
         },
         "mode": "lines+markers",
         "name": "Sudan",
         "type": "scatter",
         "x": [
          "2016-01-01T00:00:00",
          "2015-01-01T00:00:00",
          "2014-01-01T00:00:00",
          "2013-01-01T00:00:00",
          "2012-01-01T00:00:00",
          "2011-01-01T00:00:00",
          "2010-01-01T00:00:00",
          "2009-01-01T00:00:00",
          "2008-01-01T00:00:00",
          "2007-01-01T00:00:00",
          "2006-01-01T00:00:00",
          "2005-01-01T00:00:00",
          "2004-01-01T00:00:00",
          "2003-01-01T00:00:00",
          "2002-01-01T00:00:00",
          "2001-01-01T00:00:00",
          "2000-01-01T00:00:00",
          "1999-01-01T00:00:00",
          "1998-01-01T00:00:00",
          "1997-01-01T00:00:00",
          "1996-01-01T00:00:00",
          "1995-01-01T00:00:00",
          "1994-01-01T00:00:00",
          "1993-01-01T00:00:00",
          "1992-01-01T00:00:00",
          "1991-01-01T00:00:00",
          "1990-01-01T00:00:00",
          "1989-01-01T00:00:00"
         ],
         "y": [
          null,
          1.2513445422805,
          null,
          null,
          null,
          null,
          1.25264449650173,
          null,
          null,
          null,
          null,
          null,
          null,
          null,
          null,
          null,
          null,
          null,
          null,
          null,
          null,
          null,
          null,
          null,
          null,
          null,
          null,
          null
         ]
        },
        {
         "line": {
          "color": "#026873"
         },
         "mode": "lines+markers",
         "name": "Somalia",
         "type": "scatter",
         "x": [
          "2016-01-01T00:00:00",
          "2015-01-01T00:00:00",
          "2014-01-01T00:00:00",
          "2013-01-01T00:00:00",
          "2012-01-01T00:00:00",
          "2011-01-01T00:00:00",
          "2010-01-01T00:00:00",
          "2009-01-01T00:00:00",
          "2008-01-01T00:00:00",
          "2007-01-01T00:00:00",
          "2006-01-01T00:00:00",
          "2005-01-01T00:00:00",
          "2004-01-01T00:00:00",
          "2003-01-01T00:00:00",
          "2002-01-01T00:00:00",
          "2001-01-01T00:00:00",
          "2000-01-01T00:00:00",
          "1999-01-01T00:00:00",
          "1998-01-01T00:00:00",
          "1997-01-01T00:00:00",
          "1996-01-01T00:00:00",
          "1995-01-01T00:00:00",
          "1994-01-01T00:00:00",
          "1993-01-01T00:00:00",
          "1992-01-01T00:00:00",
          "1991-01-01T00:00:00",
          "1990-01-01T00:00:00",
          "1989-01-01T00:00:00"
         ],
         "y": [
          null,
          0.234455883618068,
          null,
          null,
          null,
          null,
          0.25042492397498,
          null,
          null,
          null,
          null,
          0.244126034701093,
          null,
          null,
          null,
          null,
          0.271981970954649,
          null,
          null,
          null,
          null,
          0.307684308053019,
          null,
          null,
          null,
          null,
          7.56600963519607,
          null
         ]
        },
        {
         "line": {
          "color": "#03A688"
         },
         "mode": "lines+markers",
         "name": "South Sudan",
         "type": "scatter",
         "x": [
          "2016-01-01T00:00:00",
          "2015-01-01T00:00:00",
          "2014-01-01T00:00:00",
          "2013-01-01T00:00:00",
          "2012-01-01T00:00:00",
          "2011-01-01T00:00:00",
          "2010-01-01T00:00:00",
          "2009-01-01T00:00:00",
          "2008-01-01T00:00:00",
          "2007-01-01T00:00:00",
          "2006-01-01T00:00:00",
          "2005-01-01T00:00:00",
          "2004-01-01T00:00:00",
          "2003-01-01T00:00:00",
          "2002-01-01T00:00:00",
          "2001-01-01T00:00:00",
          "2000-01-01T00:00:00",
          "1999-01-01T00:00:00",
          "1998-01-01T00:00:00",
          "1997-01-01T00:00:00",
          "1996-01-01T00:00:00",
          "1995-01-01T00:00:00",
          "1994-01-01T00:00:00",
          "1993-01-01T00:00:00",
          "1992-01-01T00:00:00",
          "1991-01-01T00:00:00",
          "1990-01-01T00:00:00",
          "1989-01-01T00:00:00"
         ],
         "y": [
          null,
          6.67856203968099,
          null,
          null,
          null,
          null,
          2.56456661006963,
          null,
          null,
          null,
          null,
          null,
          null,
          null,
          null,
          null,
          null,
          null,
          null,
          null,
          null,
          null,
          null,
          null,
          null,
          null,
          null,
          null
         ]
        },
        {
         "line": {
          "color": "#D4C2AD"
         },
         "mode": "lines+markers",
         "name": "Tanzania",
         "type": "scatter",
         "x": [
          "2016-01-01T00:00:00",
          "2015-01-01T00:00:00",
          "2014-01-01T00:00:00",
          "2013-01-01T00:00:00",
          "2012-01-01T00:00:00",
          "2011-01-01T00:00:00",
          "2010-01-01T00:00:00",
          "2009-01-01T00:00:00",
          "2008-01-01T00:00:00",
          "2007-01-01T00:00:00",
          "2006-01-01T00:00:00",
          "2005-01-01T00:00:00",
          "2004-01-01T00:00:00",
          "2003-01-01T00:00:00",
          "2002-01-01T00:00:00",
          "2001-01-01T00:00:00",
          "2000-01-01T00:00:00",
          "1999-01-01T00:00:00",
          "1998-01-01T00:00:00",
          "1997-01-01T00:00:00",
          "1996-01-01T00:00:00",
          "1995-01-01T00:00:00",
          "1994-01-01T00:00:00",
          "1993-01-01T00:00:00",
          "1992-01-01T00:00:00",
          "1991-01-01T00:00:00",
          "1990-01-01T00:00:00",
          "1989-01-01T00:00:00"
         ],
         "y": [
          null,
          0.488535530485828,
          null,
          null,
          null,
          null,
          0.67603498689169,
          null,
          null,
          null,
          null,
          1.97320916612058,
          null,
          null,
          null,
          null,
          2.73061660251845,
          null,
          null,
          null,
          null,
          3.69872865994284,
          null,
          null,
          null,
          null,
          2.25477378454917,
          null
         ]
        },
        {
         "line": {
          "color": "#66796B"
         },
         "mode": "lines+markers",
         "name": "Uganda",
         "type": "scatter",
         "x": [
          "2016-01-01T00:00:00",
          "2015-01-01T00:00:00",
          "2014-01-01T00:00:00",
          "2013-01-01T00:00:00",
          "2012-01-01T00:00:00",
          "2011-01-01T00:00:00",
          "2010-01-01T00:00:00",
          "2009-01-01T00:00:00",
          "2008-01-01T00:00:00",
          "2007-01-01T00:00:00",
          "2006-01-01T00:00:00",
          "2005-01-01T00:00:00",
          "2004-01-01T00:00:00",
          "2003-01-01T00:00:00",
          "2002-01-01T00:00:00",
          "2001-01-01T00:00:00",
          "2000-01-01T00:00:00",
          "1999-01-01T00:00:00",
          "1998-01-01T00:00:00",
          "1997-01-01T00:00:00",
          "1996-01-01T00:00:00",
          "1995-01-01T00:00:00",
          "1994-01-01T00:00:00",
          "1993-01-01T00:00:00",
          "1992-01-01T00:00:00",
          "1991-01-01T00:00:00",
          "1990-01-01T00:00:00",
          "1989-01-01T00:00:00"
         ],
         "y": [
          null,
          1.92012616805897,
          null,
          null,
          null,
          null,
          1.59628750032014,
          null,
          null,
          null,
          null,
          2.3285014738211,
          null,
          null,
          null,
          null,
          2.67157473075183,
          null,
          null,
          null,
          null,
          3.10890621632808,
          null,
          null,
          null,
          null,
          3.21154595832613,
          null
         ]
        }
       ],
       "frames": [
        {
         "data": [
          {
           "line": {
            "color": "#C10000"
           },
           "mode": "lines+markers",
           "name": "Burundi",
           "type": "scatter",
           "x": [
            "2016-01-01T00:00:00"
           ],
           "y": [
            null
           ]
          },
          {
           "line": {
            "color": "#C10000"
           },
           "mode": "lines+markers",
           "name": "Burundi",
           "type": "scatter",
           "x": [
            "2015-01-01T00:00:00"
           ],
           "y": [
            2.56563222872762
           ]
          },
          {
           "line": {
            "color": "#C10000"
           },
           "mode": "lines+markers",
           "name": "Burundi",
           "type": "scatter",
           "x": [
            "2014-01-01T00:00:00"
           ],
           "y": [
            null
           ]
          },
          {
           "line": {
            "color": "#C10000"
           },
           "mode": "lines+markers",
           "name": "Burundi",
           "type": "scatter",
           "x": [
            "2013-01-01T00:00:00"
           ],
           "y": [
            null
           ]
          },
          {
           "line": {
            "color": "#C10000"
           },
           "mode": "lines+markers",
           "name": "Burundi",
           "type": "scatter",
           "x": [
            "2012-01-01T00:00:00"
           ],
           "y": [
            null
           ]
          },
          {
           "line": {
            "color": "#C10000"
           },
           "mode": "lines+markers",
           "name": "Burundi",
           "type": "scatter",
           "x": [
            "2011-01-01T00:00:00"
           ],
           "y": [
            null
           ]
          },
          {
           "line": {
            "color": "#C10000"
           },
           "mode": "lines+markers",
           "name": "Burundi",
           "type": "scatter",
           "x": [
            "2010-01-01T00:00:00"
           ],
           "y": [
            2.48658800012726
           ]
          },
          {
           "line": {
            "color": "#C10000"
           },
           "mode": "lines+markers",
           "name": "Burundi",
           "type": "scatter",
           "x": [
            "2009-01-01T00:00:00"
           ],
           "y": [
            null
           ]
          },
          {
           "line": {
            "color": "#C10000"
           },
           "mode": "lines+markers",
           "name": "Burundi",
           "type": "scatter",
           "x": [
            "2008-01-01T00:00:00"
           ],
           "y": [
            null
           ]
          },
          {
           "line": {
            "color": "#C10000"
           },
           "mode": "lines+markers",
           "name": "Burundi",
           "type": "scatter",
           "x": [
            "2007-01-01T00:00:00"
           ],
           "y": [
            null
           ]
          },
          {
           "line": {
            "color": "#C10000"
           },
           "mode": "lines+markers",
           "name": "Burundi",
           "type": "scatter",
           "x": [
            "2006-01-01T00:00:00"
           ],
           "y": [
            null
           ]
          },
          {
           "line": {
            "color": "#C10000"
           },
           "mode": "lines+markers",
           "name": "Burundi",
           "type": "scatter",
           "x": [
            "2005-01-01T00:00:00"
           ],
           "y": [
            2.17884243843718
           ]
          },
          {
           "line": {
            "color": "#C10000"
           },
           "mode": "lines+markers",
           "name": "Burundi",
           "type": "scatter",
           "x": [
            "2004-01-01T00:00:00"
           ],
           "y": [
            null
           ]
          },
          {
           "line": {
            "color": "#C10000"
           },
           "mode": "lines+markers",
           "name": "Burundi",
           "type": "scatter",
           "x": [
            "2003-01-01T00:00:00"
           ],
           "y": [
            null
           ]
          },
          {
           "line": {
            "color": "#C10000"
           },
           "mode": "lines+markers",
           "name": "Burundi",
           "type": "scatter",
           "x": [
            "2002-01-01T00:00:00"
           ],
           "y": [
            null
           ]
          },
          {
           "line": {
            "color": "#C10000"
           },
           "mode": "lines+markers",
           "name": "Burundi",
           "type": "scatter",
           "x": [
            "2001-01-01T00:00:00"
           ],
           "y": [
            null
           ]
          },
          {
           "line": {
            "color": "#C10000"
           },
           "mode": "lines+markers",
           "name": "Burundi",
           "type": "scatter",
           "x": [
            "2000-01-01T00:00:00"
           ],
           "y": [
            1.85645994952323
           ]
          },
          {
           "line": {
            "color": "#C10000"
           },
           "mode": "lines+markers",
           "name": "Burundi",
           "type": "scatter",
           "x": [
            "1999-01-01T00:00:00"
           ],
           "y": [
            null
           ]
          },
          {
           "line": {
            "color": "#C10000"
           },
           "mode": "lines+markers",
           "name": "Burundi",
           "type": "scatter",
           "x": [
            "1998-01-01T00:00:00"
           ],
           "y": [
            null
           ]
          },
          {
           "line": {
            "color": "#C10000"
           },
           "mode": "lines+markers",
           "name": "Burundi",
           "type": "scatter",
           "x": [
            "1997-01-01T00:00:00"
           ],
           "y": [
            null
           ]
          },
          {
           "line": {
            "color": "#C10000"
           },
           "mode": "lines+markers",
           "name": "Burundi",
           "type": "scatter",
           "x": [
            "1996-01-01T00:00:00"
           ],
           "y": [
            null
           ]
          },
          {
           "line": {
            "color": "#C10000"
           },
           "mode": "lines+markers",
           "name": "Burundi",
           "type": "scatter",
           "x": [
            "1995-01-01T00:00:00"
           ],
           "y": [
            4.08481767197786
           ]
          },
          {
           "line": {
            "color": "#C10000"
           },
           "mode": "lines+markers",
           "name": "Burundi",
           "type": "scatter",
           "x": [
            "1994-01-01T00:00:00"
           ],
           "y": [
            null
           ]
          },
          {
           "line": {
            "color": "#C10000"
           },
           "mode": "lines+markers",
           "name": "Burundi",
           "type": "scatter",
           "x": [
            "1993-01-01T00:00:00"
           ],
           "y": [
            null
           ]
          },
          {
           "line": {
            "color": "#C10000"
           },
           "mode": "lines+markers",
           "name": "Burundi",
           "type": "scatter",
           "x": [
            "1992-01-01T00:00:00"
           ],
           "y": [
            null
           ]
          },
          {
           "line": {
            "color": "#C10000"
           },
           "mode": "lines+markers",
           "name": "Burundi",
           "type": "scatter",
           "x": [
            "1991-01-01T00:00:00"
           ],
           "y": [
            null
           ]
          },
          {
           "line": {
            "color": "#C10000"
           },
           "mode": "lines+markers",
           "name": "Burundi",
           "type": "scatter",
           "x": [
            "1990-01-01T00:00:00"
           ],
           "y": [
            5.9344669945045
           ]
          },
          {
           "line": {
            "color": "#C10000"
           },
           "mode": "lines+markers",
           "name": "Burundi",
           "type": "scatter",
           "x": [
            "1989-01-01T00:00:00"
           ],
           "y": [
            null
           ]
          }
         ],
         "name": "Burundi"
        },
        {
         "data": [
          {
           "line": {
            "color": "#d39b81"
           },
           "mode": "lines+markers",
           "name": "Djibouti",
           "type": "scatter",
           "x": [
            "2016-01-01T00:00:00"
           ],
           "y": [
            null
           ]
          },
          {
           "line": {
            "color": "#d39b81"
           },
           "mode": "lines+markers",
           "name": "Djibouti",
           "type": "scatter",
           "x": [
            "2015-01-01T00:00:00"
           ],
           "y": [
            12.6541204084874
           ]
          },
          {
           "line": {
            "color": "#d39b81"
           },
           "mode": "lines+markers",
           "name": "Djibouti",
           "type": "scatter",
           "x": [
            "2014-01-01T00:00:00"
           ],
           "y": [
            null
           ]
          },
          {
           "line": {
            "color": "#d39b81"
           },
           "mode": "lines+markers",
           "name": "Djibouti",
           "type": "scatter",
           "x": [
            "2013-01-01T00:00:00"
           ],
           "y": [
            null
           ]
          },
          {
           "line": {
            "color": "#d39b81"
           },
           "mode": "lines+markers",
           "name": "Djibouti",
           "type": "scatter",
           "x": [
            "2012-01-01T00:00:00"
           ],
           "y": [
            null
           ]
          },
          {
           "line": {
            "color": "#d39b81"
           },
           "mode": "lines+markers",
           "name": "Djibouti",
           "type": "scatter",
           "x": [
            "2011-01-01T00:00:00"
           ],
           "y": [
            null
           ]
          },
          {
           "line": {
            "color": "#d39b81"
           },
           "mode": "lines+markers",
           "name": "Djibouti",
           "type": "scatter",
           "x": [
            "2010-01-01T00:00:00"
           ],
           "y": [
            12.2261381171446
           ]
          },
          {
           "line": {
            "color": "#d39b81"
           },
           "mode": "lines+markers",
           "name": "Djibouti",
           "type": "scatter",
           "x": [
            "2009-01-01T00:00:00"
           ],
           "y": [
            null
           ]
          },
          {
           "line": {
            "color": "#d39b81"
           },
           "mode": "lines+markers",
           "name": "Djibouti",
           "type": "scatter",
           "x": [
            "2008-01-01T00:00:00"
           ],
           "y": [
            null
           ]
          },
          {
           "line": {
            "color": "#d39b81"
           },
           "mode": "lines+markers",
           "name": "Djibouti",
           "type": "scatter",
           "x": [
            "2007-01-01T00:00:00"
           ],
           "y": [
            null
           ]
          },
          {
           "line": {
            "color": "#d39b81"
           },
           "mode": "lines+markers",
           "name": "Djibouti",
           "type": "scatter",
           "x": [
            "2006-01-01T00:00:00"
           ],
           "y": [
            null
           ]
          },
          {
           "line": {
            "color": "#d39b81"
           },
           "mode": "lines+markers",
           "name": "Djibouti",
           "type": "scatter",
           "x": [
            "2005-01-01T00:00:00"
           ],
           "y": [
            11.8307155905787
           ]
          },
          {
           "line": {
            "color": "#d39b81"
           },
           "mode": "lines+markers",
           "name": "Djibouti",
           "type": "scatter",
           "x": [
            "2004-01-01T00:00:00"
           ],
           "y": [
            null
           ]
          },
          {
           "line": {
            "color": "#d39b81"
           },
           "mode": "lines+markers",
           "name": "Djibouti",
           "type": "scatter",
           "x": [
            "2003-01-01T00:00:00"
           ],
           "y": [
            null
           ]
          },
          {
           "line": {
            "color": "#d39b81"
           },
           "mode": "lines+markers",
           "name": "Djibouti",
           "type": "scatter",
           "x": [
            "2002-01-01T00:00:00"
           ],
           "y": [
            null
           ]
          },
          {
           "line": {
            "color": "#d39b81"
           },
           "mode": "lines+markers",
           "name": "Djibouti",
           "type": "scatter",
           "x": [
            "2001-01-01T00:00:00"
           ],
           "y": [
            null
           ]
          },
          {
           "line": {
            "color": "#d39b81"
           },
           "mode": "lines+markers",
           "name": "Djibouti",
           "type": "scatter",
           "x": [
            "2000-01-01T00:00:00"
           ],
           "y": [
            13.9098098156283
           ]
          },
          {
           "line": {
            "color": "#d39b81"
           },
           "mode": "lines+markers",
           "name": "Djibouti",
           "type": "scatter",
           "x": [
            "1999-01-01T00:00:00"
           ],
           "y": [
            null
           ]
          },
          {
           "line": {
            "color": "#d39b81"
           },
           "mode": "lines+markers",
           "name": "Djibouti",
           "type": "scatter",
           "x": [
            "1998-01-01T00:00:00"
           ],
           "y": [
            null
           ]
          },
          {
           "line": {
            "color": "#d39b81"
           },
           "mode": "lines+markers",
           "name": "Djibouti",
           "type": "scatter",
           "x": [
            "1997-01-01T00:00:00"
           ],
           "y": [
            null
           ]
          },
          {
           "line": {
            "color": "#d39b81"
           },
           "mode": "lines+markers",
           "name": "Djibouti",
           "type": "scatter",
           "x": [
            "1996-01-01T00:00:00"
           ],
           "y": [
            null
           ]
          },
          {
           "line": {
            "color": "#d39b81"
           },
           "mode": "lines+markers",
           "name": "Djibouti",
           "type": "scatter",
           "x": [
            "1995-01-01T00:00:00"
           ],
           "y": [
            15.0926671063539
           ]
          },
          {
           "line": {
            "color": "#d39b81"
           },
           "mode": "lines+markers",
           "name": "Djibouti",
           "type": "scatter",
           "x": [
            "1994-01-01T00:00:00"
           ],
           "y": [
            null
           ]
          },
          {
           "line": {
            "color": "#d39b81"
           },
           "mode": "lines+markers",
           "name": "Djibouti",
           "type": "scatter",
           "x": [
            "1993-01-01T00:00:00"
           ],
           "y": [
            null
           ]
          },
          {
           "line": {
            "color": "#d39b81"
           },
           "mode": "lines+markers",
           "name": "Djibouti",
           "type": "scatter",
           "x": [
            "1992-01-01T00:00:00"
           ],
           "y": [
            null
           ]
          },
          {
           "line": {
            "color": "#d39b81"
           },
           "mode": "lines+markers",
           "name": "Djibouti",
           "type": "scatter",
           "x": [
            "1991-01-01T00:00:00"
           ],
           "y": [
            null
           ]
          },
          {
           "line": {
            "color": "#d39b81"
           },
           "mode": "lines+markers",
           "name": "Djibouti",
           "type": "scatter",
           "x": [
            "1990-01-01T00:00:00"
           ],
           "y": [
            20.7733073173385
           ]
          },
          {
           "line": {
            "color": "#d39b81"
           },
           "mode": "lines+markers",
           "name": "Djibouti",
           "type": "scatter",
           "x": [
            "1989-01-01T00:00:00"
           ],
           "y": [
            null
           ]
          }
         ],
         "name": "Djibouti"
        },
        {
         "data": [
          {
           "line": {
            "color": "#0476D9"
           },
           "mode": "lines+markers",
           "name": "Eritrea",
           "type": "scatter",
           "x": [
            "2016-01-01T00:00:00"
           ],
           "y": [
            null
           ]
          },
          {
           "line": {
            "color": "#0476D9"
           },
           "mode": "lines+markers",
           "name": "Eritrea",
           "type": "scatter",
           "x": [
            "2015-01-01T00:00:00"
           ],
           "y": [
            null
           ]
          },
          {
           "line": {
            "color": "#0476D9"
           },
           "mode": "lines+markers",
           "name": "Eritrea",
           "type": "scatter",
           "x": [
            "2014-01-01T00:00:00"
           ],
           "y": [
            null
           ]
          },
          {
           "line": {
            "color": "#0476D9"
           },
           "mode": "lines+markers",
           "name": "Eritrea",
           "type": "scatter",
           "x": [
            "2013-01-01T00:00:00"
           ],
           "y": [
            null
           ]
          },
          {
           "line": {
            "color": "#0476D9"
           },
           "mode": "lines+markers",
           "name": "Eritrea",
           "type": "scatter",
           "x": [
            "2012-01-01T00:00:00"
           ],
           "y": [
            null
           ]
          },
          {
           "line": {
            "color": "#0476D9"
           },
           "mode": "lines+markers",
           "name": "Eritrea",
           "type": "scatter",
           "x": [
            "2011-01-01T00:00:00"
           ],
           "y": [
            null
           ]
          },
          {
           "line": {
            "color": "#0476D9"
           },
           "mode": "lines+markers",
           "name": "Eritrea",
           "type": "scatter",
           "x": [
            "2010-01-01T00:00:00"
           ],
           "y": [
            0.334267017850319
           ]
          },
          {
           "line": {
            "color": "#0476D9"
           },
           "mode": "lines+markers",
           "name": "Eritrea",
           "type": "scatter",
           "x": [
            "2009-01-01T00:00:00"
           ],
           "y": [
            null
           ]
          },
          {
           "line": {
            "color": "#0476D9"
           },
           "mode": "lines+markers",
           "name": "Eritrea",
           "type": "scatter",
           "x": [
            "2008-01-01T00:00:00"
           ],
           "y": [
            null
           ]
          },
          {
           "line": {
            "color": "#0476D9"
           },
           "mode": "lines+markers",
           "name": "Eritrea",
           "type": "scatter",
           "x": [
            "2007-01-01T00:00:00"
           ],
           "y": [
            null
           ]
          },
          {
           "line": {
            "color": "#0476D9"
           },
           "mode": "lines+markers",
           "name": "Eritrea",
           "type": "scatter",
           "x": [
            "2006-01-01T00:00:00"
           ],
           "y": [
            null
           ]
          },
          {
           "line": {
            "color": "#0476D9"
           },
           "mode": "lines+markers",
           "name": "Eritrea",
           "type": "scatter",
           "x": [
            "2005-01-01T00:00:00"
           ],
           "y": [
            0.341519151818552
           ]
          },
          {
           "line": {
            "color": "#0476D9"
           },
           "mode": "lines+markers",
           "name": "Eritrea",
           "type": "scatter",
           "x": [
            "2004-01-01T00:00:00"
           ],
           "y": [
            null
           ]
          },
          {
           "line": {
            "color": "#0476D9"
           },
           "mode": "lines+markers",
           "name": "Eritrea",
           "type": "scatter",
           "x": [
            "2003-01-01T00:00:00"
           ],
           "y": [
            null
           ]
          },
          {
           "line": {
            "color": "#0476D9"
           },
           "mode": "lines+markers",
           "name": "Eritrea",
           "type": "scatter",
           "x": [
            "2002-01-01T00:00:00"
           ],
           "y": [
            null
           ]
          },
          {
           "line": {
            "color": "#0476D9"
           },
           "mode": "lines+markers",
           "name": "Eritrea",
           "type": "scatter",
           "x": [
            "2001-01-01T00:00:00"
           ],
           "y": [
            null
           ]
          },
          {
           "line": {
            "color": "#0476D9"
           },
           "mode": "lines+markers",
           "name": "Eritrea",
           "type": "scatter",
           "x": [
            "2000-01-01T00:00:00"
           ],
           "y": [
            0.366377042484122
           ]
          },
          {
           "line": {
            "color": "#0476D9"
           },
           "mode": "lines+markers",
           "name": "Eritrea",
           "type": "scatter",
           "x": [
            "1999-01-01T00:00:00"
           ],
           "y": [
            null
           ]
          },
          {
           "line": {
            "color": "#0476D9"
           },
           "mode": "lines+markers",
           "name": "Eritrea",
           "type": "scatter",
           "x": [
            "1998-01-01T00:00:00"
           ],
           "y": [
            null
           ]
          },
          {
           "line": {
            "color": "#0476D9"
           },
           "mode": "lines+markers",
           "name": "Eritrea",
           "type": "scatter",
           "x": [
            "1997-01-01T00:00:00"
           ],
           "y": [
            null
           ]
          },
          {
           "line": {
            "color": "#0476D9"
           },
           "mode": "lines+markers",
           "name": "Eritrea",
           "type": "scatter",
           "x": [
            "1996-01-01T00:00:00"
           ],
           "y": [
            null
           ]
          },
          {
           "line": {
            "color": "#0476D9"
           },
           "mode": "lines+markers",
           "name": "Eritrea",
           "type": "scatter",
           "x": [
            "1995-01-01T00:00:00"
           ],
           "y": [
            0.391897209154592
           ]
          },
          {
           "line": {
            "color": "#0476D9"
           },
           "mode": "lines+markers",
           "name": "Eritrea",
           "type": "scatter",
           "x": [
            "1994-01-01T00:00:00"
           ],
           "y": [
            null
           ]
          },
          {
           "line": {
            "color": "#0476D9"
           },
           "mode": "lines+markers",
           "name": "Eritrea",
           "type": "scatter",
           "x": [
            "1993-01-01T00:00:00"
           ],
           "y": [
            null
           ]
          },
          {
           "line": {
            "color": "#0476D9"
           },
           "mode": "lines+markers",
           "name": "Eritrea",
           "type": "scatter",
           "x": [
            "1992-01-01T00:00:00"
           ],
           "y": [
            null
           ]
          },
          {
           "line": {
            "color": "#0476D9"
           },
           "mode": "lines+markers",
           "name": "Eritrea",
           "type": "scatter",
           "x": [
            "1991-01-01T00:00:00"
           ],
           "y": [
            null
           ]
          },
          {
           "line": {
            "color": "#0476D9"
           },
           "mode": "lines+markers",
           "name": "Eritrea",
           "type": "scatter",
           "x": [
            "1990-01-01T00:00:00"
           ],
           "y": [
            0.37743506622794
           ]
          },
          {
           "line": {
            "color": "#0476D9"
           },
           "mode": "lines+markers",
           "name": "Eritrea",
           "type": "scatter",
           "x": [
            "1989-01-01T00:00:00"
           ],
           "y": [
            null
           ]
          }
         ],
         "name": "Eritrea"
        },
        {
         "data": [
          {
           "line": {
            "color": "#75A3BF"
           },
           "mode": "lines+markers",
           "name": "Ethiopia",
           "type": "scatter",
           "x": [
            "2016-01-01T00:00:00"
           ],
           "y": [
            null
           ]
          },
          {
           "line": {
            "color": "#75A3BF"
           },
           "mode": "lines+markers",
           "name": "Ethiopia",
           "type": "scatter",
           "x": [
            "2015-01-01T00:00:00"
           ],
           "y": [
            1.07952601222951
           ]
          },
          {
           "line": {
            "color": "#75A3BF"
           },
           "mode": "lines+markers",
           "name": "Ethiopia",
           "type": "scatter",
           "x": [
            "2014-01-01T00:00:00"
           ],
           "y": [
            null
           ]
          },
          {
           "line": {
            "color": "#75A3BF"
           },
           "mode": "lines+markers",
           "name": "Ethiopia",
           "type": "scatter",
           "x": [
            "2013-01-01T00:00:00"
           ],
           "y": [
            null
           ]
          },
          {
           "line": {
            "color": "#75A3BF"
           },
           "mode": "lines+markers",
           "name": "Ethiopia",
           "type": "scatter",
           "x": [
            "2012-01-01T00:00:00"
           ],
           "y": [
            null
           ]
          },
          {
           "line": {
            "color": "#75A3BF"
           },
           "mode": "lines+markers",
           "name": "Ethiopia",
           "type": "scatter",
           "x": [
            "2011-01-01T00:00:00"
           ],
           "y": [
            null
           ]
          },
          {
           "line": {
            "color": "#75A3BF"
           },
           "mode": "lines+markers",
           "name": "Ethiopia",
           "type": "scatter",
           "x": [
            "2010-01-01T00:00:00"
           ],
           "y": [
            0.648364822592643
           ]
          },
          {
           "line": {
            "color": "#75A3BF"
           },
           "mode": "lines+markers",
           "name": "Ethiopia",
           "type": "scatter",
           "x": [
            "2009-01-01T00:00:00"
           ],
           "y": [
            null
           ]
          },
          {
           "line": {
            "color": "#75A3BF"
           },
           "mode": "lines+markers",
           "name": "Ethiopia",
           "type": "scatter",
           "x": [
            "2008-01-01T00:00:00"
           ],
           "y": [
            null
           ]
          },
          {
           "line": {
            "color": "#75A3BF"
           },
           "mode": "lines+markers",
           "name": "Ethiopia",
           "type": "scatter",
           "x": [
            "2007-01-01T00:00:00"
           ],
           "y": [
            null
           ]
          },
          {
           "line": {
            "color": "#75A3BF"
           },
           "mode": "lines+markers",
           "name": "Ethiopia",
           "type": "scatter",
           "x": [
            "2006-01-01T00:00:00"
           ],
           "y": [
            null
           ]
          },
          {
           "line": {
            "color": "#75A3BF"
           },
           "mode": "lines+markers",
           "name": "Ethiopia",
           "type": "scatter",
           "x": [
            "2005-01-01T00:00:00"
           ],
           "y": [
            0.671260321204072
           ]
          },
          {
           "line": {
            "color": "#75A3BF"
           },
           "mode": "lines+markers",
           "name": "Ethiopia",
           "type": "scatter",
           "x": [
            "2004-01-01T00:00:00"
           ],
           "y": [
            null
           ]
          },
          {
           "line": {
            "color": "#75A3BF"
           },
           "mode": "lines+markers",
           "name": "Ethiopia",
           "type": "scatter",
           "x": [
            "2003-01-01T00:00:00"
           ],
           "y": [
            null
           ]
          },
          {
           "line": {
            "color": "#75A3BF"
           },
           "mode": "lines+markers",
           "name": "Ethiopia",
           "type": "scatter",
           "x": [
            "2002-01-01T00:00:00"
           ],
           "y": [
            null
           ]
          },
          {
           "line": {
            "color": "#75A3BF"
           },
           "mode": "lines+markers",
           "name": "Ethiopia",
           "type": "scatter",
           "x": [
            "2001-01-01T00:00:00"
           ],
           "y": [
            null
           ]
          },
          {
           "line": {
            "color": "#75A3BF"
           },
           "mode": "lines+markers",
           "name": "Ethiopia",
           "type": "scatter",
           "x": [
            "2000-01-01T00:00:00"
           ],
           "y": [
            0.920154796542265
           ]
          },
          {
           "line": {
            "color": "#75A3BF"
           },
           "mode": "lines+markers",
           "name": "Ethiopia",
           "type": "scatter",
           "x": [
            "1999-01-01T00:00:00"
           ],
           "y": [
            null
           ]
          },
          {
           "line": {
            "color": "#75A3BF"
           },
           "mode": "lines+markers",
           "name": "Ethiopia",
           "type": "scatter",
           "x": [
            "1998-01-01T00:00:00"
           ],
           "y": [
            null
           ]
          },
          {
           "line": {
            "color": "#75A3BF"
           },
           "mode": "lines+markers",
           "name": "Ethiopia",
           "type": "scatter",
           "x": [
            "1997-01-01T00:00:00"
           ],
           "y": [
            null
           ]
          },
          {
           "line": {
            "color": "#75A3BF"
           },
           "mode": "lines+markers",
           "name": "Ethiopia",
           "type": "scatter",
           "x": [
            "1996-01-01T00:00:00"
           ],
           "y": [
            null
           ]
          },
          {
           "line": {
            "color": "#75A3BF"
           },
           "mode": "lines+markers",
           "name": "Ethiopia",
           "type": "scatter",
           "x": [
            "1995-01-01T00:00:00"
           ],
           "y": [
            1.40975385494748
           ]
          },
          {
           "line": {
            "color": "#75A3BF"
           },
           "mode": "lines+markers",
           "name": "Ethiopia",
           "type": "scatter",
           "x": [
            "1994-01-01T00:00:00"
           ],
           "y": [
            null
           ]
          },
          {
           "line": {
            "color": "#75A3BF"
           },
           "mode": "lines+markers",
           "name": "Ethiopia",
           "type": "scatter",
           "x": [
            "1993-01-01T00:00:00"
           ],
           "y": [
            null
           ]
          },
          {
           "line": {
            "color": "#75A3BF"
           },
           "mode": "lines+markers",
           "name": "Ethiopia",
           "type": "scatter",
           "x": [
            "1992-01-01T00:00:00"
           ],
           "y": [
            null
           ]
          },
          {
           "line": {
            "color": "#75A3BF"
           },
           "mode": "lines+markers",
           "name": "Ethiopia",
           "type": "scatter",
           "x": [
            "1991-01-01T00:00:00"
           ],
           "y": [
            null
           ]
          },
          {
           "line": {
            "color": "#75A3BF"
           },
           "mode": "lines+markers",
           "name": "Ethiopia",
           "type": "scatter",
           "x": [
            "1990-01-01T00:00:00"
           ],
           "y": [
            2.40420280094339
           ]
          },
          {
           "line": {
            "color": "#75A3BF"
           },
           "mode": "lines+markers",
           "name": "Ethiopia",
           "type": "scatter",
           "x": [
            "1989-01-01T00:00:00"
           ],
           "y": [
            null
           ]
          }
         ],
         "name": "Ethiopia"
        },
        {
         "data": [
          {
           "line": {
            "color": "#F2668B"
           },
           "mode": "lines+markers",
           "name": "Kenya",
           "type": "scatter",
           "x": [
            "2016-01-01T00:00:00"
           ],
           "y": [
            null
           ]
          },
          {
           "line": {
            "color": "#F2668B"
           },
           "mode": "lines+markers",
           "name": "Kenya",
           "type": "scatter",
           "x": [
            "2015-01-01T00:00:00"
           ],
           "y": [
            2.35472288542212
           ]
          },
          {
           "line": {
            "color": "#F2668B"
           },
           "mode": "lines+markers",
           "name": "Kenya",
           "type": "scatter",
           "x": [
            "2014-01-01T00:00:00"
           ],
           "y": [
            null
           ]
          },
          {
           "line": {
            "color": "#F2668B"
           },
           "mode": "lines+markers",
           "name": "Kenya",
           "type": "scatter",
           "x": [
            "2013-01-01T00:00:00"
           ],
           "y": [
            null
           ]
          },
          {
           "line": {
            "color": "#F2668B"
           },
           "mode": "lines+markers",
           "name": "Kenya",
           "type": "scatter",
           "x": [
            "2012-01-01T00:00:00"
           ],
           "y": [
            null
           ]
          },
          {
           "line": {
            "color": "#F2668B"
           },
           "mode": "lines+markers",
           "name": "Kenya",
           "type": "scatter",
           "x": [
            "2011-01-01T00:00:00"
           ],
           "y": [
            null
           ]
          },
          {
           "line": {
            "color": "#F2668B"
           },
           "mode": "lines+markers",
           "name": "Kenya",
           "type": "scatter",
           "x": [
            "2010-01-01T00:00:00"
           ],
           "y": [
            2.29853155523763
           ]
          },
          {
           "line": {
            "color": "#F2668B"
           },
           "mode": "lines+markers",
           "name": "Kenya",
           "type": "scatter",
           "x": [
            "2009-01-01T00:00:00"
           ],
           "y": [
            null
           ]
          },
          {
           "line": {
            "color": "#F2668B"
           },
           "mode": "lines+markers",
           "name": "Kenya",
           "type": "scatter",
           "x": [
            "2008-01-01T00:00:00"
           ],
           "y": [
            null
           ]
          },
          {
           "line": {
            "color": "#F2668B"
           },
           "mode": "lines+markers",
           "name": "Kenya",
           "type": "scatter",
           "x": [
            "2007-01-01T00:00:00"
           ],
           "y": [
            null
           ]
          },
          {
           "line": {
            "color": "#F2668B"
           },
           "mode": "lines+markers",
           "name": "Kenya",
           "type": "scatter",
           "x": [
            "2006-01-01T00:00:00"
           ],
           "y": [
            null
           ]
          },
          {
           "line": {
            "color": "#F2668B"
           },
           "mode": "lines+markers",
           "name": "Kenya",
           "type": "scatter",
           "x": [
            "2005-01-01T00:00:00"
           ],
           "y": [
            2.1412010057416
           ]
          },
          {
           "line": {
            "color": "#F2668B"
           },
           "mode": "lines+markers",
           "name": "Kenya",
           "type": "scatter",
           "x": [
            "2004-01-01T00:00:00"
           ],
           "y": [
            null
           ]
          },
          {
           "line": {
            "color": "#F2668B"
           },
           "mode": "lines+markers",
           "name": "Kenya",
           "type": "scatter",
           "x": [
            "2003-01-01T00:00:00"
           ],
           "y": [
            null
           ]
          },
          {
           "line": {
            "color": "#F2668B"
           },
           "mode": "lines+markers",
           "name": "Kenya",
           "type": "scatter",
           "x": [
            "2002-01-01T00:00:00"
           ],
           "y": [
            null
           ]
          },
          {
           "line": {
            "color": "#F2668B"
           },
           "mode": "lines+markers",
           "name": "Kenya",
           "type": "scatter",
           "x": [
            "2001-01-01T00:00:00"
           ],
           "y": [
            null
           ]
          },
          {
           "line": {
            "color": "#F2668B"
           },
           "mode": "lines+markers",
           "name": "Kenya",
           "type": "scatter",
           "x": [
            "2000-01-01T00:00:00"
           ],
           "y": [
            2.2505087585005
           ]
          },
          {
           "line": {
            "color": "#F2668B"
           },
           "mode": "lines+markers",
           "name": "Kenya",
           "type": "scatter",
           "x": [
            "1999-01-01T00:00:00"
           ],
           "y": [
            null
           ]
          },
          {
           "line": {
            "color": "#F2668B"
           },
           "mode": "lines+markers",
           "name": "Kenya",
           "type": "scatter",
           "x": [
            "1998-01-01T00:00:00"
           ],
           "y": [
            null
           ]
          },
          {
           "line": {
            "color": "#F2668B"
           },
           "mode": "lines+markers",
           "name": "Kenya",
           "type": "scatter",
           "x": [
            "1997-01-01T00:00:00"
           ],
           "y": [
            null
           ]
          },
          {
           "line": {
            "color": "#F2668B"
           },
           "mode": "lines+markers",
           "name": "Kenya",
           "type": "scatter",
           "x": [
            "1996-01-01T00:00:00"
           ],
           "y": [
            null
           ]
          },
          {
           "line": {
            "color": "#F2668B"
           },
           "mode": "lines+markers",
           "name": "Kenya",
           "type": "scatter",
           "x": [
            "1995-01-01T00:00:00"
           ],
           "y": [
            2.26041796242178
           ]
          },
          {
           "line": {
            "color": "#F2668B"
           },
           "mode": "lines+markers",
           "name": "Kenya",
           "type": "scatter",
           "x": [
            "1994-01-01T00:00:00"
           ],
           "y": [
            null
           ]
          },
          {
           "line": {
            "color": "#F2668B"
           },
           "mode": "lines+markers",
           "name": "Kenya",
           "type": "scatter",
           "x": [
            "1993-01-01T00:00:00"
           ],
           "y": [
            null
           ]
          },
          {
           "line": {
            "color": "#F2668B"
           },
           "mode": "lines+markers",
           "name": "Kenya",
           "type": "scatter",
           "x": [
            "1992-01-01T00:00:00"
           ],
           "y": [
            null
           ]
          },
          {
           "line": {
            "color": "#F2668B"
           },
           "mode": "lines+markers",
           "name": "Kenya",
           "type": "scatter",
           "x": [
            "1991-01-01T00:00:00"
           ],
           "y": [
            null
           ]
          },
          {
           "line": {
            "color": "#F2668B"
           },
           "mode": "lines+markers",
           "name": "Kenya",
           "type": "scatter",
           "x": [
            "1990-01-01T00:00:00"
           ],
           "y": [
            1.26797362595068
           ]
          },
          {
           "line": {
            "color": "#F2668B"
           },
           "mode": "lines+markers",
           "name": "Kenya",
           "type": "scatter",
           "x": [
            "1989-01-01T00:00:00"
           ],
           "y": [
            null
           ]
          }
         ],
         "name": "Kenya"
        },
        {
         "data": [
          {
           "line": {
            "color": "#025E73"
           },
           "mode": "lines+markers",
           "name": "Rwanda",
           "type": "scatter",
           "x": [
            "2016-01-01T00:00:00"
           ],
           "y": [
            null
           ]
          },
          {
           "line": {
            "color": "#025E73"
           },
           "mode": "lines+markers",
           "name": "Rwanda",
           "type": "scatter",
           "x": [
            "2015-01-01T00:00:00"
           ],
           "y": [
            3.80308098441419
           ]
          },
          {
           "line": {
            "color": "#025E73"
           },
           "mode": "lines+markers",
           "name": "Rwanda",
           "type": "scatter",
           "x": [
            "2014-01-01T00:00:00"
           ],
           "y": [
            null
           ]
          },
          {
           "line": {
            "color": "#025E73"
           },
           "mode": "lines+markers",
           "name": "Rwanda",
           "type": "scatter",
           "x": [
            "2013-01-01T00:00:00"
           ],
           "y": [
            null
           ]
          },
          {
           "line": {
            "color": "#025E73"
           },
           "mode": "lines+markers",
           "name": "Rwanda",
           "type": "scatter",
           "x": [
            "2012-01-01T00:00:00"
           ],
           "y": [
            null
           ]
          },
          {
           "line": {
            "color": "#025E73"
           },
           "mode": "lines+markers",
           "name": "Rwanda",
           "type": "scatter",
           "x": [
            "2011-01-01T00:00:00"
           ],
           "y": [
            null
           ]
          },
          {
           "line": {
            "color": "#025E73"
           },
           "mode": "lines+markers",
           "name": "Rwanda",
           "type": "scatter",
           "x": [
            "2010-01-01T00:00:00"
           ],
           "y": [
            4.24325864762117
           ]
          },
          {
           "line": {
            "color": "#025E73"
           },
           "mode": "lines+markers",
           "name": "Rwanda",
           "type": "scatter",
           "x": [
            "2009-01-01T00:00:00"
           ],
           "y": [
            null
           ]
          },
          {
           "line": {
            "color": "#025E73"
           },
           "mode": "lines+markers",
           "name": "Rwanda",
           "type": "scatter",
           "x": [
            "2008-01-01T00:00:00"
           ],
           "y": [
            null
           ]
          },
          {
           "line": {
            "color": "#025E73"
           },
           "mode": "lines+markers",
           "name": "Rwanda",
           "type": "scatter",
           "x": [
            "2007-01-01T00:00:00"
           ],
           "y": [
            null
           ]
          },
          {
           "line": {
            "color": "#025E73"
           },
           "mode": "lines+markers",
           "name": "Rwanda",
           "type": "scatter",
           "x": [
            "2006-01-01T00:00:00"
           ],
           "y": [
            null
           ]
          },
          {
           "line": {
            "color": "#025E73"
           },
           "mode": "lines+markers",
           "name": "Rwanda",
           "type": "scatter",
           "x": [
            "2005-01-01T00:00:00"
           ],
           "y": [
            4.80446214184141
           ]
          },
          {
           "line": {
            "color": "#025E73"
           },
           "mode": "lines+markers",
           "name": "Rwanda",
           "type": "scatter",
           "x": [
            "2004-01-01T00:00:00"
           ],
           "y": [
            null
           ]
          },
          {
           "line": {
            "color": "#025E73"
           },
           "mode": "lines+markers",
           "name": "Rwanda",
           "type": "scatter",
           "x": [
            "2003-01-01T00:00:00"
           ],
           "y": [
            null
           ]
          },
          {
           "line": {
            "color": "#025E73"
           },
           "mode": "lines+markers",
           "name": "Rwanda",
           "type": "scatter",
           "x": [
            "2002-01-01T00:00:00"
           ],
           "y": [
            null
           ]
          },
          {
           "line": {
            "color": "#025E73"
           },
           "mode": "lines+markers",
           "name": "Rwanda",
           "type": "scatter",
           "x": [
            "2001-01-01T00:00:00"
           ],
           "y": [
            null
           ]
          },
          {
           "line": {
            "color": "#025E73"
           },
           "mode": "lines+markers",
           "name": "Rwanda",
           "type": "scatter",
           "x": [
            "2000-01-01T00:00:00"
           ],
           "y": [
            4.32661940007791
           ]
          },
          {
           "line": {
            "color": "#025E73"
           },
           "mode": "lines+markers",
           "name": "Rwanda",
           "type": "scatter",
           "x": [
            "1999-01-01T00:00:00"
           ],
           "y": [
            null
           ]
          },
          {
           "line": {
            "color": "#025E73"
           },
           "mode": "lines+markers",
           "name": "Rwanda",
           "type": "scatter",
           "x": [
            "1998-01-01T00:00:00"
           ],
           "y": [
            null
           ]
          },
          {
           "line": {
            "color": "#025E73"
           },
           "mode": "lines+markers",
           "name": "Rwanda",
           "type": "scatter",
           "x": [
            "1997-01-01T00:00:00"
           ],
           "y": [
            null
           ]
          },
          {
           "line": {
            "color": "#025E73"
           },
           "mode": "lines+markers",
           "name": "Rwanda",
           "type": "scatter",
           "x": [
            "1996-01-01T00:00:00"
           ],
           "y": [
            null
           ]
          },
          {
           "line": {
            "color": "#025E73"
           },
           "mode": "lines+markers",
           "name": "Rwanda",
           "type": "scatter",
           "x": [
            "1995-01-01T00:00:00"
           ],
           "y": [
            3.94401594518968
           ]
          },
          {
           "line": {
            "color": "#025E73"
           },
           "mode": "lines+markers",
           "name": "Rwanda",
           "type": "scatter",
           "x": [
            "1994-01-01T00:00:00"
           ],
           "y": [
            null
           ]
          },
          {
           "line": {
            "color": "#025E73"
           },
           "mode": "lines+markers",
           "name": "Rwanda",
           "type": "scatter",
           "x": [
            "1993-01-01T00:00:00"
           ],
           "y": [
            null
           ]
          },
          {
           "line": {
            "color": "#025E73"
           },
           "mode": "lines+markers",
           "name": "Rwanda",
           "type": "scatter",
           "x": [
            "1992-01-01T00:00:00"
           ],
           "y": [
            null
           ]
          },
          {
           "line": {
            "color": "#025E73"
           },
           "mode": "lines+markers",
           "name": "Rwanda",
           "type": "scatter",
           "x": [
            "1991-01-01T00:00:00"
           ],
           "y": [
            null
           ]
          },
          {
           "line": {
            "color": "#025E73"
           },
           "mode": "lines+markers",
           "name": "Rwanda",
           "type": "scatter",
           "x": [
            "1990-01-01T00:00:00"
           ],
           "y": [
            2.20213120580076
           ]
          },
          {
           "line": {
            "color": "#025E73"
           },
           "mode": "lines+markers",
           "name": "Rwanda",
           "type": "scatter",
           "x": [
            "1989-01-01T00:00:00"
           ],
           "y": [
            null
           ]
          }
         ],
         "name": "Rwanda"
        },
        {
         "data": [
          {
           "line": {
            "color": "#011F26"
           },
           "mode": "lines+markers",
           "name": "Sudan",
           "type": "scatter",
           "x": [
            "2016-01-01T00:00:00"
           ],
           "y": [
            null
           ]
          },
          {
           "line": {
            "color": "#011F26"
           },
           "mode": "lines+markers",
           "name": "Sudan",
           "type": "scatter",
           "x": [
            "2015-01-01T00:00:00"
           ],
           "y": [
            1.2513445422805
           ]
          },
          {
           "line": {
            "color": "#011F26"
           },
           "mode": "lines+markers",
           "name": "Sudan",
           "type": "scatter",
           "x": [
            "2014-01-01T00:00:00"
           ],
           "y": [
            null
           ]
          },
          {
           "line": {
            "color": "#011F26"
           },
           "mode": "lines+markers",
           "name": "Sudan",
           "type": "scatter",
           "x": [
            "2013-01-01T00:00:00"
           ],
           "y": [
            null
           ]
          },
          {
           "line": {
            "color": "#011F26"
           },
           "mode": "lines+markers",
           "name": "Sudan",
           "type": "scatter",
           "x": [
            "2012-01-01T00:00:00"
           ],
           "y": [
            null
           ]
          },
          {
           "line": {
            "color": "#011F26"
           },
           "mode": "lines+markers",
           "name": "Sudan",
           "type": "scatter",
           "x": [
            "2011-01-01T00:00:00"
           ],
           "y": [
            null
           ]
          },
          {
           "line": {
            "color": "#011F26"
           },
           "mode": "lines+markers",
           "name": "Sudan",
           "type": "scatter",
           "x": [
            "2010-01-01T00:00:00"
           ],
           "y": [
            1.25264449650173
           ]
          },
          {
           "line": {
            "color": "#011F26"
           },
           "mode": "lines+markers",
           "name": "Sudan",
           "type": "scatter",
           "x": [
            "2009-01-01T00:00:00"
           ],
           "y": [
            null
           ]
          },
          {
           "line": {
            "color": "#011F26"
           },
           "mode": "lines+markers",
           "name": "Sudan",
           "type": "scatter",
           "x": [
            "2008-01-01T00:00:00"
           ],
           "y": [
            null
           ]
          },
          {
           "line": {
            "color": "#011F26"
           },
           "mode": "lines+markers",
           "name": "Sudan",
           "type": "scatter",
           "x": [
            "2007-01-01T00:00:00"
           ],
           "y": [
            null
           ]
          },
          {
           "line": {
            "color": "#011F26"
           },
           "mode": "lines+markers",
           "name": "Sudan",
           "type": "scatter",
           "x": [
            "2006-01-01T00:00:00"
           ],
           "y": [
            null
           ]
          },
          {
           "line": {
            "color": "#011F26"
           },
           "mode": "lines+markers",
           "name": "Sudan",
           "type": "scatter",
           "x": [
            "2005-01-01T00:00:00"
           ],
           "y": [
            null
           ]
          },
          {
           "line": {
            "color": "#011F26"
           },
           "mode": "lines+markers",
           "name": "Sudan",
           "type": "scatter",
           "x": [
            "2004-01-01T00:00:00"
           ],
           "y": [
            null
           ]
          },
          {
           "line": {
            "color": "#011F26"
           },
           "mode": "lines+markers",
           "name": "Sudan",
           "type": "scatter",
           "x": [
            "2003-01-01T00:00:00"
           ],
           "y": [
            null
           ]
          },
          {
           "line": {
            "color": "#011F26"
           },
           "mode": "lines+markers",
           "name": "Sudan",
           "type": "scatter",
           "x": [
            "2002-01-01T00:00:00"
           ],
           "y": [
            null
           ]
          },
          {
           "line": {
            "color": "#011F26"
           },
           "mode": "lines+markers",
           "name": "Sudan",
           "type": "scatter",
           "x": [
            "2001-01-01T00:00:00"
           ],
           "y": [
            null
           ]
          },
          {
           "line": {
            "color": "#011F26"
           },
           "mode": "lines+markers",
           "name": "Sudan",
           "type": "scatter",
           "x": [
            "2000-01-01T00:00:00"
           ],
           "y": [
            null
           ]
          },
          {
           "line": {
            "color": "#011F26"
           },
           "mode": "lines+markers",
           "name": "Sudan",
           "type": "scatter",
           "x": [
            "1999-01-01T00:00:00"
           ],
           "y": [
            null
           ]
          },
          {
           "line": {
            "color": "#011F26"
           },
           "mode": "lines+markers",
           "name": "Sudan",
           "type": "scatter",
           "x": [
            "1998-01-01T00:00:00"
           ],
           "y": [
            null
           ]
          },
          {
           "line": {
            "color": "#011F26"
           },
           "mode": "lines+markers",
           "name": "Sudan",
           "type": "scatter",
           "x": [
            "1997-01-01T00:00:00"
           ],
           "y": [
            null
           ]
          },
          {
           "line": {
            "color": "#011F26"
           },
           "mode": "lines+markers",
           "name": "Sudan",
           "type": "scatter",
           "x": [
            "1996-01-01T00:00:00"
           ],
           "y": [
            null
           ]
          },
          {
           "line": {
            "color": "#011F26"
           },
           "mode": "lines+markers",
           "name": "Sudan",
           "type": "scatter",
           "x": [
            "1995-01-01T00:00:00"
           ],
           "y": [
            null
           ]
          },
          {
           "line": {
            "color": "#011F26"
           },
           "mode": "lines+markers",
           "name": "Sudan",
           "type": "scatter",
           "x": [
            "1994-01-01T00:00:00"
           ],
           "y": [
            null
           ]
          },
          {
           "line": {
            "color": "#011F26"
           },
           "mode": "lines+markers",
           "name": "Sudan",
           "type": "scatter",
           "x": [
            "1993-01-01T00:00:00"
           ],
           "y": [
            null
           ]
          },
          {
           "line": {
            "color": "#011F26"
           },
           "mode": "lines+markers",
           "name": "Sudan",
           "type": "scatter",
           "x": [
            "1992-01-01T00:00:00"
           ],
           "y": [
            null
           ]
          },
          {
           "line": {
            "color": "#011F26"
           },
           "mode": "lines+markers",
           "name": "Sudan",
           "type": "scatter",
           "x": [
            "1991-01-01T00:00:00"
           ],
           "y": [
            null
           ]
          },
          {
           "line": {
            "color": "#011F26"
           },
           "mode": "lines+markers",
           "name": "Sudan",
           "type": "scatter",
           "x": [
            "1990-01-01T00:00:00"
           ],
           "y": [
            null
           ]
          },
          {
           "line": {
            "color": "#011F26"
           },
           "mode": "lines+markers",
           "name": "Sudan",
           "type": "scatter",
           "x": [
            "1989-01-01T00:00:00"
           ],
           "y": [
            null
           ]
          }
         ],
         "name": "Sudan"
        },
        {
         "data": [
          {
           "line": {
            "color": "#026873"
           },
           "mode": "lines+markers",
           "name": "Somalia",
           "type": "scatter",
           "x": [
            "2016-01-01T00:00:00"
           ],
           "y": [
            null
           ]
          },
          {
           "line": {
            "color": "#026873"
           },
           "mode": "lines+markers",
           "name": "Somalia",
           "type": "scatter",
           "x": [
            "2015-01-01T00:00:00"
           ],
           "y": [
            0.234455883618068
           ]
          },
          {
           "line": {
            "color": "#026873"
           },
           "mode": "lines+markers",
           "name": "Somalia",
           "type": "scatter",
           "x": [
            "2014-01-01T00:00:00"
           ],
           "y": [
            null
           ]
          },
          {
           "line": {
            "color": "#026873"
           },
           "mode": "lines+markers",
           "name": "Somalia",
           "type": "scatter",
           "x": [
            "2013-01-01T00:00:00"
           ],
           "y": [
            null
           ]
          },
          {
           "line": {
            "color": "#026873"
           },
           "mode": "lines+markers",
           "name": "Somalia",
           "type": "scatter",
           "x": [
            "2012-01-01T00:00:00"
           ],
           "y": [
            null
           ]
          },
          {
           "line": {
            "color": "#026873"
           },
           "mode": "lines+markers",
           "name": "Somalia",
           "type": "scatter",
           "x": [
            "2011-01-01T00:00:00"
           ],
           "y": [
            null
           ]
          },
          {
           "line": {
            "color": "#026873"
           },
           "mode": "lines+markers",
           "name": "Somalia",
           "type": "scatter",
           "x": [
            "2010-01-01T00:00:00"
           ],
           "y": [
            0.25042492397498
           ]
          },
          {
           "line": {
            "color": "#026873"
           },
           "mode": "lines+markers",
           "name": "Somalia",
           "type": "scatter",
           "x": [
            "2009-01-01T00:00:00"
           ],
           "y": [
            null
           ]
          },
          {
           "line": {
            "color": "#026873"
           },
           "mode": "lines+markers",
           "name": "Somalia",
           "type": "scatter",
           "x": [
            "2008-01-01T00:00:00"
           ],
           "y": [
            null
           ]
          },
          {
           "line": {
            "color": "#026873"
           },
           "mode": "lines+markers",
           "name": "Somalia",
           "type": "scatter",
           "x": [
            "2007-01-01T00:00:00"
           ],
           "y": [
            null
           ]
          },
          {
           "line": {
            "color": "#026873"
           },
           "mode": "lines+markers",
           "name": "Somalia",
           "type": "scatter",
           "x": [
            "2006-01-01T00:00:00"
           ],
           "y": [
            null
           ]
          },
          {
           "line": {
            "color": "#026873"
           },
           "mode": "lines+markers",
           "name": "Somalia",
           "type": "scatter",
           "x": [
            "2005-01-01T00:00:00"
           ],
           "y": [
            0.244126034701093
           ]
          },
          {
           "line": {
            "color": "#026873"
           },
           "mode": "lines+markers",
           "name": "Somalia",
           "type": "scatter",
           "x": [
            "2004-01-01T00:00:00"
           ],
           "y": [
            null
           ]
          },
          {
           "line": {
            "color": "#026873"
           },
           "mode": "lines+markers",
           "name": "Somalia",
           "type": "scatter",
           "x": [
            "2003-01-01T00:00:00"
           ],
           "y": [
            null
           ]
          },
          {
           "line": {
            "color": "#026873"
           },
           "mode": "lines+markers",
           "name": "Somalia",
           "type": "scatter",
           "x": [
            "2002-01-01T00:00:00"
           ],
           "y": [
            null
           ]
          },
          {
           "line": {
            "color": "#026873"
           },
           "mode": "lines+markers",
           "name": "Somalia",
           "type": "scatter",
           "x": [
            "2001-01-01T00:00:00"
           ],
           "y": [
            null
           ]
          },
          {
           "line": {
            "color": "#026873"
           },
           "mode": "lines+markers",
           "name": "Somalia",
           "type": "scatter",
           "x": [
            "2000-01-01T00:00:00"
           ],
           "y": [
            0.271981970954649
           ]
          },
          {
           "line": {
            "color": "#026873"
           },
           "mode": "lines+markers",
           "name": "Somalia",
           "type": "scatter",
           "x": [
            "1999-01-01T00:00:00"
           ],
           "y": [
            null
           ]
          },
          {
           "line": {
            "color": "#026873"
           },
           "mode": "lines+markers",
           "name": "Somalia",
           "type": "scatter",
           "x": [
            "1998-01-01T00:00:00"
           ],
           "y": [
            null
           ]
          },
          {
           "line": {
            "color": "#026873"
           },
           "mode": "lines+markers",
           "name": "Somalia",
           "type": "scatter",
           "x": [
            "1997-01-01T00:00:00"
           ],
           "y": [
            null
           ]
          },
          {
           "line": {
            "color": "#026873"
           },
           "mode": "lines+markers",
           "name": "Somalia",
           "type": "scatter",
           "x": [
            "1996-01-01T00:00:00"
           ],
           "y": [
            null
           ]
          },
          {
           "line": {
            "color": "#026873"
           },
           "mode": "lines+markers",
           "name": "Somalia",
           "type": "scatter",
           "x": [
            "1995-01-01T00:00:00"
           ],
           "y": [
            0.307684308053019
           ]
          },
          {
           "line": {
            "color": "#026873"
           },
           "mode": "lines+markers",
           "name": "Somalia",
           "type": "scatter",
           "x": [
            "1994-01-01T00:00:00"
           ],
           "y": [
            null
           ]
          },
          {
           "line": {
            "color": "#026873"
           },
           "mode": "lines+markers",
           "name": "Somalia",
           "type": "scatter",
           "x": [
            "1993-01-01T00:00:00"
           ],
           "y": [
            null
           ]
          },
          {
           "line": {
            "color": "#026873"
           },
           "mode": "lines+markers",
           "name": "Somalia",
           "type": "scatter",
           "x": [
            "1992-01-01T00:00:00"
           ],
           "y": [
            null
           ]
          },
          {
           "line": {
            "color": "#026873"
           },
           "mode": "lines+markers",
           "name": "Somalia",
           "type": "scatter",
           "x": [
            "1991-01-01T00:00:00"
           ],
           "y": [
            null
           ]
          },
          {
           "line": {
            "color": "#026873"
           },
           "mode": "lines+markers",
           "name": "Somalia",
           "type": "scatter",
           "x": [
            "1990-01-01T00:00:00"
           ],
           "y": [
            7.56600963519607
           ]
          },
          {
           "line": {
            "color": "#026873"
           },
           "mode": "lines+markers",
           "name": "Somalia",
           "type": "scatter",
           "x": [
            "1989-01-01T00:00:00"
           ],
           "y": [
            null
           ]
          }
         ],
         "name": "Somalia"
        },
        {
         "data": [
          {
           "line": {
            "color": "#03A688"
           },
           "mode": "lines+markers",
           "name": "South Sudan",
           "type": "scatter",
           "x": [
            "2016-01-01T00:00:00"
           ],
           "y": [
            null
           ]
          },
          {
           "line": {
            "color": "#03A688"
           },
           "mode": "lines+markers",
           "name": "South Sudan",
           "type": "scatter",
           "x": [
            "2015-01-01T00:00:00"
           ],
           "y": [
            6.67856203968099
           ]
          },
          {
           "line": {
            "color": "#03A688"
           },
           "mode": "lines+markers",
           "name": "South Sudan",
           "type": "scatter",
           "x": [
            "2014-01-01T00:00:00"
           ],
           "y": [
            null
           ]
          },
          {
           "line": {
            "color": "#03A688"
           },
           "mode": "lines+markers",
           "name": "South Sudan",
           "type": "scatter",
           "x": [
            "2013-01-01T00:00:00"
           ],
           "y": [
            null
           ]
          },
          {
           "line": {
            "color": "#03A688"
           },
           "mode": "lines+markers",
           "name": "South Sudan",
           "type": "scatter",
           "x": [
            "2012-01-01T00:00:00"
           ],
           "y": [
            null
           ]
          },
          {
           "line": {
            "color": "#03A688"
           },
           "mode": "lines+markers",
           "name": "South Sudan",
           "type": "scatter",
           "x": [
            "2011-01-01T00:00:00"
           ],
           "y": [
            null
           ]
          },
          {
           "line": {
            "color": "#03A688"
           },
           "mode": "lines+markers",
           "name": "South Sudan",
           "type": "scatter",
           "x": [
            "2010-01-01T00:00:00"
           ],
           "y": [
            2.56456661006963
           ]
          },
          {
           "line": {
            "color": "#03A688"
           },
           "mode": "lines+markers",
           "name": "South Sudan",
           "type": "scatter",
           "x": [
            "2009-01-01T00:00:00"
           ],
           "y": [
            null
           ]
          },
          {
           "line": {
            "color": "#03A688"
           },
           "mode": "lines+markers",
           "name": "South Sudan",
           "type": "scatter",
           "x": [
            "2008-01-01T00:00:00"
           ],
           "y": [
            null
           ]
          },
          {
           "line": {
            "color": "#03A688"
           },
           "mode": "lines+markers",
           "name": "South Sudan",
           "type": "scatter",
           "x": [
            "2007-01-01T00:00:00"
           ],
           "y": [
            null
           ]
          },
          {
           "line": {
            "color": "#03A688"
           },
           "mode": "lines+markers",
           "name": "South Sudan",
           "type": "scatter",
           "x": [
            "2006-01-01T00:00:00"
           ],
           "y": [
            null
           ]
          },
          {
           "line": {
            "color": "#03A688"
           },
           "mode": "lines+markers",
           "name": "South Sudan",
           "type": "scatter",
           "x": [
            "2005-01-01T00:00:00"
           ],
           "y": [
            null
           ]
          },
          {
           "line": {
            "color": "#03A688"
           },
           "mode": "lines+markers",
           "name": "South Sudan",
           "type": "scatter",
           "x": [
            "2004-01-01T00:00:00"
           ],
           "y": [
            null
           ]
          },
          {
           "line": {
            "color": "#03A688"
           },
           "mode": "lines+markers",
           "name": "South Sudan",
           "type": "scatter",
           "x": [
            "2003-01-01T00:00:00"
           ],
           "y": [
            null
           ]
          },
          {
           "line": {
            "color": "#03A688"
           },
           "mode": "lines+markers",
           "name": "South Sudan",
           "type": "scatter",
           "x": [
            "2002-01-01T00:00:00"
           ],
           "y": [
            null
           ]
          },
          {
           "line": {
            "color": "#03A688"
           },
           "mode": "lines+markers",
           "name": "South Sudan",
           "type": "scatter",
           "x": [
            "2001-01-01T00:00:00"
           ],
           "y": [
            null
           ]
          },
          {
           "line": {
            "color": "#03A688"
           },
           "mode": "lines+markers",
           "name": "South Sudan",
           "type": "scatter",
           "x": [
            "2000-01-01T00:00:00"
           ],
           "y": [
            null
           ]
          },
          {
           "line": {
            "color": "#03A688"
           },
           "mode": "lines+markers",
           "name": "South Sudan",
           "type": "scatter",
           "x": [
            "1999-01-01T00:00:00"
           ],
           "y": [
            null
           ]
          },
          {
           "line": {
            "color": "#03A688"
           },
           "mode": "lines+markers",
           "name": "South Sudan",
           "type": "scatter",
           "x": [
            "1998-01-01T00:00:00"
           ],
           "y": [
            null
           ]
          },
          {
           "line": {
            "color": "#03A688"
           },
           "mode": "lines+markers",
           "name": "South Sudan",
           "type": "scatter",
           "x": [
            "1997-01-01T00:00:00"
           ],
           "y": [
            null
           ]
          },
          {
           "line": {
            "color": "#03A688"
           },
           "mode": "lines+markers",
           "name": "South Sudan",
           "type": "scatter",
           "x": [
            "1996-01-01T00:00:00"
           ],
           "y": [
            null
           ]
          },
          {
           "line": {
            "color": "#03A688"
           },
           "mode": "lines+markers",
           "name": "South Sudan",
           "type": "scatter",
           "x": [
            "1995-01-01T00:00:00"
           ],
           "y": [
            null
           ]
          },
          {
           "line": {
            "color": "#03A688"
           },
           "mode": "lines+markers",
           "name": "South Sudan",
           "type": "scatter",
           "x": [
            "1994-01-01T00:00:00"
           ],
           "y": [
            null
           ]
          },
          {
           "line": {
            "color": "#03A688"
           },
           "mode": "lines+markers",
           "name": "South Sudan",
           "type": "scatter",
           "x": [
            "1993-01-01T00:00:00"
           ],
           "y": [
            null
           ]
          },
          {
           "line": {
            "color": "#03A688"
           },
           "mode": "lines+markers",
           "name": "South Sudan",
           "type": "scatter",
           "x": [
            "1992-01-01T00:00:00"
           ],
           "y": [
            null
           ]
          },
          {
           "line": {
            "color": "#03A688"
           },
           "mode": "lines+markers",
           "name": "South Sudan",
           "type": "scatter",
           "x": [
            "1991-01-01T00:00:00"
           ],
           "y": [
            null
           ]
          },
          {
           "line": {
            "color": "#03A688"
           },
           "mode": "lines+markers",
           "name": "South Sudan",
           "type": "scatter",
           "x": [
            "1990-01-01T00:00:00"
           ],
           "y": [
            null
           ]
          },
          {
           "line": {
            "color": "#03A688"
           },
           "mode": "lines+markers",
           "name": "South Sudan",
           "type": "scatter",
           "x": [
            "1989-01-01T00:00:00"
           ],
           "y": [
            null
           ]
          }
         ],
         "name": "South Sudan"
        },
        {
         "data": [
          {
           "line": {
            "color": "#D4C2AD"
           },
           "mode": "lines+markers",
           "name": "Tanzania",
           "type": "scatter",
           "x": [
            "2016-01-01T00:00:00"
           ],
           "y": [
            null
           ]
          },
          {
           "line": {
            "color": "#D4C2AD"
           },
           "mode": "lines+markers",
           "name": "Tanzania",
           "type": "scatter",
           "x": [
            "2015-01-01T00:00:00"
           ],
           "y": [
            0.488535530485828
           ]
          },
          {
           "line": {
            "color": "#D4C2AD"
           },
           "mode": "lines+markers",
           "name": "Tanzania",
           "type": "scatter",
           "x": [
            "2014-01-01T00:00:00"
           ],
           "y": [
            null
           ]
          },
          {
           "line": {
            "color": "#D4C2AD"
           },
           "mode": "lines+markers",
           "name": "Tanzania",
           "type": "scatter",
           "x": [
            "2013-01-01T00:00:00"
           ],
           "y": [
            null
           ]
          },
          {
           "line": {
            "color": "#D4C2AD"
           },
           "mode": "lines+markers",
           "name": "Tanzania",
           "type": "scatter",
           "x": [
            "2012-01-01T00:00:00"
           ],
           "y": [
            null
           ]
          },
          {
           "line": {
            "color": "#D4C2AD"
           },
           "mode": "lines+markers",
           "name": "Tanzania",
           "type": "scatter",
           "x": [
            "2011-01-01T00:00:00"
           ],
           "y": [
            null
           ]
          },
          {
           "line": {
            "color": "#D4C2AD"
           },
           "mode": "lines+markers",
           "name": "Tanzania",
           "type": "scatter",
           "x": [
            "2010-01-01T00:00:00"
           ],
           "y": [
            0.67603498689169
           ]
          },
          {
           "line": {
            "color": "#D4C2AD"
           },
           "mode": "lines+markers",
           "name": "Tanzania",
           "type": "scatter",
           "x": [
            "2009-01-01T00:00:00"
           ],
           "y": [
            null
           ]
          },
          {
           "line": {
            "color": "#D4C2AD"
           },
           "mode": "lines+markers",
           "name": "Tanzania",
           "type": "scatter",
           "x": [
            "2008-01-01T00:00:00"
           ],
           "y": [
            null
           ]
          },
          {
           "line": {
            "color": "#D4C2AD"
           },
           "mode": "lines+markers",
           "name": "Tanzania",
           "type": "scatter",
           "x": [
            "2007-01-01T00:00:00"
           ],
           "y": [
            null
           ]
          },
          {
           "line": {
            "color": "#D4C2AD"
           },
           "mode": "lines+markers",
           "name": "Tanzania",
           "type": "scatter",
           "x": [
            "2006-01-01T00:00:00"
           ],
           "y": [
            null
           ]
          },
          {
           "line": {
            "color": "#D4C2AD"
           },
           "mode": "lines+markers",
           "name": "Tanzania",
           "type": "scatter",
           "x": [
            "2005-01-01T00:00:00"
           ],
           "y": [
            1.97320916612058
           ]
          },
          {
           "line": {
            "color": "#D4C2AD"
           },
           "mode": "lines+markers",
           "name": "Tanzania",
           "type": "scatter",
           "x": [
            "2004-01-01T00:00:00"
           ],
           "y": [
            null
           ]
          },
          {
           "line": {
            "color": "#D4C2AD"
           },
           "mode": "lines+markers",
           "name": "Tanzania",
           "type": "scatter",
           "x": [
            "2003-01-01T00:00:00"
           ],
           "y": [
            null
           ]
          },
          {
           "line": {
            "color": "#D4C2AD"
           },
           "mode": "lines+markers",
           "name": "Tanzania",
           "type": "scatter",
           "x": [
            "2002-01-01T00:00:00"
           ],
           "y": [
            null
           ]
          },
          {
           "line": {
            "color": "#D4C2AD"
           },
           "mode": "lines+markers",
           "name": "Tanzania",
           "type": "scatter",
           "x": [
            "2001-01-01T00:00:00"
           ],
           "y": [
            null
           ]
          },
          {
           "line": {
            "color": "#D4C2AD"
           },
           "mode": "lines+markers",
           "name": "Tanzania",
           "type": "scatter",
           "x": [
            "2000-01-01T00:00:00"
           ],
           "y": [
            2.73061660251845
           ]
          },
          {
           "line": {
            "color": "#D4C2AD"
           },
           "mode": "lines+markers",
           "name": "Tanzania",
           "type": "scatter",
           "x": [
            "1999-01-01T00:00:00"
           ],
           "y": [
            null
           ]
          },
          {
           "line": {
            "color": "#D4C2AD"
           },
           "mode": "lines+markers",
           "name": "Tanzania",
           "type": "scatter",
           "x": [
            "1998-01-01T00:00:00"
           ],
           "y": [
            null
           ]
          },
          {
           "line": {
            "color": "#D4C2AD"
           },
           "mode": "lines+markers",
           "name": "Tanzania",
           "type": "scatter",
           "x": [
            "1997-01-01T00:00:00"
           ],
           "y": [
            null
           ]
          },
          {
           "line": {
            "color": "#D4C2AD"
           },
           "mode": "lines+markers",
           "name": "Tanzania",
           "type": "scatter",
           "x": [
            "1996-01-01T00:00:00"
           ],
           "y": [
            null
           ]
          },
          {
           "line": {
            "color": "#D4C2AD"
           },
           "mode": "lines+markers",
           "name": "Tanzania",
           "type": "scatter",
           "x": [
            "1995-01-01T00:00:00"
           ],
           "y": [
            3.69872865994284
           ]
          },
          {
           "line": {
            "color": "#D4C2AD"
           },
           "mode": "lines+markers",
           "name": "Tanzania",
           "type": "scatter",
           "x": [
            "1994-01-01T00:00:00"
           ],
           "y": [
            null
           ]
          },
          {
           "line": {
            "color": "#D4C2AD"
           },
           "mode": "lines+markers",
           "name": "Tanzania",
           "type": "scatter",
           "x": [
            "1993-01-01T00:00:00"
           ],
           "y": [
            null
           ]
          },
          {
           "line": {
            "color": "#D4C2AD"
           },
           "mode": "lines+markers",
           "name": "Tanzania",
           "type": "scatter",
           "x": [
            "1992-01-01T00:00:00"
           ],
           "y": [
            null
           ]
          },
          {
           "line": {
            "color": "#D4C2AD"
           },
           "mode": "lines+markers",
           "name": "Tanzania",
           "type": "scatter",
           "x": [
            "1991-01-01T00:00:00"
           ],
           "y": [
            null
           ]
          },
          {
           "line": {
            "color": "#D4C2AD"
           },
           "mode": "lines+markers",
           "name": "Tanzania",
           "type": "scatter",
           "x": [
            "1990-01-01T00:00:00"
           ],
           "y": [
            2.25477378454917
           ]
          },
          {
           "line": {
            "color": "#D4C2AD"
           },
           "mode": "lines+markers",
           "name": "Tanzania",
           "type": "scatter",
           "x": [
            "1989-01-01T00:00:00"
           ],
           "y": [
            null
           ]
          }
         ],
         "name": "Tanzania"
        },
        {
         "data": [
          {
           "line": {
            "color": "#66796B"
           },
           "mode": "lines+markers",
           "name": "Uganda",
           "type": "scatter",
           "x": [
            "2016-01-01T00:00:00"
           ],
           "y": [
            null
           ]
          },
          {
           "line": {
            "color": "#66796B"
           },
           "mode": "lines+markers",
           "name": "Uganda",
           "type": "scatter",
           "x": [
            "2015-01-01T00:00:00"
           ],
           "y": [
            1.92012616805897
           ]
          },
          {
           "line": {
            "color": "#66796B"
           },
           "mode": "lines+markers",
           "name": "Uganda",
           "type": "scatter",
           "x": [
            "2014-01-01T00:00:00"
           ],
           "y": [
            null
           ]
          },
          {
           "line": {
            "color": "#66796B"
           },
           "mode": "lines+markers",
           "name": "Uganda",
           "type": "scatter",
           "x": [
            "2013-01-01T00:00:00"
           ],
           "y": [
            null
           ]
          },
          {
           "line": {
            "color": "#66796B"
           },
           "mode": "lines+markers",
           "name": "Uganda",
           "type": "scatter",
           "x": [
            "2012-01-01T00:00:00"
           ],
           "y": [
            null
           ]
          },
          {
           "line": {
            "color": "#66796B"
           },
           "mode": "lines+markers",
           "name": "Uganda",
           "type": "scatter",
           "x": [
            "2011-01-01T00:00:00"
           ],
           "y": [
            null
           ]
          },
          {
           "line": {
            "color": "#66796B"
           },
           "mode": "lines+markers",
           "name": "Uganda",
           "type": "scatter",
           "x": [
            "2010-01-01T00:00:00"
           ],
           "y": [
            1.59628750032014
           ]
          },
          {
           "line": {
            "color": "#66796B"
           },
           "mode": "lines+markers",
           "name": "Uganda",
           "type": "scatter",
           "x": [
            "2009-01-01T00:00:00"
           ],
           "y": [
            null
           ]
          },
          {
           "line": {
            "color": "#66796B"
           },
           "mode": "lines+markers",
           "name": "Uganda",
           "type": "scatter",
           "x": [
            "2008-01-01T00:00:00"
           ],
           "y": [
            null
           ]
          },
          {
           "line": {
            "color": "#66796B"
           },
           "mode": "lines+markers",
           "name": "Uganda",
           "type": "scatter",
           "x": [
            "2007-01-01T00:00:00"
           ],
           "y": [
            null
           ]
          },
          {
           "line": {
            "color": "#66796B"
           },
           "mode": "lines+markers",
           "name": "Uganda",
           "type": "scatter",
           "x": [
            "2006-01-01T00:00:00"
           ],
           "y": [
            null
           ]
          },
          {
           "line": {
            "color": "#66796B"
           },
           "mode": "lines+markers",
           "name": "Uganda",
           "type": "scatter",
           "x": [
            "2005-01-01T00:00:00"
           ],
           "y": [
            2.3285014738211
           ]
          },
          {
           "line": {
            "color": "#66796B"
           },
           "mode": "lines+markers",
           "name": "Uganda",
           "type": "scatter",
           "x": [
            "2004-01-01T00:00:00"
           ],
           "y": [
            null
           ]
          },
          {
           "line": {
            "color": "#66796B"
           },
           "mode": "lines+markers",
           "name": "Uganda",
           "type": "scatter",
           "x": [
            "2003-01-01T00:00:00"
           ],
           "y": [
            null
           ]
          },
          {
           "line": {
            "color": "#66796B"
           },
           "mode": "lines+markers",
           "name": "Uganda",
           "type": "scatter",
           "x": [
            "2002-01-01T00:00:00"
           ],
           "y": [
            null
           ]
          },
          {
           "line": {
            "color": "#66796B"
           },
           "mode": "lines+markers",
           "name": "Uganda",
           "type": "scatter",
           "x": [
            "2001-01-01T00:00:00"
           ],
           "y": [
            null
           ]
          },
          {
           "line": {
            "color": "#66796B"
           },
           "mode": "lines+markers",
           "name": "Uganda",
           "type": "scatter",
           "x": [
            "2000-01-01T00:00:00"
           ],
           "y": [
            2.67157473075183
           ]
          },
          {
           "line": {
            "color": "#66796B"
           },
           "mode": "lines+markers",
           "name": "Uganda",
           "type": "scatter",
           "x": [
            "1999-01-01T00:00:00"
           ],
           "y": [
            null
           ]
          },
          {
           "line": {
            "color": "#66796B"
           },
           "mode": "lines+markers",
           "name": "Uganda",
           "type": "scatter",
           "x": [
            "1998-01-01T00:00:00"
           ],
           "y": [
            null
           ]
          },
          {
           "line": {
            "color": "#66796B"
           },
           "mode": "lines+markers",
           "name": "Uganda",
           "type": "scatter",
           "x": [
            "1997-01-01T00:00:00"
           ],
           "y": [
            null
           ]
          },
          {
           "line": {
            "color": "#66796B"
           },
           "mode": "lines+markers",
           "name": "Uganda",
           "type": "scatter",
           "x": [
            "1996-01-01T00:00:00"
           ],
           "y": [
            null
           ]
          },
          {
           "line": {
            "color": "#66796B"
           },
           "mode": "lines+markers",
           "name": "Uganda",
           "type": "scatter",
           "x": [
            "1995-01-01T00:00:00"
           ],
           "y": [
            3.10890621632808
           ]
          },
          {
           "line": {
            "color": "#66796B"
           },
           "mode": "lines+markers",
           "name": "Uganda",
           "type": "scatter",
           "x": [
            "1994-01-01T00:00:00"
           ],
           "y": [
            null
           ]
          },
          {
           "line": {
            "color": "#66796B"
           },
           "mode": "lines+markers",
           "name": "Uganda",
           "type": "scatter",
           "x": [
            "1993-01-01T00:00:00"
           ],
           "y": [
            null
           ]
          },
          {
           "line": {
            "color": "#66796B"
           },
           "mode": "lines+markers",
           "name": "Uganda",
           "type": "scatter",
           "x": [
            "1992-01-01T00:00:00"
           ],
           "y": [
            null
           ]
          },
          {
           "line": {
            "color": "#66796B"
           },
           "mode": "lines+markers",
           "name": "Uganda",
           "type": "scatter",
           "x": [
            "1991-01-01T00:00:00"
           ],
           "y": [
            null
           ]
          },
          {
           "line": {
            "color": "#66796B"
           },
           "mode": "lines+markers",
           "name": "Uganda",
           "type": "scatter",
           "x": [
            "1990-01-01T00:00:00"
           ],
           "y": [
            3.21154595832613
           ]
          },
          {
           "line": {
            "color": "#66796B"
           },
           "mode": "lines+markers",
           "name": "Uganda",
           "type": "scatter",
           "x": [
            "1989-01-01T00:00:00"
           ],
           "y": [
            null
           ]
          }
         ],
         "name": "Uganda"
        }
       ],
       "layout": {
        "annotations": [
         {
          "align": "left",
          "font": {
           "color": "#1100FF",
           "size": 10
          },
          "showarrow": false,
          "text": "Copyright © 2023 Najib Abdullahi",
          "x": 0,
          "xanchor": "left",
          "xref": "paper",
          "y": 0.1,
          "yanchor": "top",
          "yref": "paper"
         },
         {
          "align": "right",
          "font": {
           "color": "#1100FF",
           "size": 10
          },
          "showarrow": false,
          "text": "Source: World Bank",
          "x": 1.06,
          "xanchor": "right",
          "xref": "paper",
          "y": 0.09,
          "yanchor": "top",
          "yref": "paper"
         }
        ],
        "autosize": true,
        "font": {
         "color": "black",
         "family": "Poppins",
         "size": 12
        },
        "height": 700,
        "legend": {
         "bgcolor": "#ffffff",
         "bordercolor": "#000000",
         "borderwidth": 1,
         "font": {
          "size": 12
         },
         "itemclick": "toggle",
         "itemdoubleclick": "toggleothers",
         "tracegroupgap": 10,
         "traceorder": "normal",
         "x": 1,
         "xanchor": "left",
         "y": 1.05,
         "yanchor": "top"
        },
        "margin": {
         "b": 50,
         "l": 50,
         "pad": 4,
         "r": 50,
         "t": 80
        },
        "paper_bgcolor": "#f8f8f8",
        "plot_bgcolor": "#f8f8f8",
        "template": {
         "data": {
          "bar": [
           {
            "error_x": {
             "color": "#2a3f5f"
            },
            "error_y": {
             "color": "#2a3f5f"
            },
            "marker": {
             "line": {
              "color": "#E5ECF6",
              "width": 0.5
             },
             "pattern": {
              "fillmode": "overlay",
              "size": 10,
              "solidity": 0.2
             }
            },
            "type": "bar"
           }
          ],
          "barpolar": [
           {
            "marker": {
             "line": {
              "color": "#E5ECF6",
              "width": 0.5
             },
             "pattern": {
              "fillmode": "overlay",
              "size": 10,
              "solidity": 0.2
             }
            },
            "type": "barpolar"
           }
          ],
          "carpet": [
           {
            "aaxis": {
             "endlinecolor": "#2a3f5f",
             "gridcolor": "white",
             "linecolor": "white",
             "minorgridcolor": "white",
             "startlinecolor": "#2a3f5f"
            },
            "baxis": {
             "endlinecolor": "#2a3f5f",
             "gridcolor": "white",
             "linecolor": "white",
             "minorgridcolor": "white",
             "startlinecolor": "#2a3f5f"
            },
            "type": "carpet"
           }
          ],
          "choropleth": [
           {
            "colorbar": {
             "outlinewidth": 0,
             "ticks": ""
            },
            "type": "choropleth"
           }
          ],
          "contour": [
           {
            "colorbar": {
             "outlinewidth": 0,
             "ticks": ""
            },
            "colorscale": [
             [
              0,
              "#0d0887"
             ],
             [
              0.1111111111111111,
              "#46039f"
             ],
             [
              0.2222222222222222,
              "#7201a8"
             ],
             [
              0.3333333333333333,
              "#9c179e"
             ],
             [
              0.4444444444444444,
              "#bd3786"
             ],
             [
              0.5555555555555556,
              "#d8576b"
             ],
             [
              0.6666666666666666,
              "#ed7953"
             ],
             [
              0.7777777777777778,
              "#fb9f3a"
             ],
             [
              0.8888888888888888,
              "#fdca26"
             ],
             [
              1,
              "#f0f921"
             ]
            ],
            "type": "contour"
           }
          ],
          "contourcarpet": [
           {
            "colorbar": {
             "outlinewidth": 0,
             "ticks": ""
            },
            "type": "contourcarpet"
           }
          ],
          "heatmap": [
           {
            "colorbar": {
             "outlinewidth": 0,
             "ticks": ""
            },
            "colorscale": [
             [
              0,
              "#0d0887"
             ],
             [
              0.1111111111111111,
              "#46039f"
             ],
             [
              0.2222222222222222,
              "#7201a8"
             ],
             [
              0.3333333333333333,
              "#9c179e"
             ],
             [
              0.4444444444444444,
              "#bd3786"
             ],
             [
              0.5555555555555556,
              "#d8576b"
             ],
             [
              0.6666666666666666,
              "#ed7953"
             ],
             [
              0.7777777777777778,
              "#fb9f3a"
             ],
             [
              0.8888888888888888,
              "#fdca26"
             ],
             [
              1,
              "#f0f921"
             ]
            ],
            "type": "heatmap"
           }
          ],
          "heatmapgl": [
           {
            "colorbar": {
             "outlinewidth": 0,
             "ticks": ""
            },
            "colorscale": [
             [
              0,
              "#0d0887"
             ],
             [
              0.1111111111111111,
              "#46039f"
             ],
             [
              0.2222222222222222,
              "#7201a8"
             ],
             [
              0.3333333333333333,
              "#9c179e"
             ],
             [
              0.4444444444444444,
              "#bd3786"
             ],
             [
              0.5555555555555556,
              "#d8576b"
             ],
             [
              0.6666666666666666,
              "#ed7953"
             ],
             [
              0.7777777777777778,
              "#fb9f3a"
             ],
             [
              0.8888888888888888,
              "#fdca26"
             ],
             [
              1,
              "#f0f921"
             ]
            ],
            "type": "heatmapgl"
           }
          ],
          "histogram": [
           {
            "marker": {
             "pattern": {
              "fillmode": "overlay",
              "size": 10,
              "solidity": 0.2
             }
            },
            "type": "histogram"
           }
          ],
          "histogram2d": [
           {
            "colorbar": {
             "outlinewidth": 0,
             "ticks": ""
            },
            "colorscale": [
             [
              0,
              "#0d0887"
             ],
             [
              0.1111111111111111,
              "#46039f"
             ],
             [
              0.2222222222222222,
              "#7201a8"
             ],
             [
              0.3333333333333333,
              "#9c179e"
             ],
             [
              0.4444444444444444,
              "#bd3786"
             ],
             [
              0.5555555555555556,
              "#d8576b"
             ],
             [
              0.6666666666666666,
              "#ed7953"
             ],
             [
              0.7777777777777778,
              "#fb9f3a"
             ],
             [
              0.8888888888888888,
              "#fdca26"
             ],
             [
              1,
              "#f0f921"
             ]
            ],
            "type": "histogram2d"
           }
          ],
          "histogram2dcontour": [
           {
            "colorbar": {
             "outlinewidth": 0,
             "ticks": ""
            },
            "colorscale": [
             [
              0,
              "#0d0887"
             ],
             [
              0.1111111111111111,
              "#46039f"
             ],
             [
              0.2222222222222222,
              "#7201a8"
             ],
             [
              0.3333333333333333,
              "#9c179e"
             ],
             [
              0.4444444444444444,
              "#bd3786"
             ],
             [
              0.5555555555555556,
              "#d8576b"
             ],
             [
              0.6666666666666666,
              "#ed7953"
             ],
             [
              0.7777777777777778,
              "#fb9f3a"
             ],
             [
              0.8888888888888888,
              "#fdca26"
             ],
             [
              1,
              "#f0f921"
             ]
            ],
            "type": "histogram2dcontour"
           }
          ],
          "mesh3d": [
           {
            "colorbar": {
             "outlinewidth": 0,
             "ticks": ""
            },
            "type": "mesh3d"
           }
          ],
          "parcoords": [
           {
            "line": {
             "colorbar": {
              "outlinewidth": 0,
              "ticks": ""
             }
            },
            "type": "parcoords"
           }
          ],
          "pie": [
           {
            "automargin": true,
            "type": "pie"
           }
          ],
          "scatter": [
           {
            "fillpattern": {
             "fillmode": "overlay",
             "size": 10,
             "solidity": 0.2
            },
            "type": "scatter"
           }
          ],
          "scatter3d": [
           {
            "line": {
             "colorbar": {
              "outlinewidth": 0,
              "ticks": ""
             }
            },
            "marker": {
             "colorbar": {
              "outlinewidth": 0,
              "ticks": ""
             }
            },
            "type": "scatter3d"
           }
          ],
          "scattercarpet": [
           {
            "marker": {
             "colorbar": {
              "outlinewidth": 0,
              "ticks": ""
             }
            },
            "type": "scattercarpet"
           }
          ],
          "scattergeo": [
           {
            "marker": {
             "colorbar": {
              "outlinewidth": 0,
              "ticks": ""
             }
            },
            "type": "scattergeo"
           }
          ],
          "scattergl": [
           {
            "marker": {
             "colorbar": {
              "outlinewidth": 0,
              "ticks": ""
             }
            },
            "type": "scattergl"
           }
          ],
          "scattermapbox": [
           {
            "marker": {
             "colorbar": {
              "outlinewidth": 0,
              "ticks": ""
             }
            },
            "type": "scattermapbox"
           }
          ],
          "scatterpolar": [
           {
            "marker": {
             "colorbar": {
              "outlinewidth": 0,
              "ticks": ""
             }
            },
            "type": "scatterpolar"
           }
          ],
          "scatterpolargl": [
           {
            "marker": {
             "colorbar": {
              "outlinewidth": 0,
              "ticks": ""
             }
            },
            "type": "scatterpolargl"
           }
          ],
          "scatterternary": [
           {
            "marker": {
             "colorbar": {
              "outlinewidth": 0,
              "ticks": ""
             }
            },
            "type": "scatterternary"
           }
          ],
          "surface": [
           {
            "colorbar": {
             "outlinewidth": 0,
             "ticks": ""
            },
            "colorscale": [
             [
              0,
              "#0d0887"
             ],
             [
              0.1111111111111111,
              "#46039f"
             ],
             [
              0.2222222222222222,
              "#7201a8"
             ],
             [
              0.3333333333333333,
              "#9c179e"
             ],
             [
              0.4444444444444444,
              "#bd3786"
             ],
             [
              0.5555555555555556,
              "#d8576b"
             ],
             [
              0.6666666666666666,
              "#ed7953"
             ],
             [
              0.7777777777777778,
              "#fb9f3a"
             ],
             [
              0.8888888888888888,
              "#fdca26"
             ],
             [
              1,
              "#f0f921"
             ]
            ],
            "type": "surface"
           }
          ],
          "table": [
           {
            "cells": {
             "fill": {
              "color": "#EBF0F8"
             },
             "line": {
              "color": "white"
             }
            },
            "header": {
             "fill": {
              "color": "#C8D4E3"
             },
             "line": {
              "color": "white"
             }
            },
            "type": "table"
           }
          ]
         },
         "layout": {
          "annotationdefaults": {
           "arrowcolor": "#2a3f5f",
           "arrowhead": 0,
           "arrowwidth": 1
          },
          "autotypenumbers": "strict",
          "coloraxis": {
           "colorbar": {
            "outlinewidth": 0,
            "ticks": ""
           }
          },
          "colorscale": {
           "diverging": [
            [
             0,
             "#8e0152"
            ],
            [
             0.1,
             "#c51b7d"
            ],
            [
             0.2,
             "#de77ae"
            ],
            [
             0.3,
             "#f1b6da"
            ],
            [
             0.4,
             "#fde0ef"
            ],
            [
             0.5,
             "#f7f7f7"
            ],
            [
             0.6,
             "#e6f5d0"
            ],
            [
             0.7,
             "#b8e186"
            ],
            [
             0.8,
             "#7fbc41"
            ],
            [
             0.9,
             "#4d9221"
            ],
            [
             1,
             "#276419"
            ]
           ],
           "sequential": [
            [
             0,
             "#0d0887"
            ],
            [
             0.1111111111111111,
             "#46039f"
            ],
            [
             0.2222222222222222,
             "#7201a8"
            ],
            [
             0.3333333333333333,
             "#9c179e"
            ],
            [
             0.4444444444444444,
             "#bd3786"
            ],
            [
             0.5555555555555556,
             "#d8576b"
            ],
            [
             0.6666666666666666,
             "#ed7953"
            ],
            [
             0.7777777777777778,
             "#fb9f3a"
            ],
            [
             0.8888888888888888,
             "#fdca26"
            ],
            [
             1,
             "#f0f921"
            ]
           ],
           "sequentialminus": [
            [
             0,
             "#0d0887"
            ],
            [
             0.1111111111111111,
             "#46039f"
            ],
            [
             0.2222222222222222,
             "#7201a8"
            ],
            [
             0.3333333333333333,
             "#9c179e"
            ],
            [
             0.4444444444444444,
             "#bd3786"
            ],
            [
             0.5555555555555556,
             "#d8576b"
            ],
            [
             0.6666666666666666,
             "#ed7953"
            ],
            [
             0.7777777777777778,
             "#fb9f3a"
            ],
            [
             0.8888888888888888,
             "#fdca26"
            ],
            [
             1,
             "#f0f921"
            ]
           ]
          },
          "colorway": [
           "#636efa",
           "#EF553B",
           "#00cc96",
           "#ab63fa",
           "#FFA15A",
           "#19d3f3",
           "#FF6692",
           "#B6E880",
           "#FF97FF",
           "#FECB52"
          ],
          "font": {
           "color": "#2a3f5f"
          },
          "geo": {
           "bgcolor": "white",
           "lakecolor": "white",
           "landcolor": "#E5ECF6",
           "showlakes": true,
           "showland": true,
           "subunitcolor": "white"
          },
          "hoverlabel": {
           "align": "left"
          },
          "hovermode": "closest",
          "mapbox": {
           "style": "light"
          },
          "paper_bgcolor": "white",
          "plot_bgcolor": "#E5ECF6",
          "polar": {
           "angularaxis": {
            "gridcolor": "white",
            "linecolor": "white",
            "ticks": ""
           },
           "bgcolor": "#E5ECF6",
           "radialaxis": {
            "gridcolor": "white",
            "linecolor": "white",
            "ticks": ""
           }
          },
          "scene": {
           "xaxis": {
            "backgroundcolor": "#E5ECF6",
            "gridcolor": "white",
            "gridwidth": 2,
            "linecolor": "white",
            "showbackground": true,
            "ticks": "",
            "zerolinecolor": "white"
           },
           "yaxis": {
            "backgroundcolor": "#E5ECF6",
            "gridcolor": "white",
            "gridwidth": 2,
            "linecolor": "white",
            "showbackground": true,
            "ticks": "",
            "zerolinecolor": "white"
           },
           "zaxis": {
            "backgroundcolor": "#E5ECF6",
            "gridcolor": "white",
            "gridwidth": 2,
            "linecolor": "white",
            "showbackground": true,
            "ticks": "",
            "zerolinecolor": "white"
           }
          },
          "shapedefaults": {
           "line": {
            "color": "#2a3f5f"
           }
          },
          "ternary": {
           "aaxis": {
            "gridcolor": "white",
            "linecolor": "white",
            "ticks": ""
           },
           "baxis": {
            "gridcolor": "white",
            "linecolor": "white",
            "ticks": ""
           },
           "bgcolor": "#E5ECF6",
           "caxis": {
            "gridcolor": "white",
            "linecolor": "white",
            "ticks": ""
           }
          },
          "title": {
           "x": 0.05
          },
          "xaxis": {
           "automargin": true,
           "gridcolor": "white",
           "linecolor": "white",
           "ticks": "",
           "title": {
            "standoff": 15
           },
           "zerolinecolor": "white",
           "zerolinewidth": 2
          },
          "yaxis": {
           "automargin": true,
           "gridcolor": "white",
           "linecolor": "white",
           "ticks": "",
           "title": {
            "standoff": 15
           },
           "zerolinecolor": "white",
           "zerolinewidth": 2
          }
         }
        },
        "title": {
         "font": {
          "color": "#000000",
          "size": 24
         },
         "text": "International migrant stock (% of population)"
        },
        "width": 900,
        "xaxis": {
         "showgrid": false,
         "title": {
          "text": "Year"
         }
        },
        "yaxis": {
         "gridcolor": "#c9c1b8",
         "showgrid": true,
         "title": {
          "text": "People"
         }
        }
       }
      }
     },
     "metadata": {},
     "output_type": "display_data"
    }
   ],
   "source": [
    "colors = ['#C10000', '#d39b81','#0476D9','#75A3BF','#F2668B','#025E73','#011F26','#026873','#03A688','#D4C2AD','#66796B','#BB0000']\n",
    "columns = ['Year','International migrant stock (% of population)', 'Country']\n",
    "df_selected = east_africa_countries_data[columns]\n",
    "df_selected['Year']=pd.to_datetime(df_selected['Year'])\n",
    "df_selected=df_selected[(df_selected['Year']>='1989') & (df_selected['Year']<='2016')]\n",
    "columns=df_selected.columns\n",
    "create_line_chart_static(df_selected,'International migrant stock (% of population)',columns[1:],colors)"
   ]
  }
 ],
 "metadata": {
  "kernelspec": {
   "display_name": ".venv",
   "language": "python",
   "name": "python3"
  },
  "language_info": {
   "codemirror_mode": {
    "name": "ipython",
    "version": 3
   },
   "file_extension": ".py",
   "mimetype": "text/x-python",
   "name": "python",
   "nbconvert_exporter": "python",
   "pygments_lexer": "ipython3",
   "version": "3.11.4"
  },
  "orig_nbformat": 4
 },
 "nbformat": 4,
 "nbformat_minor": 2
}
